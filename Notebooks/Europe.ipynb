{
 "cells": [
  {
   "attachments": {},
   "cell_type": "markdown",
   "metadata": {},
   "source": [
    "EFFETS DU COVID SUR LECONOMIE DE LA ZONE EURO"
   ]
  },
  {
   "attachments": {},
   "cell_type": "markdown",
   "metadata": {},
   "source": [
    "Les pays de la Zone Euro étudiés sont ceux présents avant le 01/01/2023 :\n",
    "Austria, Belgium, Cyprus, Estonia, Finland, France, Germany, Ireland, Italy, Latvia, Lithuania, Luxembourg, Malta, Netherlands, Portugal, Slovakia, Slovenia, Spain, Greece"
   ]
  },
  {
   "cell_type": "code",
   "execution_count": 1,
   "metadata": {},
   "outputs": [],
   "source": [
    "# Librairies\n",
    "\n",
    "import pandas as pd\n",
    "import gzip\n",
    "import numpy as np\n",
    "import seaborn as sn\n",
    "from datetime import datetime\n",
    "import matplotlib.pyplot as plt\n",
    "\n",
    "import plotly.graph_objects as go\n",
    "import plotly.express as px"
   ]
  },
  {
   "cell_type": "code",
   "execution_count": 2,
   "metadata": {},
   "outputs": [],
   "source": [
    "# Listes des pays de la zone euro (avant 2023) \n",
    "\n",
    "euro_area_19 = ['Austria', 'Belgium', 'Cyprus', 'Estonia', 'Finland', 'France', 'Germany', 'Ireland', 'Italy', 'Latvia', 'Lithuania', 'Luxembourg', 'Malta', 'Netherlands', 'Portugal', 'Slovakia', 'Slovenia', 'Spain', 'Greece']\n",
    "euro_area_19_ISO = ['AT', 'BE', 'CY', 'EE', 'FI', 'FR', 'DE', 'IE', 'IT', 'LV', 'LT', 'LU','MT', 'NL', 'PT', 'SK', 'SI', 'ES', 'GR' , 'EL']"
   ]
  },
  {
   "cell_type": "code",
   "execution_count": 5,
   "metadata": {},
   "outputs": [
    {
     "name": "stderr",
     "output_type": "stream",
     "text": [
      "C:\\Users\\selim\\AppData\\Local\\Temp\\ipykernel_7212\\2628389857.py:54: SettingWithCopyWarning: \n",
      "A value is trying to be set on a copy of a slice from a DataFrame.\n",
      "Try using .loc[row_indexer,col_indexer] = value instead\n",
      "\n",
      "See the caveats in the documentation: https://pandas.pydata.org/pandas-docs/stable/user_guide/indexing.html#returning-a-view-versus-a-copy\n",
      "  bd_gdp_eur['TIME_PERIOD'] = list(pd.PeriodIndex(bd_gdp_eur.TIME_PERIOD, freq='Q'))\n",
      "C:\\Users\\selim\\AppData\\Local\\Temp\\ipykernel_7212\\2628389857.py:56: SettingWithCopyWarning: \n",
      "A value is trying to be set on a copy of a slice from a DataFrame.\n",
      "Try using .loc[row_indexer,col_indexer] = value instead\n",
      "\n",
      "See the caveats in the documentation: https://pandas.pydata.org/pandas-docs/stable/user_guide/indexing.html#returning-a-view-versus-a-copy\n",
      "  bd_revenus_foyers_eur['TIME_PERIOD'] = list(pd.PeriodIndex(bd_revenus_foyers_eur.TIME_PERIOD, freq='Q'))\n"
     ]
    }
   ],
   "source": [
    "# Extractions des données\n",
    "\n",
    "chemin_fichier_covid = '../Data/Data 2/owid-covid-data.csv'\n",
    "chemin_europe = '../Data/Donnees_Europe/'\n",
    "\n",
    "cols_BD = ['geo', 'TIME_PERIOD', 'OBS_VALUE']\n",
    "cols_covid_eur = ['iso_code', 'continent', 'location', 'date', 'total_cases_per_million', 'new_cases_per_million', 'reproduction_rate', 'total_vaccinations_per_hundred', 'people_vaccinated_per_hundred', 'people_fully_vaccinated_per_hundred', 'stringency_index', 'hospital_beds_per_thousand', 'human_development_index']\n",
    "cols_pop = ['TIME_PERIOD', 'OBS_VALUE']\n",
    "\n",
    "hdi_Europe = pd.read_csv(chemin_europe+'Europe_human-development-index.csv')\n",
    "bd_hdi_eur = hdi_Europe.loc[hdi_Europe.Entity.isin(euro_area_19)]\n",
    "\n",
    "expenditure_travels_Europe = pd.read_csv(chemin_europe+'Europe_expenditure_travels.csv.gz', compression='gzip', sep = ',')\n",
    "bd_expenditure_travels_eur = expenditure_travels_Europe.loc[expenditure_travels_Europe.geo == 'EA19']\n",
    "\n",
    "inflation_Europe = pd.read_csv(chemin_europe+'Europe_inflation.csv.gz', compression='gzip', sep = ',')\n",
    "bd_inflation_eur = inflation_Europe.loc[inflation_Europe.geo == 'EA19']\n",
    "\n",
    "# -----------------------------------------------------------\n",
    "\n",
    "population_Europe = pd.read_csv(chemin_europe+'Europe_Population.csv', sep = ',', skiprows=5, usecols=[0,1])\n",
    "population_Europe.columns = ['TIME_PERIOD', 'OBS_VALUE']\n",
    "\n",
    "bd_population_eur = pd.DataFrame(columns = cols_pop)\n",
    "bd_population_eur.TIME_PERIOD = population_Europe.TIME_PERIOD.loc[population_Europe.TIME_PERIOD >= 2017]\n",
    "bd_population_eur.OBS_VALUE = population_Europe.OBS_VALUE.loc[population_Europe.TIME_PERIOD >= 2017]\n",
    "\n",
    "del population_Europe\n",
    "\n",
    "# -----------------------------------------------------------\n",
    "\n",
    "covid_Europe = pd.read_csv(chemin_fichier_covid, usecols= cols_covid_eur)\n",
    "\n",
    "bd_covid_eur = covid_Europe.loc[covid_Europe.location.isin(euro_area_19)]\n",
    "bd_covid_eur = bd_covid_eur[cols_covid_eur]\n",
    "bd_covid_eur['date'] = pd.to_datetime(bd_covid_eur['date'])\n",
    "bd_covid_eur['Quarter'] = bd_covid_eur['date']\n",
    "bd_covid_eur['Quarter'] = pd.PeriodIndex(bd_covid_eur['Quarter'], freq='Q').to_timestamp()\n",
    "\n",
    "del covid_Europe\n",
    "\n",
    "# -----------------------------------------------------------\n",
    "\n",
    "gdp_Europe = pd.read_csv(chemin_europe+'Europe_GDP.csv.gz', compression='gzip', sep = ',')\n",
    "bd_gdp_eur = gdp_Europe.loc[gdp_Europe.geo == 'EA19']\n",
    "\n",
    "chomage_Europe = pd.read_csv(chemin_europe+'Europe_Chomage.csv.gz', compression='gzip', sep = ',')\n",
    "bd_chomage_eur = chomage_Europe.loc[chomage_Europe.geo == 'EA19']\n",
    "bd_chomage_eur = bd_chomage_eur.loc[chomage_Europe.unit == 'PC_POP']\n",
    "\n",
    "revenus_foyers_Europe = pd.read_csv(chemin_europe+'Europe_Revenus_foyers.csv.gz', compression='gzip', sep = ',')\n",
    "bd_revenus_foyers_eur = revenus_foyers_Europe.loc[revenus_foyers_Europe.geo == 'EA19'] \n",
    "\n",
    "bd_gdp_eur['TIME_PERIOD'] = list(pd.PeriodIndex(bd_gdp_eur.TIME_PERIOD, freq='Q'))\n",
    "bd_chomage_eur['TIME_PERIOD'] = list(pd.PeriodIndex(bd_chomage_eur.TIME_PERIOD, freq='Q'))\n",
    "bd_revenus_foyers_eur['TIME_PERIOD'] = list(pd.PeriodIndex(bd_revenus_foyers_eur.TIME_PERIOD, freq='Q'))\n",
    "\n",
    "gdp_q = bd_gdp_eur.loc[pd.Period('2019Q1') <= bd_gdp_eur.TIME_PERIOD]\n",
    "gdp_q = gdp_q.loc[pd.Period('2022Q3') >= gdp_q.TIME_PERIOD]\n",
    "\n",
    "chom_q = bd_chomage_eur.loc[pd.Period('2019Q1') <= bd_chomage_eur.TIME_PERIOD]\n",
    "chom_q = chom_q.loc[pd.Period('2022Q3') >= chom_q.TIME_PERIOD]\n",
    "\n",
    "revenus_q = bd_revenus_foyers_eur.loc[pd.Period('2019Q1') <= bd_revenus_foyers_eur.TIME_PERIOD]\n",
    "revenus_q = revenus_q.loc[pd.Period('2022Q3') >= revenus_q.TIME_PERIOD]\n",
    "\n",
    "bd_quarters = pd.DataFrame(columns = ['Quarter', 'GDP', 'Chomage', 'Revenus'])\n",
    "\n",
    "bd_quarters['GDP'] = list(gdp_q.OBS_VALUE)\n",
    "bd_quarters['Chomage'] = list(chom_q.OBS_VALUE)\n",
    "bd_quarters['Revenus'] = list(revenus_q.OBS_VALUE)\n",
    "bd_quarters['Quarter'] = list(gdp_q.TIME_PERIOD)\n",
    "\n",
    "del chomage_Europe, gdp_Europe, revenus_foyers_Europe\n",
    "del bd_chomage_eur, bd_gdp_eur, bd_revenus_foyers_eur\n",
    "del gdp_q, chom_q, revenus_q\n",
    "\n",
    "# household_elec_prices_Europe = pd.read_csv(chemin_europe+'Europe_household_elec_prices.csv.gz', compression='gzip', sep = ',')\n",
    "# air_passengers_transport_Europe = pd.read_csv(chemin_europe+'Europe_air_passengers_transport.csv.gz', compression='gzip', sep = ',')\n",
    "# freight_transport_Europe = pd.read_csv(chemin_europe+'Europe_freight_transport.csv.gz', compression='gzip', sep = ',')\n",
    "# non_household_elec_prices_Europe = pd.read_csv(chemin_europe+'Europe_non_household_elec_prices.csv.gz', compression='gzip', sep = ',')"
   ]
  },
  {
   "attachments": {},
   "cell_type": "markdown",
   "metadata": {},
   "source": [
    "# "
   ]
  },
  {
   "cell_type": "markdown",
   "metadata": {},
   "source": []
  },
  {
   "cell_type": "code",
   "execution_count": null,
   "metadata": {},
   "outputs": [],
   "source": [
    "#"
   ]
  }
 ],
 "metadata": {
  "kernelspec": {
   "display_name": "projet_blanc",
   "language": "python",
   "name": "python3"
  },
  "language_info": {
   "codemirror_mode": {
    "name": "ipython",
    "version": 3
   },
   "file_extension": ".py",
   "mimetype": "text/x-python",
   "name": "python",
   "nbconvert_exporter": "python",
   "pygments_lexer": "ipython3",
   "version": "3.9.7"
  },
  "orig_nbformat": 4
 },
 "nbformat": 4,
 "nbformat_minor": 2
}
