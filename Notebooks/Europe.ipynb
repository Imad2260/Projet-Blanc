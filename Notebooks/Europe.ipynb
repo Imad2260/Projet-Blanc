{
 "cells": [
  {
   "attachments": {},
   "cell_type": "markdown",
   "metadata": {},
   "source": [
    "EFFETS DU COVID SUR LECONOMIE DE LA ZONE EURO"
   ]
  },
  {
   "attachments": {},
   "cell_type": "markdown",
   "metadata": {},
   "source": [
    "Les pays de la Zone Euro étudiés sont ceux présents avant le 01/01/2023 :\n",
    "Austria, Belgium, Cyprus, Estonia, Finland, France, Germany, Ireland, Italy, Latvia, Lithuania, Luxembourg, Malta, Netherlands, Portugal, Slovakia, Slovenia, Spain, Greece"
   ]
  },
  {
   "attachments": {},
   "cell_type": "markdown",
   "metadata": {},
   "source": [
    "LIBRAIRIES ET CONSTANTES"
   ]
  },
  {
   "cell_type": "code",
   "execution_count": 1,
   "metadata": {},
   "outputs": [],
   "source": [
    "# Librairies\n",
    "\n",
    "import pandas as pd\n",
    "import gzip\n",
    "import numpy as np\n",
    "import seaborn as sn\n",
    "from datetime import datetime\n",
    "import matplotlib.pyplot as plt\n",
    "\n",
    "import plotly.graph_objects as go\n",
    "import plotly.express as px"
   ]
  },
  {
   "cell_type": "code",
   "execution_count": 2,
   "metadata": {},
   "outputs": [],
   "source": [
    "# Fonctions \n",
    "\n",
    "def annuel_to_quart (data_frame, col_dates, col_values, col_pays = '') :\n",
    "        \n",
    "    df_values = []\n",
    "    df_dates = []\n",
    "    \n",
    "    if col_pays == '' :\n",
    "        \n",
    "        years_series = data_frame[col_dates]\n",
    "        values_series = data_frame[col_values]\n",
    "        \n",
    "        for i in range (len(years_series)-1) :\n",
    "            d = np.linspace(values_series[i], values_series[i+1], 5)\n",
    "            for j in range (4) :\n",
    "                df_values.append(d[j])\n",
    "                df_dates.append(str(years_series[i].year)+'-Q'+str(j+1))\n",
    "        \n",
    "        df_values.append(values_series[len(years_series)-1])\n",
    "        df_dates.append(str(years_series[len(years_series)-1].year)+'-Q'+str(1))\n",
    "    \n",
    "    \n",
    "        df = pd.DataFrame()\n",
    "        df['Quarter'] = df_dates  \n",
    "        df['Quarter'] = pd.PeriodIndex(df['Quarter'], freq='Q').to_timestamp()\n",
    "        df[col_values] = df_values\n",
    "    \n",
    "        return (df)\n",
    "    \n",
    "    else :\n",
    "        \n",
    "        loc = []\n",
    "        \n",
    "        for pays in list(data_frame[col_pays].unique()) : \n",
    "            years_series = data_frame.loc[data_frame[col_pays] == pays][col_dates].reset_index(drop = True)\n",
    "            values_series = data_frame.loc[data_frame[col_pays] == pays][col_values].reset_index(drop = True)\n",
    "        \n",
    "            for i in range (len(years_series)-1) :\n",
    "                d = np.linspace(values_series[i], values_series[i+1], 5)\n",
    "                for j in range (4) :\n",
    "                    loc.append(pays)\n",
    "                    df_values.append(d[j])\n",
    "                    df_dates.append(str(years_series[i].year)+'-Q'+str(j+1))\n",
    "        \n",
    "            loc.append(pays)\n",
    "            df_values.append(values_series[len(years_series)-1])\n",
    "            df_dates.append(str(years_series[len(years_series)-1].year)+'-Q'+str(1))\n",
    "    \n",
    "        df = pd.DataFrame()\n",
    "        df[col_pays] = loc\n",
    "        df['Quarter'] = df_dates  \n",
    "        df['Quarter'] = pd.PeriodIndex(df['Quarter'], freq='Q').to_timestamp()\n",
    "        df[col_values] = df_values\n",
    "    \n",
    "        return (df)\n",
    "\n",
    "def moy_pond_par_population ( vdata_frame , vcol_valeurs , vcol_dates , vcol_pays , pdata_frame , pcol_dates) :\n",
    "    \n",
    "    df = pd.DataFrame(columns = [vcol_dates, vcol_valeurs])\n",
    "    \n",
    "    vDate = []\n",
    "    MP = []\n",
    "    \n",
    "    for date in list(vdata_frame[vcol_dates].unique()) :\n",
    "        if date in pdata_frame[pcol_dates].values :\n",
    "            \n",
    "            vals = vdata_frame.loc[vdata_frame[vcol_dates] == date][[vcol_valeurs, vcol_pays]].reset_index(drop = True)\n",
    "            pop = pdata_frame.loc[pdata_frame[pcol_dates] == date]\n",
    "            \n",
    "            X = []\n",
    "            P = []\n",
    "            \n",
    "            Spond = 0\n",
    "            Spop = 0\n",
    "            \n",
    "            for pays in list(vals[vcol_pays].unique()) :\n",
    "                if pays in list(pdata_frame.columns) : \n",
    "                    \n",
    "                    Spond += (vals.loc[vals[vcol_pays] == pays][vcol_valeurs].mean()) * (pop[pays])\n",
    "                    Spop += (pop[pays])\n",
    "                    \n",
    "                    X.append(vals.loc[vals[vcol_pays] == pays][vcol_valeurs].mean())\n",
    "                    P.append(pays)\n",
    "            \n",
    "            if len (P) == (len(pdata_frame.columns)-2) : \n",
    "                moy_pond = float(Spond / Spop)\n",
    "            else :\n",
    "                moy_pond = np.nan\n",
    "            \n",
    "            vDate.append(date)\n",
    "            MP.append(moy_pond)\n",
    "            \n",
    "    df[vcol_dates] = vDate\n",
    "    df[vcol_valeurs] = MP\n",
    "\n",
    "    return (df)\n"
   ]
  },
  {
   "cell_type": "code",
   "execution_count": 3,
   "metadata": {},
   "outputs": [],
   "source": [
    "# Listes des pays de la zone euro (avant 2023) \n",
    "\n",
    "_euro_area_19 = ['Austria', 'Belgium', 'Cyprus', 'Estonia', 'Finland', 'France', 'Germany', 'Ireland', 'Italy', 'Latvia', 'Lithuania', 'Luxembourg', 'Malta', 'Netherlands', 'Portugal', 'Slovakia', 'Slovenia', 'Spain', 'Greece']\n",
    "_euro_area_19_ISO = ['AT', 'BE', 'CY', 'EE', 'FI', 'FR', 'DE', 'IE', 'IT', 'LV', 'LT', 'LU','MT', 'NL', 'PT', 'SK', 'SI', 'ES', 'GR' , 'EL']\n"
   ]
  },
  {
   "attachments": {},
   "cell_type": "markdown",
   "metadata": {},
   "source": [
    "EXTRACTION DES DONNEES"
   ]
  },
  {
   "cell_type": "code",
   "execution_count": 4,
   "metadata": {},
   "outputs": [],
   "source": [
    "# Chemins et colonnes a utiliser\n",
    "\n",
    "_chemin_fichier_covid = '../Data/Data 2/owid-covid-data.csv'\n",
    "_chemin_europe = '../Data/Donnees_Europe/'\n",
    "\n",
    "_cols_covid_eur = ['location', 'date', 'total_cases_per_million', \n",
    "                    'new_cases_per_million', 'total_deaths_per_million', \n",
    "                    'new_deaths_per_million', 'reproduction_rate', \n",
    "                    'stringency_index', 'hospital_beds_per_thousand']\n",
    "\n"
   ]
  },
  {
   "cell_type": "code",
   "execution_count": 6,
   "metadata": {},
   "outputs": [],
   "source": [
    "# Donnees relatives a la population de la Zone Euro 19 (avant 2023)\n",
    "\n",
    "# Columns : ['TIME_PERIOD', 'OBS_VALUE']\n",
    "# Periodicite : 'A'\n",
    "# Unite : 'Millions of persons'\n",
    "# Zone Geo : 'EuroArea19'\n",
    "# Dates : 1995 -> 2022\n",
    "\n",
    "population_Europe = pd.read_csv(_chemin_europe+'Europe_Population.csv', sep = ',', skiprows=5, usecols=[0,1])\n",
    "population_Europe.columns = ['TIME_PERIOD', 'Europe']\n",
    "population_Europe = population_Europe[::-1].reset_index(drop = True)\n",
    "population_Europe['TIME_PERIOD'] = pd.to_datetime(population_Europe['TIME_PERIOD'], format = \"%Y\")\n",
    "\n",
    "bd_population_eur = annuel_to_quart(population_Europe, 'TIME_PERIOD', 'Europe')\n",
    "bd_population_eur = bd_population_eur.loc[pd.Timestamp('2000-01-01') <= bd_population_eur.Quarter].reset_index(drop = True)\n",
    "\n",
    "del population_Europe\n",
    "\n",
    "# -----------------------------------------------------------------------------------------------------\n",
    "\n",
    "# Population par pays de la Zone Euro 19 (avant 2023)\n",
    "\n",
    "population_Austria = pd.read_csv(_chemin_europe+'Population_Austria.csv', skiprows=5, usecols=[0,1])\n",
    "population_Austria.columns = ['TIME_PERIOD', 'Austria']\n",
    "population_Austria = population_Austria[::-1].reset_index(drop = True)\n",
    "population_Austria['TIME_PERIOD'] = pd.to_datetime(population_Austria['TIME_PERIOD'], format = \"%Y\")\n",
    "\n",
    "bd_pop_Austria = annuel_to_quart(population_Austria, 'TIME_PERIOD', 'Austria')\n",
    "bd_pop_Austria = bd_pop_Austria.loc[pd.Timestamp('2000-01-01') <= bd_pop_Austria.Quarter].reset_index(drop = True)\n",
    "\n",
    "data_population_eur = bd_population_eur.merge(bd_pop_Austria, on = 'Quarter', how = 'outer')\n",
    "\n",
    "del population_Austria, bd_pop_Austria, bd_population_eur\n",
    "\n",
    "# -----------------------------------------------------------------------------------------------------\n",
    "\n",
    "population_Belgium = pd.read_csv(_chemin_europe+'Population_Belgium.csv', skiprows=5, usecols=[0,1])\n",
    "population_Belgium.columns = ['TIME_PERIOD', 'Belgium']\n",
    "population_Belgium = population_Belgium[::-1].reset_index(drop = True)\n",
    "population_Belgium['TIME_PERIOD'] = pd.to_datetime(population_Belgium['TIME_PERIOD'], format = \"%Y\")\n",
    "\n",
    "bd_pop_Belgium = annuel_to_quart(population_Belgium, 'TIME_PERIOD', 'Belgium')\n",
    "bd_pop_Belgium = bd_pop_Belgium.loc[pd.Timestamp('2000-01-01') <= bd_pop_Belgium.Quarter].reset_index(drop = True)\n",
    "\n",
    "data_population_eur = data_population_eur.merge(bd_pop_Belgium, on = 'Quarter', how = 'outer')\n",
    "\n",
    "del population_Belgium, bd_pop_Belgium\n",
    "\n",
    "# -----------------------------------------------------------------------------------------------------\n",
    "\n",
    "population_Cyprus = pd.read_csv(_chemin_europe+'Population_Cyprus.csv', skiprows=5, usecols=[0,1])\n",
    "population_Cyprus.columns = ['TIME_PERIOD', 'Cyprus']\n",
    "population_Cyprus = population_Cyprus[::-1].reset_index(drop = True)\n",
    "population_Cyprus['TIME_PERIOD'] = pd.to_datetime(population_Cyprus['TIME_PERIOD'], format = \"%Y\")\n",
    "\n",
    "bd_pop_Cyprus = annuel_to_quart(population_Cyprus, 'TIME_PERIOD', 'Cyprus')\n",
    "bd_pop_Cyprus = bd_pop_Cyprus.loc[pd.Timestamp('2000-01-01') <= bd_pop_Cyprus.Quarter].reset_index(drop = True)\n",
    "\n",
    "data_population_eur = data_population_eur.merge(bd_pop_Cyprus, on = 'Quarter', how = 'outer')\n",
    "\n",
    "del population_Cyprus, bd_pop_Cyprus\n",
    "\n",
    "# -----------------------------------------------------------------------------------------------------\n",
    "\n",
    "population_Estonia = pd.read_csv(_chemin_europe+'Population_Estonia.csv', skiprows=5, usecols=[0,1])\n",
    "population_Estonia.columns = ['TIME_PERIOD', 'Estonia']\n",
    "population_Estonia = population_Estonia[::-1].reset_index(drop = True)\n",
    "population_Estonia['TIME_PERIOD'] = pd.to_datetime(population_Estonia['TIME_PERIOD'], format = \"%Y\")\n",
    "\n",
    "bd_pop_Estonia = annuel_to_quart(population_Estonia, 'TIME_PERIOD', 'Estonia')\n",
    "bd_pop_Estonia = bd_pop_Estonia.loc[pd.Timestamp('2000-01-01') <= bd_pop_Estonia.Quarter].reset_index(drop = True)\n",
    "\n",
    "data_population_eur = data_population_eur.merge(bd_pop_Estonia, on = 'Quarter', how = 'outer')\n",
    "\n",
    "del population_Estonia, bd_pop_Estonia\n",
    "\n",
    "# -----------------------------------------------------------------------------------------------------\n",
    "\n",
    "population_Finland = pd.read_csv(_chemin_europe+'Population_Finland.csv', skiprows=5, usecols=[0,1])\n",
    "population_Finland.columns = ['TIME_PERIOD', 'Finland']\n",
    "population_Finland = population_Finland[::-1].reset_index(drop = True)\n",
    "population_Finland['TIME_PERIOD'] = pd.to_datetime(population_Finland['TIME_PERIOD'], format = \"%Y\")\n",
    "\n",
    "bd_pop_Finland = annuel_to_quart(population_Finland, 'TIME_PERIOD', 'Finland')\n",
    "bd_pop_Finland = bd_pop_Finland.loc[pd.Timestamp('2000-01-01') <= bd_pop_Finland.Quarter].reset_index(drop = True)\n",
    "\n",
    "data_population_eur = data_population_eur.merge(bd_pop_Finland, on = 'Quarter', how = 'outer')\n",
    "\n",
    "del population_Finland, bd_pop_Finland\n",
    "\n",
    "# -----------------------------------------------------------------------------------------------------\n",
    "\n",
    "population_France = pd.read_csv(_chemin_europe+'Population_France.csv', skiprows=5, usecols=[0,1])\n",
    "population_France.columns = ['TIME_PERIOD', 'France']\n",
    "population_France = population_France[::-1].reset_index(drop = True)\n",
    "population_France['TIME_PERIOD'] = pd.to_datetime(population_France['TIME_PERIOD'], format = \"%Y\")\n",
    "\n",
    "bd_pop_France = annuel_to_quart(population_France, 'TIME_PERIOD', 'France')\n",
    "bd_pop_France = bd_pop_France.loc[pd.Timestamp('2000-01-01') <= bd_pop_France.Quarter].reset_index(drop = True)\n",
    "\n",
    "data_population_eur = data_population_eur.merge(bd_pop_France, on = 'Quarter', how = 'outer')\n",
    "\n",
    "del population_France, bd_pop_France\n",
    "\n",
    "# -----------------------------------------------------------------------------------------------------\n",
    "\n",
    "population_Germany = pd.read_csv(_chemin_europe+'Population_Germany.csv', skiprows=5, usecols=[0,1])\n",
    "population_Germany.columns = ['TIME_PERIOD', 'Germany']\n",
    "population_Germany = population_Germany[::-1].reset_index(drop = True)\n",
    "population_Germany['TIME_PERIOD'] = pd.to_datetime(population_Germany['TIME_PERIOD'], format = \"%Y\")\n",
    "\n",
    "bd_pop_Germany = annuel_to_quart(population_Germany, 'TIME_PERIOD', 'Germany')\n",
    "bd_pop_Germany = bd_pop_Germany.loc[pd.Timestamp('2000-01-01') <= bd_pop_Germany.Quarter].reset_index(drop = True)\n",
    "\n",
    "data_population_eur = data_population_eur.merge(bd_pop_Germany, on = 'Quarter', how = 'outer')\n",
    "\n",
    "del population_Germany, bd_pop_Germany\n",
    "\n",
    "# -----------------------------------------------------------------------------------------------------\n",
    "\n",
    "population_Greece = pd.read_csv(_chemin_europe+'Population_Greece.csv', skiprows=5, usecols=[0,1])\n",
    "population_Greece.columns = ['TIME_PERIOD', 'Greece']\n",
    "population_Greece = population_Greece[::-1].reset_index(drop = True)\n",
    "population_Greece['TIME_PERIOD'] = pd.to_datetime(population_Greece['TIME_PERIOD'], format = \"%Y\")\n",
    "\n",
    "bd_pop_Greece = annuel_to_quart(population_Greece, 'TIME_PERIOD', 'Greece')\n",
    "bd_pop_Greece = bd_pop_Greece.loc[pd.Timestamp('2000-01-01') <= bd_pop_Greece.Quarter].reset_index(drop = True)\n",
    "\n",
    "data_population_eur = data_population_eur.merge(bd_pop_Greece, on = 'Quarter', how = 'outer')\n",
    "\n",
    "del population_Greece, bd_pop_Greece\n",
    "\n",
    "# -----------------------------------------------------------------------------------------------------\n",
    "\n",
    "population_Ireland = pd.read_csv(_chemin_europe+'Population_Ireland.csv', skiprows=5, usecols=[0,1])\n",
    "population_Ireland.columns = ['TIME_PERIOD', 'Ireland']\n",
    "population_Ireland = population_Ireland[::-1].reset_index(drop = True)\n",
    "population_Ireland['TIME_PERIOD'] = pd.to_datetime(population_Ireland['TIME_PERIOD'], format = \"%Y\")\n",
    "\n",
    "bd_pop_Ireland = annuel_to_quart(population_Ireland, 'TIME_PERIOD', 'Ireland')\n",
    "bd_pop_Ireland = bd_pop_Ireland.loc[pd.Timestamp('2000-01-01') <= bd_pop_Ireland.Quarter].reset_index(drop = True)\n",
    "\n",
    "data_population_eur = data_population_eur.merge(bd_pop_Ireland, on = 'Quarter', how = 'outer')\n",
    "\n",
    "del population_Ireland, bd_pop_Ireland\n",
    "\n",
    "# -----------------------------------------------------------------------------------------------------\n",
    "\n",
    "population_Italy = pd.read_csv(_chemin_europe+'Population_Italy.csv', skiprows=5, usecols=[0,1])\n",
    "population_Italy.columns = ['TIME_PERIOD', 'Italy']\n",
    "population_Italy = population_Italy[::-1].reset_index(drop = True)\n",
    "population_Italy['TIME_PERIOD'] = pd.to_datetime(population_Italy['TIME_PERIOD'], format = \"%Y\")\n",
    "\n",
    "bd_pop_Italy = annuel_to_quart(population_Italy, 'TIME_PERIOD', 'Italy')\n",
    "bd_pop_Italy = bd_pop_Italy.loc[pd.Timestamp('2000-01-01') <= bd_pop_Italy.Quarter].reset_index(drop = True)\n",
    "\n",
    "data_population_eur = data_population_eur.merge(bd_pop_Italy, on = 'Quarter', how = 'outer')\n",
    "\n",
    "del population_Italy, bd_pop_Italy\n",
    "\n",
    "# -----------------------------------------------------------------------------------------------------\n",
    "\n",
    "population_Latvia = pd.read_csv(_chemin_europe+'Population_Latvia.csv', skiprows=5, usecols=[0,1])\n",
    "population_Latvia.columns = ['TIME_PERIOD', 'Latvia']\n",
    "population_Latvia = population_Latvia[::-1].reset_index(drop = True)\n",
    "population_Latvia['TIME_PERIOD'] = pd.to_datetime(population_Latvia['TIME_PERIOD'], format = \"%Y\")\n",
    "\n",
    "bd_pop_Latvia = annuel_to_quart(population_Latvia, 'TIME_PERIOD', 'Latvia')\n",
    "bd_pop_Latvia = bd_pop_Latvia.loc[pd.Timestamp('2000-01-01') <= bd_pop_Latvia.Quarter].reset_index(drop = True)\n",
    "\n",
    "data_population_eur = data_population_eur.merge(bd_pop_Latvia, on = 'Quarter', how = 'outer')\n",
    "\n",
    "del population_Latvia, bd_pop_Latvia\n",
    "\n",
    "# -----------------------------------------------------------------------------------------------------\n",
    "\n",
    "population_Lithuania = pd.read_csv(_chemin_europe+'Population_Lithuania.csv', skiprows=5, usecols=[0,1])\n",
    "population_Lithuania.columns = ['TIME_PERIOD', 'Lithuania']\n",
    "population_Lithuania = population_Lithuania[::-1].reset_index(drop = True)\n",
    "population_Lithuania['TIME_PERIOD'] = pd.to_datetime(population_Lithuania['TIME_PERIOD'], format = \"%Y\")\n",
    "\n",
    "bd_pop_Lithuania = annuel_to_quart(population_Lithuania, 'TIME_PERIOD', 'Lithuania')\n",
    "bd_pop_Lithuania = bd_pop_Lithuania.loc[pd.Timestamp('2000-01-01') <= bd_pop_Lithuania.Quarter].reset_index(drop = True)\n",
    "\n",
    "data_population_eur = data_population_eur.merge(bd_pop_Lithuania, on = 'Quarter', how = 'outer')\n",
    "\n",
    "del population_Lithuania, bd_pop_Lithuania\n",
    "\n",
    "# -----------------------------------------------------------------------------------------------------\n",
    "\n",
    "population_Luxembourg = pd.read_csv(_chemin_europe+'Population_Luxembourg.csv', skiprows=5, usecols=[0,1])\n",
    "population_Luxembourg.columns = ['TIME_PERIOD', 'Luxembourg']\n",
    "population_Luxembourg = population_Luxembourg[::-1].reset_index(drop = True)\n",
    "population_Luxembourg['TIME_PERIOD'] = pd.to_datetime(population_Luxembourg['TIME_PERIOD'], format = \"%Y\")\n",
    "\n",
    "bd_pop_Luxembourg = annuel_to_quart(population_Luxembourg, 'TIME_PERIOD', 'Luxembourg')\n",
    "bd_pop_Luxembourg = bd_pop_Luxembourg.loc[pd.Timestamp('2000-01-01') <= bd_pop_Luxembourg.Quarter].reset_index(drop = True)\n",
    "\n",
    "data_population_eur = data_population_eur.merge(bd_pop_Luxembourg, on = 'Quarter', how = 'outer')\n",
    "\n",
    "del population_Luxembourg, bd_pop_Luxembourg\n",
    "\n",
    "# -----------------------------------------------------------------------------------------------------\n",
    "\n",
    "population_Malta = pd.read_csv(_chemin_europe+'Population_Malta.csv', skiprows=5, usecols=[0,1])\n",
    "population_Malta.columns = ['TIME_PERIOD', 'Malta']\n",
    "population_Malta = population_Malta[::-1].reset_index(drop = True)\n",
    "population_Malta['TIME_PERIOD'] = pd.to_datetime(population_Malta['TIME_PERIOD'], format = \"%Y\")\n",
    "\n",
    "bd_pop_Malta = annuel_to_quart(population_Malta, 'TIME_PERIOD', 'Malta')\n",
    "bd_pop_Malta = bd_pop_Malta.loc[pd.Timestamp('2000-01-01') <= bd_pop_Malta.Quarter].reset_index(drop = True)\n",
    "\n",
    "data_population_eur = data_population_eur.merge(bd_pop_Malta, on = 'Quarter', how = 'outer')\n",
    "\n",
    "del population_Malta, bd_pop_Malta\n",
    "\n",
    "# -----------------------------------------------------------------------------------------------------\n",
    "\n",
    "population_Netherlands = pd.read_csv(_chemin_europe+'Population_Netherlands.csv', skiprows=5, usecols=[0,1])\n",
    "population_Netherlands.columns = ['TIME_PERIOD', 'Netherlands']\n",
    "population_Netherlands = population_Netherlands[::-1].reset_index(drop = True)\n",
    "population_Netherlands['TIME_PERIOD'] = pd.to_datetime(population_Netherlands['TIME_PERIOD'], format = \"%Y\")\n",
    "\n",
    "bd_pop_Netherlands = annuel_to_quart(population_Netherlands, 'TIME_PERIOD', 'Netherlands')\n",
    "bd_pop_Netherlands = bd_pop_Netherlands.loc[pd.Timestamp('2000-01-01') <= bd_pop_Netherlands.Quarter].reset_index(drop = True)\n",
    "\n",
    "data_population_eur = data_population_eur.merge(bd_pop_Netherlands, on = 'Quarter', how = 'outer')\n",
    "\n",
    "del population_Netherlands, bd_pop_Netherlands\n",
    "\n",
    "# -----------------------------------------------------------------------------------------------------\n",
    "\n",
    "population_Portugal = pd.read_csv(_chemin_europe+'Population_Portugal.csv', skiprows=5, usecols=[0,1])\n",
    "population_Portugal.columns = ['TIME_PERIOD', 'Portugal']\n",
    "population_Portugal = population_Portugal[::-1].reset_index(drop = True)\n",
    "population_Portugal['TIME_PERIOD'] = pd.to_datetime(population_Portugal['TIME_PERIOD'], format = \"%Y\")\n",
    "\n",
    "bd_pop_Portugal = annuel_to_quart(population_Portugal, 'TIME_PERIOD', 'Portugal')\n",
    "bd_pop_Portugal = bd_pop_Portugal.loc[pd.Timestamp('2000-01-01') <= bd_pop_Portugal.Quarter].reset_index(drop = True)\n",
    "\n",
    "data_population_eur = data_population_eur.merge(bd_pop_Portugal, on = 'Quarter', how = 'outer')\n",
    "\n",
    "del population_Portugal, bd_pop_Portugal\n",
    "\n",
    "# -----------------------------------------------------------------------------------------------------\n",
    "\n",
    "population_Slovakia = pd.read_csv(_chemin_europe+'Population_Slovakia.csv', skiprows=5, usecols=[0,1])\n",
    "population_Slovakia.columns = ['TIME_PERIOD', 'Slovakia']\n",
    "population_Slovakia = population_Slovakia[::-1].reset_index(drop = True)\n",
    "population_Slovakia['TIME_PERIOD'] = pd.to_datetime(population_Slovakia['TIME_PERIOD'], format = \"%Y\")\n",
    "\n",
    "bd_pop_Slovakia = annuel_to_quart(population_Slovakia, 'TIME_PERIOD', 'Slovakia')\n",
    "bd_pop_Slovakia = bd_pop_Slovakia.loc[pd.Timestamp('2000-01-01') <= bd_pop_Slovakia.Quarter].reset_index(drop = True)\n",
    "\n",
    "data_population_eur = data_population_eur.merge(bd_pop_Slovakia, on = 'Quarter', how = 'outer')\n",
    "\n",
    "del population_Slovakia, bd_pop_Slovakia\n",
    "\n",
    "# -----------------------------------------------------------------------------------------------------\n",
    "\n",
    "population_Slovenia = pd.read_csv(_chemin_europe+'Population_Slovenia.csv', skiprows=5, usecols=[0,1])\n",
    "population_Slovenia.columns = ['TIME_PERIOD', 'Slovenia']\n",
    "population_Slovenia = population_Slovenia[::-1].reset_index(drop = True)\n",
    "population_Slovenia['TIME_PERIOD'] = pd.to_datetime(population_Slovenia['TIME_PERIOD'], format = \"%Y\")\n",
    "\n",
    "bd_pop_Slovenia = annuel_to_quart(population_Slovenia, 'TIME_PERIOD', 'Slovenia')\n",
    "bd_pop_Slovenia = bd_pop_Slovenia.loc[pd.Timestamp('2000-01-01') <= bd_pop_Slovenia.Quarter].reset_index(drop = True)\n",
    "\n",
    "data_population_eur = data_population_eur.merge(bd_pop_Slovenia, on = 'Quarter', how = 'outer')\n",
    "\n",
    "del population_Slovenia, bd_pop_Slovenia\n",
    "\n",
    "# -----------------------------------------------------------------------------------------------------\n",
    "\n",
    "population_Spain = pd.read_csv(_chemin_europe+'Population_Spain.csv', skiprows=5, usecols=[0,1])\n",
    "population_Spain.columns = ['TIME_PERIOD', 'Spain']\n",
    "population_Spain = population_Spain[::-1].reset_index(drop = True)\n",
    "population_Spain['TIME_PERIOD'] = pd.to_datetime(population_Spain['TIME_PERIOD'], format = \"%Y\")\n",
    "\n",
    "bd_pop_Spain = annuel_to_quart(population_Spain, 'TIME_PERIOD', 'Spain')\n",
    "bd_pop_Spain = bd_pop_Spain.loc[pd.Timestamp('2000-01-01') <= bd_pop_Spain.Quarter].reset_index(drop = True)\n",
    "\n",
    "data_population_eur = data_population_eur.merge(bd_pop_Spain, on = 'Quarter', how = 'outer')\n",
    "\n",
    "del population_Spain, bd_pop_Spain\n"
   ]
  },
  {
   "cell_type": "code",
   "execution_count": null,
   "metadata": {},
   "outputs": [],
   "source": [
    "# Donnees relatives a la COVID\n",
    "\n",
    "covid_Europe = pd.read_csv(_chemin_fichier_covid, usecols= _cols_covid_eur)\n",
    "\n",
    "bd_covid_eur = covid_Europe.loc[covid_Europe.location.isin(_euro_area_19)]\n",
    "bd_covid_eur['date'] = pd.to_datetime(bd_covid_eur['date'])\n",
    "bd_covid_eur['Quarter'] = bd_covid_eur['date']\n",
    "bd_covid_eur['Quarter'] = pd.PeriodIndex(bd_covid_eur['Quarter'], freq='Q').to_timestamp()\n",
    "\n",
    "quarter = []\n",
    "\n",
    "mean_total_cases_per_million = []\n",
    "mean_new_cases_per_million = []\n",
    "var_new_cases = []\n",
    "\n",
    "mean_total_deaths_per_million = []\n",
    "mean_new_deaths_per_million = []\n",
    "var_new_deaths = []\n",
    "\n",
    "mean_reproduction_rate = []\n",
    "var_reproduction_rate_moy = []\n",
    "reproduction_rate_moy_pond = []\n",
    "var_reproduction_rate_moy_pond = []\n",
    "\n",
    "mean_stringency_index = []\n",
    "var_stringency_index_moy = []\n",
    "stringency_index_moy_pond = []\n",
    "var_stringency_index_moy_pond = []\n",
    "\n",
    "mean_hospital_beds_per_thousand = []\n",
    "\n",
    "for q in bd_covid_eur.Quarter.unique() :\n",
    "\n",
    "    covid_q = bd_covid_eur.loc[bd_covid_eur.Quarter == q]\n",
    "    if covid_q['location'].unique().shape[0] == len(_euro_area_19) :\n",
    "        \n",
    "        quarter.append(q)\n",
    "        \n",
    "        mean_total_cases_per_million.append(covid_q.total_cases_per_million.values.mean())\n",
    "        mean_new_cases_per_million.append(covid_q.new_cases_per_million.values.mean())\n",
    "        \n",
    "        mean_total_deaths_per_million.append(covid_q.total_deaths_per_million.values.mean())\n",
    "        mean_new_deaths_per_million.append(covid_q.new_deaths_per_million.values.mean())\n",
    "        \n",
    "        mean_reproduction_rate.append(covid_q.reproduction_rate.values.mean())\n",
    "        \n",
    "        mean_stringency_index.append(covid_q.stringency_index.values.mean())\n",
    "        \n",
    "        mean_hospital_beds_per_thousand.append(covid_q.hospital_beds_per_thousand.values.mean())\n",
    "\n",
    "    else : \n",
    "\n",
    "        quarter.append(q)\n",
    "        \n",
    "        mean_total_cases_per_million.append(np.nan)\n",
    "        mean_new_cases_per_million.append(np.nan)\n",
    "        \n",
    "        mean_total_deaths_per_million.append(np.nan)\n",
    "        mean_new_deaths_per_million.append(np.nan)\n",
    "        \n",
    "        mean_reproduction_rate.append(np.nan)\n",
    "        \n",
    "        mean_stringency_index.append(np.nan)\n",
    "        \n",
    "        mean_hospital_beds_per_thousand.append(np.nan)\n",
    "\n",
    "del q, covid_q\n",
    "\n",
    "data_covid_eur = pd.DataFrame()\n",
    "\n",
    "data_covid_eur['Quarter'] = quarter\n",
    "\n",
    "data_covid_eur['total_cases_per_million'] = mean_total_cases_per_million\n",
    "data_covid_eur['new_cases_per_million'] = mean_new_cases_per_million\n",
    "\n",
    "var_new_cases.append(np.nan)\n",
    "for i in range (1,len(data_covid_eur['new_cases_per_million'])) :\n",
    "    val0 = data_covid_eur['new_cases_per_million'].values[i-1]\n",
    "    val1 = data_covid_eur['new_cases_per_million'].values[i]\n",
    "    var_new_cases.append((val1 - val0)/val0)\n",
    "del i, val0, val1\n",
    "data_covid_eur['var_new_cases_per_million'] = var_new_cases\n",
    "\n",
    "data_covid_eur['total_deaths_per_million'] = mean_total_deaths_per_million\n",
    "data_covid_eur['new_deaths_per_million'] = mean_new_deaths_per_million\n",
    "\n",
    "var_new_deaths.append(np.nan)\n",
    "for i in range (1,len(data_covid_eur['new_deaths_per_million'])) :\n",
    "    val0 = data_covid_eur['new_deaths_per_million'].values[i-1]\n",
    "    val1 = data_covid_eur['new_deaths_per_million'].values[i]\n",
    "    var_new_deaths.append((val1 - val0)/val0)\n",
    "del i, val0, val1\n",
    "data_covid_eur['var_new_deaths_per_million'] = var_new_deaths\n",
    "\n",
    "data_covid_eur['reproduction_rate_moy'] = mean_reproduction_rate\n",
    "\n",
    "var_reproduction_rate_moy.append(np.nan)\n",
    "for i in range (1,len(data_covid_eur['reproduction_rate_moy'])) :\n",
    "    val0 = data_covid_eur['reproduction_rate_moy'].values[i-1]\n",
    "    val1 = data_covid_eur['reproduction_rate_moy'].values[i]\n",
    "    var_reproduction_rate_moy.append((val1 - val0)/val0)\n",
    "del i, val0, val1\n",
    "data_covid_eur['var_reproduction_rate_moy'] = var_reproduction_rate_moy\n",
    "\n",
    "data_covid_eur = data_covid_eur.merge(moy_pond_par_population(bd_covid_eur, 'reproduction_rate', \n",
    "                                                              'Quarter', 'location', data_population_eur, 'Quarter') , \n",
    "                                      on = 'Quarter', how = 'outer')\n",
    "cols = list(data_covid_eur.columns[:-1])\n",
    "cols.append('reproduction_rate_moy_pond')\n",
    "data_covid_eur.columns = cols\n",
    "del cols\n",
    "\n",
    "var_reproduction_rate_moy_pond.append(np.nan)\n",
    "for i in range (1,len(data_covid_eur['reproduction_rate_moy_pond'])) :\n",
    "    val0 = data_covid_eur['reproduction_rate_moy_pond'].values[i-1]\n",
    "    val1 = data_covid_eur['reproduction_rate_moy_pond'].values[i]\n",
    "    var_reproduction_rate_moy_pond.append((val1 - val0)/val0)\n",
    "del i, val0, val1\n",
    "data_covid_eur['var_reproduction_rate_moy_pond'] = var_reproduction_rate_moy_pond\n",
    "\n",
    "data_covid_eur['stringency_index_moy'] = mean_stringency_index\n",
    "\n",
    "var_stringency_index_moy.append(np.nan)\n",
    "for i in range (1,len(data_covid_eur['stringency_index_moy'])) :\n",
    "    val0 = data_covid_eur['stringency_index_moy'].values[i-1]\n",
    "    val1 = data_covid_eur['stringency_index_moy'].values[i]\n",
    "    var_stringency_index_moy.append((val1 - val0)/val0)\n",
    "del i, val0, val1\n",
    "data_covid_eur['var_STI_moy'] = var_stringency_index_moy\n",
    "\n",
    "data_covid_eur = data_covid_eur.merge(moy_pond_par_population(bd_covid_eur, 'stringency_index', \n",
    "                                                              'Quarter', 'location', data_population_eur, 'Quarter') , \n",
    "                                      on = 'Quarter', how = 'outer')\n",
    "cols = list(data_covid_eur.columns[:-1])\n",
    "cols.append('stringency_index_moy_pond')\n",
    "data_covid_eur.columns = cols\n",
    "del cols\n",
    "\n",
    "var_stringency_index_moy_pond.append(np.nan)\n",
    "for i in range (1,len(data_covid_eur['stringency_index_moy_pond'])) :\n",
    "    val0 = data_covid_eur['stringency_index_moy_pond'].values[i-1]\n",
    "    val1 = data_covid_eur['stringency_index_moy_pond'].values[i]\n",
    "    var_stringency_index_moy_pond.append((val1 - val0)/val0)\n",
    "del i, val0, val1\n",
    "data_covid_eur['var_STI_moy_pond'] = var_stringency_index_moy_pond\n",
    "\n",
    "data_covid_eur['hospital_beds_per_thousand'] = mean_hospital_beds_per_thousand\n",
    "\n",
    "del covid_Europe, bd_covid_eur\n",
    "del quarter\n",
    "del mean_total_cases_per_million, mean_new_cases_per_million\n",
    "del mean_total_deaths_per_million, mean_new_deaths_per_million\n",
    "del var_new_cases, var_new_deaths\n",
    "del mean_reproduction_rate, var_reproduction_rate_moy\n",
    "del reproduction_rate_moy_pond, var_reproduction_rate_moy_pond\n",
    "del mean_stringency_index, var_stringency_index_moy\n",
    "del stringency_index_moy_pond, var_stringency_index_moy_pond\n",
    "del mean_hospital_beds_per_thousand\n"
   ]
  },
  {
   "cell_type": "code",
   "execution_count": 9,
   "metadata": {},
   "outputs": [],
   "source": [
    "# Donnees relatives a la sante economique d'un pays \n",
    "\n",
    "# PIB \n",
    "\n",
    "gdp_Europe = pd.read_csv(_chemin_europe+'Europe_GDP.csv.gz', compression='gzip', sep = ',')\n",
    "\n",
    "bd_gdp_eur = gdp_Europe.loc[gdp_Europe.geo == 'EA19'].reset_index(drop = True)\n",
    "bd_gdp_eur['Quarter'] = pd.PeriodIndex(bd_gdp_eur.TIME_PERIOD, freq='Q').to_timestamp()\n",
    "\n",
    "bd_gdp_eur = bd_gdp_eur.drop(columns = ['DATAFLOW', 'LAST UPDATE', 'freq', 'unit', 's_adj', 'na_item', 'geo','TIME_PERIOD', 'OBS_FLAG'])\n",
    "bd_gdp_eur.columns = ['GDP', 'Quarter']\n",
    "\n",
    "bd_gdp_eur = bd_gdp_eur.loc[pd.Timestamp('2018-01-01') <= bd_gdp_eur.Quarter].reset_index(drop = True)\n",
    "\n",
    "del gdp_Europe\n",
    "\n",
    "# ----------------------------------------------------------------------------------------------------------------\n",
    "\n",
    "# Chomage \n",
    "\n",
    "chomage_Europe = pd.read_csv(_chemin_europe+'Europe_Chomage.csv.gz', compression='gzip', sep = ',')\n",
    "\n",
    "bd_chomage_eur = chomage_Europe.loc[chomage_Europe.geo == 'EA19'].reset_index(drop = True)\n",
    "bd_chomage_eur = bd_chomage_eur.loc[bd_chomage_eur.unit == 'PC_POP'].reset_index(drop = True)\n",
    "bd_chomage_eur['Quarter'] = pd.PeriodIndex(bd_chomage_eur.TIME_PERIOD, freq='Q').to_timestamp()\n",
    "\n",
    "bd_chomage_eur = bd_chomage_eur.drop(columns = ['DATAFLOW', 'LAST UPDATE', 'freq', 's_adj', 'age', 'unit', 'sex', 'geo', 'TIME_PERIOD', 'OBS_FLAG'])\n",
    "bd_chomage_eur.columns = ['Chomage', 'Quarter']\n",
    "\n",
    "bd_chomage_eur = bd_chomage_eur.loc[pd.Timestamp('2018-01-01') <= bd_chomage_eur.Quarter].reset_index(drop = True)\n",
    "\n",
    "del chomage_Europe\n",
    "\n",
    "# ----------------------------------------------------------------------------------------------------------------\n",
    "\n",
    "# Variations du taux de chomage\n",
    "\n",
    "bd_var_chom = pd.DataFrame(columns = ['Quarter', 'var_chomage'])\n",
    "var_chom_quart = [bd_chomage_eur.Quarter.values[0]]\n",
    "var_chom_val = [np.nan]\n",
    "\n",
    "for i in range (1,len(bd_chomage_eur.Chomage)) :\n",
    "    val0 = bd_chomage_eur.Chomage.values[i-1]\n",
    "    val1 = bd_chomage_eur.Chomage.values[i]\n",
    "    var_chom_val.append((val1 - val0)/val0)\n",
    "    var_chom_quart.append(bd_chomage_eur.Quarter.values[i])\n",
    "    \n",
    "bd_var_chom.Quarter = var_chom_quart\n",
    "bd_var_chom.var_chomage = var_chom_val\n",
    "\n",
    "del var_chom_quart, var_chom_val, i, val0, val1\n",
    "\n",
    "# ----------------------------------------------------------------------------------------------------------------\n",
    "\n",
    "# Revenus par foyers \n",
    "\n",
    "revenus_foyers_Europe = pd.read_csv(_chemin_europe+'Europe_Revenus_foyers.csv.gz', compression='gzip', sep = ',')\n",
    "\n",
    "bd_revenus_foyers_eur = revenus_foyers_Europe.loc[revenus_foyers_Europe.geo == 'EA19'] .reset_index(drop = True)\n",
    "bd_revenus_foyers_eur['Quarter'] = pd.PeriodIndex(bd_revenus_foyers_eur.TIME_PERIOD, freq='Q').to_timestamp()\n",
    "\n",
    "bd_revenus_foyers_eur = bd_revenus_foyers_eur.drop(columns = ['DATAFLOW', 'LAST UPDATE', 'freq', 'unit', 's_adj', 'na_item', 'sector', 'geo', 'TIME_PERIOD', 'OBS_FLAG'])\n",
    "bd_revenus_foyers_eur.columns = ['Revenus', 'Quarter']\n",
    "\n",
    "bd_revenus_foyers_eur = bd_revenus_foyers_eur.loc[pd.Timestamp('2018-01-01') <= bd_revenus_foyers_eur.Quarter].reset_index(drop = True)\n",
    "\n",
    "del revenus_foyers_Europe\n",
    "\n",
    "# ----------------------------------------------------------------------------------------------------------------\n",
    "\n",
    "# Inflation \n",
    "\n",
    "inflation_Europe = pd.read_csv(_chemin_europe+'Europe_inflation.csv.gz', compression='gzip', sep = ',')\n",
    "\n",
    "# ----------------------------------------------------------------------------------------------------------------\n",
    "\n",
    "# HDI\n",
    "\n",
    "hdi_Europe = pd.read_csv(_chemin_europe+'Europe_human-development-index.csv')\n",
    "\n",
    "bd_hdi_eur2 = hdi_Europe.loc[hdi_Europe.Entity.isin(_euro_area_19)].reset_index(drop = True)\n",
    "bd_hdi_eur2['Year'] = pd.to_datetime(bd_hdi_eur2['Year'], format = \"%Y\")\n",
    "bd_hdi_eur = bd_hdi_eur = annuel_to_quart(bd_hdi_eur2, 'Year', 'Human Development Index', 'Entity')\n",
    "bd_hdi_eur = bd_hdi_eur.loc[pd.Timestamp('2018-01-01') <= bd_hdi_eur.Quarter].reset_index(drop = True)\n",
    "\n",
    "bd_hdi_eur_moy_pond = moy_pond_par_population(bd_hdi_eur, 'Human Development Index', \n",
    "                                              'Quarter', 'Entity', data_population_eur, 'Quarter')\n",
    "bd_hdi_eur_moy_pond.columns = ['Quarter', 'HDI_moy_pond']\n",
    "\n",
    "del hdi_Europe, bd_hdi_eur, bd_hdi_eur2\n",
    "\n",
    "# ----------------------------------------------------------------------------------------------------------------\n",
    "\n",
    "# Expenditure\n",
    "\n",
    "expenditure_travels_Europe = pd.read_csv(_chemin_europe+'Europe_expenditure_travels.csv.gz', compression='gzip', sep = ',')\n",
    "\n",
    "bd_expenditure_travels_eur2 = expenditure_travels_Europe.loc[expenditure_travels_Europe.geo == 'EA19'].reset_index(drop = True)\n",
    "bd_expenditure_travels_eur2['TIME_PERIOD'] = pd.to_datetime(bd_expenditure_travels_eur2['TIME_PERIOD'], format = \"%Y\")\n",
    "\n",
    "bd_expenditure_travels_eur2 = bd_expenditure_travels_eur2.drop(columns = ['DATAFLOW', 'LAST UPDATE', 'freq', 'purpose', 'duration', 'c_dest', 'expend', 'statinfo', 'unit', 'geo', 'OBS_FLAG'])\n",
    "bd_expenditure_travels_eur2.columns = ['TIME_PERIOD', 'Expenditure_travels']\n",
    "\n",
    "bd_expenditure_travels_eur = annuel_to_quart(bd_expenditure_travels_eur2, 'TIME_PERIOD', 'Expenditure_travels')\n",
    "\n",
    "bd_expenditure_travels_eur = bd_expenditure_travels_eur.loc[pd.Timestamp('2018-01-01') <= bd_expenditure_travels_eur.Quarter].reset_index(drop = True)\n",
    "\n",
    "del expenditure_travels_Europe, bd_expenditure_travels_eur2\n",
    "\n",
    "# ----------------------------------------------------------------------------------------------------------------\n",
    "\n",
    "# Data frame\n",
    "\n",
    "data_eco_eur = bd_gdp_eur[['Quarter', 'GDP']].merge(bd_chomage_eur, on = 'Quarter', how = 'outer')\n",
    "data_eco_eur = data_eco_eur.merge(bd_var_chom, on='Quarter', how='outer')\n",
    "data_eco_eur = data_eco_eur.merge(bd_revenus_foyers_eur, on='Quarter', how='outer')\n",
    "data_eco_eur = data_eco_eur.merge(bd_expenditure_travels_eur, on='Quarter', how='outer')\n",
    "data_eco_eur = data_eco_eur.merge(bd_hdi_eur_moy_pond, on = 'Quarter', how = 'outer')\n",
    "\n",
    "# ----------------------------------------------------------------------------------------------------------------\n",
    "\n",
    "del bd_gdp_eur, bd_chomage_eur, bd_var_chom, bd_revenus_foyers_eur, bd_expenditure_travels_eur\n",
    "del bd_hdi_eur_moy_pond\n"
   ]
  },
  {
   "attachments": {},
   "cell_type": "markdown",
   "metadata": {},
   "source": [
    "VISUALISATION"
   ]
  },
  {
   "cell_type": "code",
   "execution_count": 59,
   "metadata": {},
   "outputs": [
    {
     "name": "stdout",
     "output_type": "stream",
     "text": [
      "             GDP    Chomage  var_chomage    Revenus  Expenditure_travels  \\\n",
      "count  12.000000  12.000000    12.000000  11.000000         5.000000e+00   \n",
      "mean    0.333333   4.800000    -0.007526   0.279091         2.123185e+11   \n",
      "std     5.285543   0.402266     0.061192   5.442816         2.465112e+10   \n",
      "min   -11.500000   4.300000    -0.061224 -10.170000         1.811371e+11   \n",
      "25%    -0.075000   4.400000    -0.040281  -2.010000         1.967278e+11   \n",
      "50%     0.500000   4.750000    -0.021780   0.090000         2.123185e+11   \n",
      "75%     1.175000   5.125000     0.000000   2.065000         2.279093e+11   \n",
      "max    12.400000   5.500000     0.170213  12.120000         2.435000e+11   \n",
      "\n",
      "       HDI_moy_pond  total_cases_per_million  new_cases_per_million  \\\n",
      "count      5.000000                11.000000              11.000000   \n",
      "mean       0.911712            166134.233241             460.842158   \n",
      "std        0.001150            172406.959036             590.228092   \n",
      "min        0.910258              1989.546282              18.569765   \n",
      "25%        0.910985             34058.816228             169.231626   \n",
      "50%        0.911712             84949.284229             308.919621   \n",
      "75%        0.912439            308850.570945             515.548557   \n",
      "max        0.913166            448887.468949            2148.362380   \n",
      "\n",
      "       var_new_cases_per_million  total_deaths_per_million  ...  \\\n",
      "count                  10.000000                 10.000000  ...   \n",
      "mean                    1.261180               1487.098578  ...   \n",
      "std                     2.791753                779.466968  ...   \n",
      "min                    -0.736359                216.237364  ...   \n",
      "25%                    -0.304203               1064.265447  ...   \n",
      "50%                     0.048461               1510.228448  ...   \n",
      "75%                     1.765836               2152.682462  ...   \n",
      "max                     8.473514               2431.722983  ...   \n",
      "\n",
      "       var_new_deaths_per_million  reproduction_rate_moy  \\\n",
      "count                    9.000000              11.000000   \n",
      "mean                     2.475436               1.039500   \n",
      "std                      6.972805               0.119922   \n",
      "min                     -0.878539               0.869913   \n",
      "25%                     -0.594406               0.970159   \n",
      "50%                      0.042515               1.007520   \n",
      "75%                      0.117150               1.145978   \n",
      "max                     20.719915               1.217368   \n",
      "\n",
      "       var_reproduction_rate_moy  reproduction_rate_moy_pond  \\\n",
      "count                  10.000000                    9.000000   \n",
      "mean                    0.025402                    1.198081   \n",
      "std                     0.183401                    0.415536   \n",
      "min                    -0.136580                    0.856959   \n",
      "25%                    -0.103211                    1.024755   \n",
      "50%                    -0.027461                    1.127552   \n",
      "75%                     0.034621                    1.224443   \n",
      "max                     0.393936                    2.245630   \n",
      "\n",
      "       var_reproduction_rate_moy_pond  stringency_index_moy  var_STI_moy  \\\n",
      "count                        8.000000             11.000000    10.000000   \n",
      "mean                        -0.029635             44.199179    -0.125896   \n",
      "std                          0.320274             20.501588     0.220340   \n",
      "min                         -0.618388             13.483684    -0.463157   \n",
      "25%                         -0.127003             29.832868    -0.258527   \n",
      "50%                         -0.085149             44.760681    -0.132552   \n",
      "75%                          0.142665             61.389947    -0.045837   \n",
      "max                          0.428823             69.787357     0.304727   \n",
      "\n",
      "       stringency_index_moy_pond  var_STI_moy_pond  hospital_beds_per_thousand  \n",
      "count                   9.000000          8.000000                1.200000e+01  \n",
      "mean                   55.620562          0.108437                4.728158e+00  \n",
      "std                    15.222289          0.514821                9.276721e-16  \n",
      "min                    31.159950         -0.258099                4.728158e+00  \n",
      "25%                    43.883236         -0.145784                4.728158e+00  \n",
      "50%                    54.903545         -0.080110                4.728158e+00  \n",
      "75%                    67.305838          0.128309                4.728158e+00  \n",
      "max                    73.752442          1.318555                4.728158e+00  \n",
      "\n",
      "[8 rows x 21 columns]\n"
     ]
    }
   ],
   "source": [
    "\n",
    "data_eur = data_eco_eur.merge(data_covid_eur, on='Quarter', how='inner')\n",
    "# print (data_eur.head(5))\n",
    "print (data_eur.describe())\n"
   ]
  },
  {
   "cell_type": "code",
   "execution_count": 57,
   "metadata": {},
   "outputs": [
    {
     "data": {
      "text/html": [
       "<div>\n",
       "<style scoped>\n",
       "    .dataframe tbody tr th:only-of-type {\n",
       "        vertical-align: middle;\n",
       "    }\n",
       "\n",
       "    .dataframe tbody tr th {\n",
       "        vertical-align: top;\n",
       "    }\n",
       "\n",
       "    .dataframe thead th {\n",
       "        text-align: right;\n",
       "    }\n",
       "</style>\n",
       "<table border=\"1\" class=\"dataframe\">\n",
       "  <thead>\n",
       "    <tr style=\"text-align: right;\">\n",
       "      <th></th>\n",
       "      <th>GDP</th>\n",
       "      <th>Chomage</th>\n",
       "      <th>var_chomage</th>\n",
       "      <th>Revenus</th>\n",
       "      <th>Expenditure_travels</th>\n",
       "      <th>HDI_moy_pond</th>\n",
       "      <th>total_cases_per_million</th>\n",
       "      <th>new_cases_per_million</th>\n",
       "      <th>var_new_cases_per_million</th>\n",
       "      <th>total_deaths_per_million</th>\n",
       "      <th>...</th>\n",
       "      <th>var_new_deaths_per_million</th>\n",
       "      <th>reproduction_rate_moy</th>\n",
       "      <th>var_reproduction_rate_moy</th>\n",
       "      <th>reproduction_rate_moy_pond</th>\n",
       "      <th>var_reproduction_rate_moy_pond</th>\n",
       "      <th>stringency_index_moy</th>\n",
       "      <th>var_STI_moy</th>\n",
       "      <th>stringency_index_moy_pond</th>\n",
       "      <th>var_STI_moy_pond</th>\n",
       "      <th>hospital_beds_per_thousand</th>\n",
       "    </tr>\n",
       "  </thead>\n",
       "  <tbody>\n",
       "    <tr>\n",
       "      <th>count</th>\n",
       "      <td>12.000000</td>\n",
       "      <td>12.000000</td>\n",
       "      <td>12.000000</td>\n",
       "      <td>11.000000</td>\n",
       "      <td>5.000000e+00</td>\n",
       "      <td>5.000000</td>\n",
       "      <td>11.000000</td>\n",
       "      <td>11.000000</td>\n",
       "      <td>10.000000</td>\n",
       "      <td>10.000000</td>\n",
       "      <td>...</td>\n",
       "      <td>9.000000</td>\n",
       "      <td>11.000000</td>\n",
       "      <td>10.000000</td>\n",
       "      <td>9.000000</td>\n",
       "      <td>8.000000</td>\n",
       "      <td>11.000000</td>\n",
       "      <td>10.000000</td>\n",
       "      <td>9.000000</td>\n",
       "      <td>8.000000</td>\n",
       "      <td>1.200000e+01</td>\n",
       "    </tr>\n",
       "    <tr>\n",
       "      <th>mean</th>\n",
       "      <td>0.333333</td>\n",
       "      <td>4.800000</td>\n",
       "      <td>-0.007526</td>\n",
       "      <td>0.279091</td>\n",
       "      <td>2.123185e+11</td>\n",
       "      <td>0.911712</td>\n",
       "      <td>166134.233241</td>\n",
       "      <td>460.842158</td>\n",
       "      <td>1.261180</td>\n",
       "      <td>1487.098578</td>\n",
       "      <td>...</td>\n",
       "      <td>2.475436</td>\n",
       "      <td>1.039500</td>\n",
       "      <td>0.025402</td>\n",
       "      <td>1.198081</td>\n",
       "      <td>-0.029635</td>\n",
       "      <td>44.199179</td>\n",
       "      <td>-0.125896</td>\n",
       "      <td>55.620562</td>\n",
       "      <td>0.108437</td>\n",
       "      <td>4.728158e+00</td>\n",
       "    </tr>\n",
       "    <tr>\n",
       "      <th>std</th>\n",
       "      <td>5.285543</td>\n",
       "      <td>0.402266</td>\n",
       "      <td>0.061192</td>\n",
       "      <td>5.442816</td>\n",
       "      <td>2.465112e+10</td>\n",
       "      <td>0.001150</td>\n",
       "      <td>172406.959036</td>\n",
       "      <td>590.228092</td>\n",
       "      <td>2.791753</td>\n",
       "      <td>779.466968</td>\n",
       "      <td>...</td>\n",
       "      <td>6.972805</td>\n",
       "      <td>0.119922</td>\n",
       "      <td>0.183401</td>\n",
       "      <td>0.415536</td>\n",
       "      <td>0.320274</td>\n",
       "      <td>20.501588</td>\n",
       "      <td>0.220340</td>\n",
       "      <td>15.222289</td>\n",
       "      <td>0.514821</td>\n",
       "      <td>9.276721e-16</td>\n",
       "    </tr>\n",
       "    <tr>\n",
       "      <th>min</th>\n",
       "      <td>-11.500000</td>\n",
       "      <td>4.300000</td>\n",
       "      <td>-0.061224</td>\n",
       "      <td>-10.170000</td>\n",
       "      <td>1.811371e+11</td>\n",
       "      <td>0.910258</td>\n",
       "      <td>1989.546282</td>\n",
       "      <td>18.569765</td>\n",
       "      <td>-0.736359</td>\n",
       "      <td>216.237364</td>\n",
       "      <td>...</td>\n",
       "      <td>-0.878539</td>\n",
       "      <td>0.869913</td>\n",
       "      <td>-0.136580</td>\n",
       "      <td>0.856959</td>\n",
       "      <td>-0.618388</td>\n",
       "      <td>13.483684</td>\n",
       "      <td>-0.463157</td>\n",
       "      <td>31.159950</td>\n",
       "      <td>-0.258099</td>\n",
       "      <td>4.728158e+00</td>\n",
       "    </tr>\n",
       "    <tr>\n",
       "      <th>25%</th>\n",
       "      <td>-0.075000</td>\n",
       "      <td>4.400000</td>\n",
       "      <td>-0.040281</td>\n",
       "      <td>-2.010000</td>\n",
       "      <td>1.967278e+11</td>\n",
       "      <td>0.910985</td>\n",
       "      <td>34058.816228</td>\n",
       "      <td>169.231626</td>\n",
       "      <td>-0.304203</td>\n",
       "      <td>1064.265447</td>\n",
       "      <td>...</td>\n",
       "      <td>-0.594406</td>\n",
       "      <td>0.970159</td>\n",
       "      <td>-0.103211</td>\n",
       "      <td>1.024755</td>\n",
       "      <td>-0.127003</td>\n",
       "      <td>29.832868</td>\n",
       "      <td>-0.258527</td>\n",
       "      <td>43.883236</td>\n",
       "      <td>-0.145784</td>\n",
       "      <td>4.728158e+00</td>\n",
       "    </tr>\n",
       "    <tr>\n",
       "      <th>50%</th>\n",
       "      <td>0.500000</td>\n",
       "      <td>4.750000</td>\n",
       "      <td>-0.021780</td>\n",
       "      <td>0.090000</td>\n",
       "      <td>2.123185e+11</td>\n",
       "      <td>0.911712</td>\n",
       "      <td>84949.284229</td>\n",
       "      <td>308.919621</td>\n",
       "      <td>0.048461</td>\n",
       "      <td>1510.228448</td>\n",
       "      <td>...</td>\n",
       "      <td>0.042515</td>\n",
       "      <td>1.007520</td>\n",
       "      <td>-0.027461</td>\n",
       "      <td>1.127552</td>\n",
       "      <td>-0.085149</td>\n",
       "      <td>44.760681</td>\n",
       "      <td>-0.132552</td>\n",
       "      <td>54.903545</td>\n",
       "      <td>-0.080110</td>\n",
       "      <td>4.728158e+00</td>\n",
       "    </tr>\n",
       "    <tr>\n",
       "      <th>75%</th>\n",
       "      <td>1.175000</td>\n",
       "      <td>5.125000</td>\n",
       "      <td>0.000000</td>\n",
       "      <td>2.065000</td>\n",
       "      <td>2.279093e+11</td>\n",
       "      <td>0.912439</td>\n",
       "      <td>308850.570945</td>\n",
       "      <td>515.548557</td>\n",
       "      <td>1.765836</td>\n",
       "      <td>2152.682462</td>\n",
       "      <td>...</td>\n",
       "      <td>0.117150</td>\n",
       "      <td>1.145978</td>\n",
       "      <td>0.034621</td>\n",
       "      <td>1.224443</td>\n",
       "      <td>0.142665</td>\n",
       "      <td>61.389947</td>\n",
       "      <td>-0.045837</td>\n",
       "      <td>67.305838</td>\n",
       "      <td>0.128309</td>\n",
       "      <td>4.728158e+00</td>\n",
       "    </tr>\n",
       "    <tr>\n",
       "      <th>max</th>\n",
       "      <td>12.400000</td>\n",
       "      <td>5.500000</td>\n",
       "      <td>0.170213</td>\n",
       "      <td>12.120000</td>\n",
       "      <td>2.435000e+11</td>\n",
       "      <td>0.913166</td>\n",
       "      <td>448887.468949</td>\n",
       "      <td>2148.362380</td>\n",
       "      <td>8.473514</td>\n",
       "      <td>2431.722983</td>\n",
       "      <td>...</td>\n",
       "      <td>20.719915</td>\n",
       "      <td>1.217368</td>\n",
       "      <td>0.393936</td>\n",
       "      <td>2.245630</td>\n",
       "      <td>0.428823</td>\n",
       "      <td>69.787357</td>\n",
       "      <td>0.304727</td>\n",
       "      <td>73.752442</td>\n",
       "      <td>1.318555</td>\n",
       "      <td>4.728158e+00</td>\n",
       "    </tr>\n",
       "  </tbody>\n",
       "</table>\n",
       "<p>8 rows × 21 columns</p>\n",
       "</div>"
      ],
      "text/plain": [
       "             GDP    Chomage  var_chomage    Revenus  Expenditure_travels  \\\n",
       "count  12.000000  12.000000    12.000000  11.000000         5.000000e+00   \n",
       "mean    0.333333   4.800000    -0.007526   0.279091         2.123185e+11   \n",
       "std     5.285543   0.402266     0.061192   5.442816         2.465112e+10   \n",
       "min   -11.500000   4.300000    -0.061224 -10.170000         1.811371e+11   \n",
       "25%    -0.075000   4.400000    -0.040281  -2.010000         1.967278e+11   \n",
       "50%     0.500000   4.750000    -0.021780   0.090000         2.123185e+11   \n",
       "75%     1.175000   5.125000     0.000000   2.065000         2.279093e+11   \n",
       "max    12.400000   5.500000     0.170213  12.120000         2.435000e+11   \n",
       "\n",
       "       HDI_moy_pond  total_cases_per_million  new_cases_per_million  \\\n",
       "count      5.000000                11.000000              11.000000   \n",
       "mean       0.911712            166134.233241             460.842158   \n",
       "std        0.001150            172406.959036             590.228092   \n",
       "min        0.910258              1989.546282              18.569765   \n",
       "25%        0.910985             34058.816228             169.231626   \n",
       "50%        0.911712             84949.284229             308.919621   \n",
       "75%        0.912439            308850.570945             515.548557   \n",
       "max        0.913166            448887.468949            2148.362380   \n",
       "\n",
       "       var_new_cases_per_million  total_deaths_per_million  ...  \\\n",
       "count                  10.000000                 10.000000  ...   \n",
       "mean                    1.261180               1487.098578  ...   \n",
       "std                     2.791753                779.466968  ...   \n",
       "min                    -0.736359                216.237364  ...   \n",
       "25%                    -0.304203               1064.265447  ...   \n",
       "50%                     0.048461               1510.228448  ...   \n",
       "75%                     1.765836               2152.682462  ...   \n",
       "max                     8.473514               2431.722983  ...   \n",
       "\n",
       "       var_new_deaths_per_million  reproduction_rate_moy  \\\n",
       "count                    9.000000              11.000000   \n",
       "mean                     2.475436               1.039500   \n",
       "std                      6.972805               0.119922   \n",
       "min                     -0.878539               0.869913   \n",
       "25%                     -0.594406               0.970159   \n",
       "50%                      0.042515               1.007520   \n",
       "75%                      0.117150               1.145978   \n",
       "max                     20.719915               1.217368   \n",
       "\n",
       "       var_reproduction_rate_moy  reproduction_rate_moy_pond  \\\n",
       "count                  10.000000                    9.000000   \n",
       "mean                    0.025402                    1.198081   \n",
       "std                     0.183401                    0.415536   \n",
       "min                    -0.136580                    0.856959   \n",
       "25%                    -0.103211                    1.024755   \n",
       "50%                    -0.027461                    1.127552   \n",
       "75%                     0.034621                    1.224443   \n",
       "max                     0.393936                    2.245630   \n",
       "\n",
       "       var_reproduction_rate_moy_pond  stringency_index_moy  var_STI_moy  \\\n",
       "count                        8.000000             11.000000    10.000000   \n",
       "mean                        -0.029635             44.199179    -0.125896   \n",
       "std                          0.320274             20.501588     0.220340   \n",
       "min                         -0.618388             13.483684    -0.463157   \n",
       "25%                         -0.127003             29.832868    -0.258527   \n",
       "50%                         -0.085149             44.760681    -0.132552   \n",
       "75%                          0.142665             61.389947    -0.045837   \n",
       "max                          0.428823             69.787357     0.304727   \n",
       "\n",
       "       stringency_index_moy_pond  var_STI_moy_pond  hospital_beds_per_thousand  \n",
       "count                   9.000000          8.000000                1.200000e+01  \n",
       "mean                   55.620562          0.108437                4.728158e+00  \n",
       "std                    15.222289          0.514821                9.276721e-16  \n",
       "min                    31.159950         -0.258099                4.728158e+00  \n",
       "25%                    43.883236         -0.145784                4.728158e+00  \n",
       "50%                    54.903545         -0.080110                4.728158e+00  \n",
       "75%                    67.305838          0.128309                4.728158e+00  \n",
       "max                    73.752442          1.318555                4.728158e+00  \n",
       "\n",
       "[8 rows x 21 columns]"
      ]
     },
     "execution_count": 57,
     "metadata": {},
     "output_type": "execute_result"
    }
   ],
   "source": []
  },
  {
   "attachments": {},
   "cell_type": "markdown",
   "metadata": {},
   "source": [
    "Effets de la COVID sur le PIB"
   ]
  },
  {
   "cell_type": "code",
   "execution_count": 56,
   "metadata": {},
   "outputs": [
    {
     "name": "stdout",
     "output_type": "stream",
     "text": [
      "    Correlations avec GDP : \n",
      "Revenus                           0.971840\n",
      "var_reproduction_rate_moy_pond    0.899663\n",
      "var_STI_moy_pond                 -0.849746\n",
      "var_reproduction_rate_moy         0.757831\n",
      "reproduction_rate_moy             0.612774\n",
      "var_chomage                       0.609430\n",
      "Name: GDP, dtype: float64\n"
     ]
    },
    {
     "data": {
      "application/vnd.plotly.v1+json": {
       "config": {
        "plotlyServerURL": "https://plot.ly"
       },
       "data": [
        {
         "hovertemplate": "variable=GDP<br>Quarter=%{x}<br>value=%{y}<extra></extra>",
         "legendgroup": "GDP",
         "line": {
          "color": "#636efa",
          "dash": "solid"
         },
         "marker": {
          "symbol": "circle"
         },
         "mode": "lines",
         "name": "GDP",
         "orientation": "v",
         "showlegend": true,
         "type": "scatter",
         "x": [
          "2020-01-01T00:00:00",
          "2020-04-01T00:00:00",
          "2020-07-01T00:00:00",
          "2020-10-01T00:00:00",
          "2021-01-01T00:00:00",
          "2021-04-01T00:00:00",
          "2021-07-01T00:00:00",
          "2021-10-01T00:00:00",
          "2022-01-01T00:00:00",
          "2022-04-01T00:00:00",
          "2022-07-01T00:00:00",
          "2022-10-01T00:00:00"
         ],
         "xaxis": "x",
         "y": [
          -3.4,
          -11.5,
          12.4,
          -0.3,
          0,
          2,
          2.3,
          0.6,
          0.6,
          0.9,
          0.4,
          0
         ],
         "yaxis": "y"
        },
        {
         "hovertemplate": "variable=Revenus<br>Quarter=%{x}<br>value=%{y}<extra></extra>",
         "legendgroup": "Revenus",
         "line": {
          "color": "#EF553B",
          "dash": "solid"
         },
         "marker": {
          "symbol": "circle"
         },
         "mode": "lines",
         "name": "Revenus",
         "orientation": "v",
         "showlegend": true,
         "type": "scatter",
         "x": [
          "2020-01-01T00:00:00",
          "2020-04-01T00:00:00",
          "2020-07-01T00:00:00",
          "2020-10-01T00:00:00",
          "2021-01-01T00:00:00",
          "2021-04-01T00:00:00",
          "2021-07-01T00:00:00",
          "2021-10-01T00:00:00",
          "2022-01-01T00:00:00",
          "2022-04-01T00:00:00",
          "2022-07-01T00:00:00",
          "2022-10-01T00:00:00"
         ],
         "xaxis": "x",
         "y": [
          -2.84,
          -10.17,
          12.12,
          -2.82,
          -1.2,
          3.61,
          3.91,
          -0.67,
          0.09,
          0.52,
          0.52,
          null
         ],
         "yaxis": "y"
        },
        {
         "hovertemplate": "variable=var_reproduction_rate_moy_pond<br>Quarter=%{x}<br>value=%{y}<extra></extra>",
         "legendgroup": "var_reproduction_rate_moy_pond",
         "line": {
          "color": "#00cc96",
          "dash": "solid"
         },
         "marker": {
          "symbol": "circle"
         },
         "mode": "lines",
         "name": "var_reproduction_rate_moy_pond",
         "orientation": "v",
         "showlegend": true,
         "type": "scatter",
         "x": [
          "2020-01-01T00:00:00",
          "2020-04-01T00:00:00",
          "2020-07-01T00:00:00",
          "2020-10-01T00:00:00",
          "2021-01-01T00:00:00",
          "2021-04-01T00:00:00",
          "2021-07-01T00:00:00",
          "2021-10-01T00:00:00",
          "2022-01-01T00:00:00",
          "2022-04-01T00:00:00",
          "2022-07-01T00:00:00",
          "2022-10-01T00:00:00"
         ],
         "xaxis": "x",
         "y": [
          null,
          -0.6183880925612818,
          0.42882283706465446,
          -0.07913073736458687,
          -0.09116786914243007,
          -0.1598418777287577,
          0.31269003470721773,
          0.08598976676282966,
          -0.11605636784369223,
          null,
          null,
          null
         ],
         "yaxis": "y"
        },
        {
         "hovertemplate": "variable=var_STI_moy_pond<br>Quarter=%{x}<br>value=%{y}<extra></extra>",
         "legendgroup": "var_STI_moy_pond",
         "line": {
          "color": "#ab63fa",
          "dash": "solid"
         },
         "marker": {
          "symbol": "circle"
         },
         "mode": "lines",
         "name": "var_STI_moy_pond",
         "orientation": "v",
         "showlegend": true,
         "type": "scatter",
         "x": [
          "2020-01-01T00:00:00",
          "2020-04-01T00:00:00",
          "2020-07-01T00:00:00",
          "2020-10-01T00:00:00",
          "2021-01-01T00:00:00",
          "2021-04-01T00:00:00",
          "2021-07-01T00:00:00",
          "2021-10-01T00:00:00",
          "2022-01-01T00:00:00",
          "2022-04-01T00:00:00",
          "2022-07-01T00:00:00",
          "2022-10-01T00:00:00"
         ],
         "xaxis": "x",
         "y": [
          null,
          1.318555219760217,
          -0.24004796133987993,
          0.2258923847031607,
          0.09578076154080914,
          -0.09443361775542232,
          -0.25809883102776576,
          -0.11436272031070238,
          -0.06578554264508144,
          null,
          null,
          null
         ],
         "yaxis": "y"
        },
        {
         "hovertemplate": "variable=var_reproduction_rate_moy<br>Quarter=%{x}<br>value=%{y}<extra></extra>",
         "legendgroup": "var_reproduction_rate_moy",
         "line": {
          "color": "#FFA15A",
          "dash": "solid"
         },
         "marker": {
          "symbol": "circle"
         },
         "mode": "lines",
         "name": "var_reproduction_rate_moy",
         "orientation": "v",
         "showlegend": true,
         "type": "scatter",
         "x": [
          "2020-01-01T00:00:00",
          "2020-04-01T00:00:00",
          "2020-07-01T00:00:00",
          "2020-10-01T00:00:00",
          "2021-01-01T00:00:00",
          "2021-04-01T00:00:00",
          "2021-07-01T00:00:00",
          "2021-10-01T00:00:00",
          "2022-01-01T00:00:00",
          "2022-04-01T00:00:00",
          "2022-07-01T00:00:00",
          "2022-10-01T00:00:00"
         ],
         "xaxis": "x",
         "y": [
          null,
          null,
          0.39393638368466016,
          -0.051645707626083254,
          -0.12730752416787505,
          -0.1365800771091975,
          0.3075556226195185,
          0.03287263363309003,
          -0.08868891875455838,
          -0.10805234572726748,
          0.03520406981000223,
          -0.003275368189577884
         ],
         "yaxis": "y"
        },
        {
         "hovertemplate": "variable=reproduction_rate_moy<br>Quarter=%{x}<br>value=%{y}<extra></extra>",
         "legendgroup": "reproduction_rate_moy",
         "line": {
          "color": "#19d3f3",
          "dash": "solid"
         },
         "marker": {
          "symbol": "circle"
         },
         "mode": "lines",
         "name": "reproduction_rate_moy",
         "orientation": "v",
         "showlegend": true,
         "type": "scatter",
         "x": [
          "2020-01-01T00:00:00",
          "2020-04-01T00:00:00",
          "2020-07-01T00:00:00",
          "2020-10-01T00:00:00",
          "2021-01-01T00:00:00",
          "2021-04-01T00:00:00",
          "2021-07-01T00:00:00",
          "2021-10-01T00:00:00",
          "2022-01-01T00:00:00",
          "2022-04-01T00:00:00",
          "2022-07-01T00:00:00",
          "2022-10-01T00:00:00"
         ],
         "xaxis": "x",
         "y": [
          null,
          0.8733314054366687,
          1.2173684210526317,
          1.1544965675057208,
          1.0075204678362575,
          0.8699132446500867,
          1.1374599542334096,
          1.1748512585812358,
          1.070654970760234,
          0.9549681897050317,
          0.9885869565217391,
          0.9853489702517162
         ],
         "yaxis": "y"
        },
        {
         "hovertemplate": "variable=var_chomage<br>Quarter=%{x}<br>value=%{y}<extra></extra>",
         "legendgroup": "var_chomage",
         "line": {
          "color": "#FF6692",
          "dash": "solid"
         },
         "marker": {
          "symbol": "circle"
         },
         "mode": "lines",
         "name": "var_chomage",
         "orientation": "v",
         "showlegend": true,
         "type": "scatter",
         "x": [
          "2020-01-01T00:00:00",
          "2020-04-01T00:00:00",
          "2020-07-01T00:00:00",
          "2020-10-01T00:00:00",
          "2021-01-01T00:00:00",
          "2021-04-01T00:00:00",
          "2021-07-01T00:00:00",
          "2021-10-01T00:00:00",
          "2022-01-01T00:00:00",
          "2022-04-01T00:00:00",
          "2022-07-01T00:00:00",
          "2022-10-01T00:00:00"
         ],
         "xaxis": "x",
         "y": [
          0,
          -0.02083333333333326,
          0.17021276595744678,
          -0.054545454545454515,
          0.019230769230769162,
          -0.03773584905660381,
          -0.039215686274509665,
          -0.061224489795918505,
          -0.043478260869565064,
          0,
          0,
          -0.022727272727272846
         ],
         "yaxis": "y"
        }
       ],
       "layout": {
        "legend": {
         "title": {
          "text": "variable"
         },
         "tracegroupgap": 0
        },
        "margin": {
         "t": 60
        },
        "template": {
         "data": {
          "bar": [
           {
            "error_x": {
             "color": "#2a3f5f"
            },
            "error_y": {
             "color": "#2a3f5f"
            },
            "marker": {
             "line": {
              "color": "#E5ECF6",
              "width": 0.5
             },
             "pattern": {
              "fillmode": "overlay",
              "size": 10,
              "solidity": 0.2
             }
            },
            "type": "bar"
           }
          ],
          "barpolar": [
           {
            "marker": {
             "line": {
              "color": "#E5ECF6",
              "width": 0.5
             },
             "pattern": {
              "fillmode": "overlay",
              "size": 10,
              "solidity": 0.2
             }
            },
            "type": "barpolar"
           }
          ],
          "carpet": [
           {
            "aaxis": {
             "endlinecolor": "#2a3f5f",
             "gridcolor": "white",
             "linecolor": "white",
             "minorgridcolor": "white",
             "startlinecolor": "#2a3f5f"
            },
            "baxis": {
             "endlinecolor": "#2a3f5f",
             "gridcolor": "white",
             "linecolor": "white",
             "minorgridcolor": "white",
             "startlinecolor": "#2a3f5f"
            },
            "type": "carpet"
           }
          ],
          "choropleth": [
           {
            "colorbar": {
             "outlinewidth": 0,
             "ticks": ""
            },
            "type": "choropleth"
           }
          ],
          "contour": [
           {
            "colorbar": {
             "outlinewidth": 0,
             "ticks": ""
            },
            "colorscale": [
             [
              0,
              "#0d0887"
             ],
             [
              0.1111111111111111,
              "#46039f"
             ],
             [
              0.2222222222222222,
              "#7201a8"
             ],
             [
              0.3333333333333333,
              "#9c179e"
             ],
             [
              0.4444444444444444,
              "#bd3786"
             ],
             [
              0.5555555555555556,
              "#d8576b"
             ],
             [
              0.6666666666666666,
              "#ed7953"
             ],
             [
              0.7777777777777778,
              "#fb9f3a"
             ],
             [
              0.8888888888888888,
              "#fdca26"
             ],
             [
              1,
              "#f0f921"
             ]
            ],
            "type": "contour"
           }
          ],
          "contourcarpet": [
           {
            "colorbar": {
             "outlinewidth": 0,
             "ticks": ""
            },
            "type": "contourcarpet"
           }
          ],
          "heatmap": [
           {
            "colorbar": {
             "outlinewidth": 0,
             "ticks": ""
            },
            "colorscale": [
             [
              0,
              "#0d0887"
             ],
             [
              0.1111111111111111,
              "#46039f"
             ],
             [
              0.2222222222222222,
              "#7201a8"
             ],
             [
              0.3333333333333333,
              "#9c179e"
             ],
             [
              0.4444444444444444,
              "#bd3786"
             ],
             [
              0.5555555555555556,
              "#d8576b"
             ],
             [
              0.6666666666666666,
              "#ed7953"
             ],
             [
              0.7777777777777778,
              "#fb9f3a"
             ],
             [
              0.8888888888888888,
              "#fdca26"
             ],
             [
              1,
              "#f0f921"
             ]
            ],
            "type": "heatmap"
           }
          ],
          "heatmapgl": [
           {
            "colorbar": {
             "outlinewidth": 0,
             "ticks": ""
            },
            "colorscale": [
             [
              0,
              "#0d0887"
             ],
             [
              0.1111111111111111,
              "#46039f"
             ],
             [
              0.2222222222222222,
              "#7201a8"
             ],
             [
              0.3333333333333333,
              "#9c179e"
             ],
             [
              0.4444444444444444,
              "#bd3786"
             ],
             [
              0.5555555555555556,
              "#d8576b"
             ],
             [
              0.6666666666666666,
              "#ed7953"
             ],
             [
              0.7777777777777778,
              "#fb9f3a"
             ],
             [
              0.8888888888888888,
              "#fdca26"
             ],
             [
              1,
              "#f0f921"
             ]
            ],
            "type": "heatmapgl"
           }
          ],
          "histogram": [
           {
            "marker": {
             "pattern": {
              "fillmode": "overlay",
              "size": 10,
              "solidity": 0.2
             }
            },
            "type": "histogram"
           }
          ],
          "histogram2d": [
           {
            "colorbar": {
             "outlinewidth": 0,
             "ticks": ""
            },
            "colorscale": [
             [
              0,
              "#0d0887"
             ],
             [
              0.1111111111111111,
              "#46039f"
             ],
             [
              0.2222222222222222,
              "#7201a8"
             ],
             [
              0.3333333333333333,
              "#9c179e"
             ],
             [
              0.4444444444444444,
              "#bd3786"
             ],
             [
              0.5555555555555556,
              "#d8576b"
             ],
             [
              0.6666666666666666,
              "#ed7953"
             ],
             [
              0.7777777777777778,
              "#fb9f3a"
             ],
             [
              0.8888888888888888,
              "#fdca26"
             ],
             [
              1,
              "#f0f921"
             ]
            ],
            "type": "histogram2d"
           }
          ],
          "histogram2dcontour": [
           {
            "colorbar": {
             "outlinewidth": 0,
             "ticks": ""
            },
            "colorscale": [
             [
              0,
              "#0d0887"
             ],
             [
              0.1111111111111111,
              "#46039f"
             ],
             [
              0.2222222222222222,
              "#7201a8"
             ],
             [
              0.3333333333333333,
              "#9c179e"
             ],
             [
              0.4444444444444444,
              "#bd3786"
             ],
             [
              0.5555555555555556,
              "#d8576b"
             ],
             [
              0.6666666666666666,
              "#ed7953"
             ],
             [
              0.7777777777777778,
              "#fb9f3a"
             ],
             [
              0.8888888888888888,
              "#fdca26"
             ],
             [
              1,
              "#f0f921"
             ]
            ],
            "type": "histogram2dcontour"
           }
          ],
          "mesh3d": [
           {
            "colorbar": {
             "outlinewidth": 0,
             "ticks": ""
            },
            "type": "mesh3d"
           }
          ],
          "parcoords": [
           {
            "line": {
             "colorbar": {
              "outlinewidth": 0,
              "ticks": ""
             }
            },
            "type": "parcoords"
           }
          ],
          "pie": [
           {
            "automargin": true,
            "type": "pie"
           }
          ],
          "scatter": [
           {
            "fillpattern": {
             "fillmode": "overlay",
             "size": 10,
             "solidity": 0.2
            },
            "type": "scatter"
           }
          ],
          "scatter3d": [
           {
            "line": {
             "colorbar": {
              "outlinewidth": 0,
              "ticks": ""
             }
            },
            "marker": {
             "colorbar": {
              "outlinewidth": 0,
              "ticks": ""
             }
            },
            "type": "scatter3d"
           }
          ],
          "scattercarpet": [
           {
            "marker": {
             "colorbar": {
              "outlinewidth": 0,
              "ticks": ""
             }
            },
            "type": "scattercarpet"
           }
          ],
          "scattergeo": [
           {
            "marker": {
             "colorbar": {
              "outlinewidth": 0,
              "ticks": ""
             }
            },
            "type": "scattergeo"
           }
          ],
          "scattergl": [
           {
            "marker": {
             "colorbar": {
              "outlinewidth": 0,
              "ticks": ""
             }
            },
            "type": "scattergl"
           }
          ],
          "scattermapbox": [
           {
            "marker": {
             "colorbar": {
              "outlinewidth": 0,
              "ticks": ""
             }
            },
            "type": "scattermapbox"
           }
          ],
          "scatterpolar": [
           {
            "marker": {
             "colorbar": {
              "outlinewidth": 0,
              "ticks": ""
             }
            },
            "type": "scatterpolar"
           }
          ],
          "scatterpolargl": [
           {
            "marker": {
             "colorbar": {
              "outlinewidth": 0,
              "ticks": ""
             }
            },
            "type": "scatterpolargl"
           }
          ],
          "scatterternary": [
           {
            "marker": {
             "colorbar": {
              "outlinewidth": 0,
              "ticks": ""
             }
            },
            "type": "scatterternary"
           }
          ],
          "surface": [
           {
            "colorbar": {
             "outlinewidth": 0,
             "ticks": ""
            },
            "colorscale": [
             [
              0,
              "#0d0887"
             ],
             [
              0.1111111111111111,
              "#46039f"
             ],
             [
              0.2222222222222222,
              "#7201a8"
             ],
             [
              0.3333333333333333,
              "#9c179e"
             ],
             [
              0.4444444444444444,
              "#bd3786"
             ],
             [
              0.5555555555555556,
              "#d8576b"
             ],
             [
              0.6666666666666666,
              "#ed7953"
             ],
             [
              0.7777777777777778,
              "#fb9f3a"
             ],
             [
              0.8888888888888888,
              "#fdca26"
             ],
             [
              1,
              "#f0f921"
             ]
            ],
            "type": "surface"
           }
          ],
          "table": [
           {
            "cells": {
             "fill": {
              "color": "#EBF0F8"
             },
             "line": {
              "color": "white"
             }
            },
            "header": {
             "fill": {
              "color": "#C8D4E3"
             },
             "line": {
              "color": "white"
             }
            },
            "type": "table"
           }
          ]
         },
         "layout": {
          "annotationdefaults": {
           "arrowcolor": "#2a3f5f",
           "arrowhead": 0,
           "arrowwidth": 1
          },
          "autotypenumbers": "strict",
          "coloraxis": {
           "colorbar": {
            "outlinewidth": 0,
            "ticks": ""
           }
          },
          "colorscale": {
           "diverging": [
            [
             0,
             "#8e0152"
            ],
            [
             0.1,
             "#c51b7d"
            ],
            [
             0.2,
             "#de77ae"
            ],
            [
             0.3,
             "#f1b6da"
            ],
            [
             0.4,
             "#fde0ef"
            ],
            [
             0.5,
             "#f7f7f7"
            ],
            [
             0.6,
             "#e6f5d0"
            ],
            [
             0.7,
             "#b8e186"
            ],
            [
             0.8,
             "#7fbc41"
            ],
            [
             0.9,
             "#4d9221"
            ],
            [
             1,
             "#276419"
            ]
           ],
           "sequential": [
            [
             0,
             "#0d0887"
            ],
            [
             0.1111111111111111,
             "#46039f"
            ],
            [
             0.2222222222222222,
             "#7201a8"
            ],
            [
             0.3333333333333333,
             "#9c179e"
            ],
            [
             0.4444444444444444,
             "#bd3786"
            ],
            [
             0.5555555555555556,
             "#d8576b"
            ],
            [
             0.6666666666666666,
             "#ed7953"
            ],
            [
             0.7777777777777778,
             "#fb9f3a"
            ],
            [
             0.8888888888888888,
             "#fdca26"
            ],
            [
             1,
             "#f0f921"
            ]
           ],
           "sequentialminus": [
            [
             0,
             "#0d0887"
            ],
            [
             0.1111111111111111,
             "#46039f"
            ],
            [
             0.2222222222222222,
             "#7201a8"
            ],
            [
             0.3333333333333333,
             "#9c179e"
            ],
            [
             0.4444444444444444,
             "#bd3786"
            ],
            [
             0.5555555555555556,
             "#d8576b"
            ],
            [
             0.6666666666666666,
             "#ed7953"
            ],
            [
             0.7777777777777778,
             "#fb9f3a"
            ],
            [
             0.8888888888888888,
             "#fdca26"
            ],
            [
             1,
             "#f0f921"
            ]
           ]
          },
          "colorway": [
           "#636efa",
           "#EF553B",
           "#00cc96",
           "#ab63fa",
           "#FFA15A",
           "#19d3f3",
           "#FF6692",
           "#B6E880",
           "#FF97FF",
           "#FECB52"
          ],
          "font": {
           "color": "#2a3f5f"
          },
          "geo": {
           "bgcolor": "white",
           "lakecolor": "white",
           "landcolor": "#E5ECF6",
           "showlakes": true,
           "showland": true,
           "subunitcolor": "white"
          },
          "hoverlabel": {
           "align": "left"
          },
          "hovermode": "closest",
          "mapbox": {
           "style": "light"
          },
          "paper_bgcolor": "white",
          "plot_bgcolor": "#E5ECF6",
          "polar": {
           "angularaxis": {
            "gridcolor": "white",
            "linecolor": "white",
            "ticks": ""
           },
           "bgcolor": "#E5ECF6",
           "radialaxis": {
            "gridcolor": "white",
            "linecolor": "white",
            "ticks": ""
           }
          },
          "scene": {
           "xaxis": {
            "backgroundcolor": "#E5ECF6",
            "gridcolor": "white",
            "gridwidth": 2,
            "linecolor": "white",
            "showbackground": true,
            "ticks": "",
            "zerolinecolor": "white"
           },
           "yaxis": {
            "backgroundcolor": "#E5ECF6",
            "gridcolor": "white",
            "gridwidth": 2,
            "linecolor": "white",
            "showbackground": true,
            "ticks": "",
            "zerolinecolor": "white"
           },
           "zaxis": {
            "backgroundcolor": "#E5ECF6",
            "gridcolor": "white",
            "gridwidth": 2,
            "linecolor": "white",
            "showbackground": true,
            "ticks": "",
            "zerolinecolor": "white"
           }
          },
          "shapedefaults": {
           "line": {
            "color": "#2a3f5f"
           }
          },
          "ternary": {
           "aaxis": {
            "gridcolor": "white",
            "linecolor": "white",
            "ticks": ""
           },
           "baxis": {
            "gridcolor": "white",
            "linecolor": "white",
            "ticks": ""
           },
           "bgcolor": "#E5ECF6",
           "caxis": {
            "gridcolor": "white",
            "linecolor": "white",
            "ticks": ""
           }
          },
          "title": {
           "x": 0.05
          },
          "xaxis": {
           "automargin": true,
           "gridcolor": "white",
           "linecolor": "white",
           "ticks": "",
           "title": {
            "standoff": 15
           },
           "zerolinecolor": "white",
           "zerolinewidth": 2
          },
          "yaxis": {
           "automargin": true,
           "gridcolor": "white",
           "linecolor": "white",
           "ticks": "",
           "title": {
            "standoff": 15
           },
           "zerolinecolor": "white",
           "zerolinewidth": 2
          }
         }
        },
        "title": {
         "text": "Intensité de confinement et PIB en fonction du nombre de nouveaux cas"
        },
        "xaxis": {
         "anchor": "y",
         "domain": [
          0,
          1
         ],
         "title": {
          "text": "Nombre de nouveaux cas par million"
         }
        },
        "yaxis": {
         "anchor": "x",
         "domain": [
          0,
          1
         ],
         "title": {
          "text": "value"
         }
        }
       }
      }
     },
     "metadata": {},
     "output_type": "display_data"
    }
   ],
   "source": [
    "# Effets de la COVID sur le PIB\n",
    "\n",
    "order = data_eur.corr()['GDP'].abs().sort_values(ascending = False)\n",
    "correl_sorted_GDP = data_eur.corr()['GDP'][order.index]\n",
    "\n",
    "print ('    Correlations avec GDP : ')\n",
    "print (correl_sorted_GDP[1:7])\n",
    "\n",
    "fig_europe_data = px.line(data_eur, x='Quarter', y=order.index[:7])\n",
    "\n",
    "fig_europe_data.update_layout(\n",
    "    title='Intensité de confinement et PIB en fonction du nombre de nouveaux cas',\n",
    "    xaxis_title=\"Nombre de nouveaux cas par million\"\n",
    ")\n",
    "\n",
    "fig_europe_data.show()\n",
    "\n",
    "\n",
    "\n"
   ]
  },
  {
   "cell_type": "code",
   "execution_count": 23,
   "metadata": {},
   "outputs": [
    {
     "data": {
      "application/vnd.plotly.v1+json": {
       "config": {
        "plotlyServerURL": "https://plot.ly"
       },
       "data": [
        {
         "hovertemplate": "variable=GDP<br>Quarter=%{x}<br>value=%{y}<extra></extra>",
         "legendgroup": "GDP",
         "line": {
          "color": "#636efa",
          "dash": "solid"
         },
         "marker": {
          "symbol": "circle"
         },
         "mode": "lines",
         "name": "GDP",
         "orientation": "v",
         "showlegend": true,
         "type": "scatter",
         "x": [
          "2020-01-01T00:00:00",
          "2020-04-01T00:00:00",
          "2020-07-01T00:00:00",
          "2020-10-01T00:00:00",
          "2021-01-01T00:00:00",
          "2021-04-01T00:00:00",
          "2021-07-01T00:00:00",
          "2021-10-01T00:00:00",
          "2022-01-01T00:00:00",
          "2022-04-01T00:00:00",
          "2022-07-01T00:00:00",
          "2022-10-01T00:00:00"
         ],
         "xaxis": "x",
         "y": [
          -3.4,
          -11.5,
          12.4,
          -0.3,
          0,
          2,
          2.3,
          0.6,
          0.6,
          0.9,
          0.4,
          0
         ],
         "yaxis": "y"
        },
        {
         "hovertemplate": "variable=Chomage<br>Quarter=%{x}<br>value=%{y}<extra></extra>",
         "legendgroup": "Chomage",
         "line": {
          "color": "#EF553B",
          "dash": "solid"
         },
         "marker": {
          "symbol": "circle"
         },
         "mode": "lines",
         "name": "Chomage",
         "orientation": "v",
         "showlegend": true,
         "type": "scatter",
         "x": [
          "2020-01-01T00:00:00",
          "2020-04-01T00:00:00",
          "2020-07-01T00:00:00",
          "2020-10-01T00:00:00",
          "2021-01-01T00:00:00",
          "2021-04-01T00:00:00",
          "2021-07-01T00:00:00",
          "2021-10-01T00:00:00",
          "2022-01-01T00:00:00",
          "2022-04-01T00:00:00",
          "2022-07-01T00:00:00",
          "2022-10-01T00:00:00"
         ],
         "xaxis": "x",
         "y": [
          4.8,
          4.7,
          5.5,
          5.2,
          5.3,
          5.1,
          4.9,
          4.6,
          4.4,
          4.4,
          4.4,
          4.3
         ],
         "yaxis": "y"
        },
        {
         "hovertemplate": "variable=var_chomage<br>Quarter=%{x}<br>value=%{y}<extra></extra>",
         "legendgroup": "var_chomage",
         "line": {
          "color": "#00cc96",
          "dash": "solid"
         },
         "marker": {
          "symbol": "circle"
         },
         "mode": "lines",
         "name": "var_chomage",
         "orientation": "v",
         "showlegend": true,
         "type": "scatter",
         "x": [
          "2020-01-01T00:00:00",
          "2020-04-01T00:00:00",
          "2020-07-01T00:00:00",
          "2020-10-01T00:00:00",
          "2021-01-01T00:00:00",
          "2021-04-01T00:00:00",
          "2021-07-01T00:00:00",
          "2021-10-01T00:00:00",
          "2022-01-01T00:00:00",
          "2022-04-01T00:00:00",
          "2022-07-01T00:00:00",
          "2022-10-01T00:00:00"
         ],
         "xaxis": "x",
         "y": [
          0,
          -0.02083333333333326,
          0.17021276595744678,
          -0.054545454545454515,
          0.019230769230769162,
          -0.03773584905660381,
          -0.039215686274509665,
          -0.061224489795918505,
          -0.043478260869565064,
          0,
          0,
          -0.022727272727272846
         ],
         "yaxis": "y"
        },
        {
         "hovertemplate": "variable=Revenus<br>Quarter=%{x}<br>value=%{y}<extra></extra>",
         "legendgroup": "Revenus",
         "line": {
          "color": "#ab63fa",
          "dash": "solid"
         },
         "marker": {
          "symbol": "circle"
         },
         "mode": "lines",
         "name": "Revenus",
         "orientation": "v",
         "showlegend": true,
         "type": "scatter",
         "x": [
          "2020-01-01T00:00:00",
          "2020-04-01T00:00:00",
          "2020-07-01T00:00:00",
          "2020-10-01T00:00:00",
          "2021-01-01T00:00:00",
          "2021-04-01T00:00:00",
          "2021-07-01T00:00:00",
          "2021-10-01T00:00:00",
          "2022-01-01T00:00:00",
          "2022-04-01T00:00:00",
          "2022-07-01T00:00:00",
          "2022-10-01T00:00:00"
         ],
         "xaxis": "x",
         "y": [
          -2.84,
          -10.17,
          12.12,
          -2.82,
          -1.2,
          3.61,
          3.91,
          -0.67,
          0.09,
          0.52,
          0.52,
          null
         ],
         "yaxis": "y"
        },
        {
         "hovertemplate": "variable=HDI_moy_pond<br>Quarter=%{x}<br>value=%{y}<extra></extra>",
         "legendgroup": "HDI_moy_pond",
         "line": {
          "color": "#FFA15A",
          "dash": "solid"
         },
         "marker": {
          "symbol": "circle"
         },
         "mode": "lines",
         "name": "HDI_moy_pond",
         "orientation": "v",
         "showlegend": true,
         "type": "scatter",
         "x": [
          "2020-01-01T00:00:00",
          "2020-04-01T00:00:00",
          "2020-07-01T00:00:00",
          "2020-10-01T00:00:00",
          "2021-01-01T00:00:00",
          "2021-04-01T00:00:00",
          "2021-07-01T00:00:00",
          "2021-10-01T00:00:00",
          "2022-01-01T00:00:00",
          "2022-04-01T00:00:00",
          "2022-07-01T00:00:00",
          "2022-10-01T00:00:00"
         ],
         "xaxis": "x",
         "y": [
          0.9102577963432,
          0.9109850066749955,
          0.9117121840320441,
          0.9124393284198731,
          0.9131664398440074,
          null,
          null,
          null,
          null,
          null,
          null,
          null
         ],
         "yaxis": "y"
        },
        {
         "hovertemplate": "variable=var_new_cases_per_million<br>Quarter=%{x}<br>value=%{y}<extra></extra>",
         "legendgroup": "var_new_cases_per_million",
         "line": {
          "color": "#19d3f3",
          "dash": "solid"
         },
         "marker": {
          "symbol": "circle"
         },
         "mode": "lines",
         "name": "var_new_cases_per_million",
         "orientation": "v",
         "showlegend": true,
         "type": "scatter",
         "x": [
          "2020-01-01T00:00:00",
          "2020-04-01T00:00:00",
          "2020-07-01T00:00:00",
          "2020-10-01T00:00:00",
          "2021-01-01T00:00:00",
          "2021-04-01T00:00:00",
          "2021-07-01T00:00:00",
          "2021-10-01T00:00:00",
          "2022-01-01T00:00:00",
          "2022-04-01T00:00:00",
          "2022-07-01T00:00:00",
          "2022-10-01T00:00:00"
         ],
         "xaxis": "x",
         "y": [
          null,
          null,
          0.7985875773104196,
          8.473513987909504,
          -0.027690760452483303,
          -0.48218090661608315,
          0.12461355724300545,
          2.0882521889622327,
          2.88293295085215,
          -0.736359435162005,
          -0.15639561232872448,
          -0.3534726648177258
         ],
         "yaxis": "y"
        },
        {
         "hovertemplate": "variable=new_deaths_per_million<br>Quarter=%{x}<br>value=%{y}<extra></extra>",
         "legendgroup": "new_deaths_per_million",
         "line": {
          "color": "#FF6692",
          "dash": "solid"
         },
         "marker": {
          "symbol": "circle"
         },
         "mode": "lines",
         "name": "new_deaths_per_million",
         "orientation": "v",
         "showlegend": true,
         "type": "scatter",
         "x": [
          "2020-01-01T00:00:00",
          "2020-04-01T00:00:00",
          "2020-07-01T00:00:00",
          "2020-10-01T00:00:00",
          "2021-01-01T00:00:00",
          "2021-04-01T00:00:00",
          "2021-07-01T00:00:00",
          "2021-10-01T00:00:00",
          "2022-01-01T00:00:00",
          "2022-04-01T00:00:00",
          "2022-07-01T00:00:00",
          "2022-10-01T00:00:00"
         ],
         "xaxis": "x",
         "y": [
          0.4089603784742755,
          1.8945488721804513,
          0.2301138443935927,
          4.998053203661327,
          5.583574269005848,
          2.089939271255061,
          null,
          3.461493135011442,
          3.8191666666666664,
          1.5490323886639676,
          1.180462242562929,
          1.2306498855835242
         ],
         "yaxis": "y"
        },
        {
         "hovertemplate": "variable=var_new_deaths_per_million<br>Quarter=%{x}<br>value=%{y}<extra></extra>",
         "legendgroup": "var_new_deaths_per_million",
         "line": {
          "color": "#B6E880",
          "dash": "solid"
         },
         "marker": {
          "symbol": "circle"
         },
         "mode": "lines",
         "name": "var_new_deaths_per_million",
         "orientation": "v",
         "showlegend": true,
         "type": "scatter",
         "x": [
          "2020-01-01T00:00:00",
          "2020-04-01T00:00:00",
          "2020-07-01T00:00:00",
          "2020-10-01T00:00:00",
          "2021-01-01T00:00:00",
          "2021-04-01T00:00:00",
          "2021-07-01T00:00:00",
          "2021-10-01T00:00:00",
          "2022-01-01T00:00:00",
          "2022-04-01T00:00:00",
          "2022-07-01T00:00:00",
          "2022-10-01T00:00:00"
         ],
         "xaxis": "x",
         "y": [
          null,
          3.6325976106744595,
          -0.8785389768653723,
          20.719915274252372,
          0.1171498264395419,
          -0.625698670678348,
          null,
          null,
          0.10332926217230304,
          -0.5944056586522449,
          -0.2379357260689226,
          0.04251524632556789
         ],
         "yaxis": "y"
        },
        {
         "hovertemplate": "variable=reproduction_rate_moy<br>Quarter=%{x}<br>value=%{y}<extra></extra>",
         "legendgroup": "reproduction_rate_moy",
         "line": {
          "color": "#FF97FF",
          "dash": "solid"
         },
         "marker": {
          "symbol": "circle"
         },
         "mode": "lines",
         "name": "reproduction_rate_moy",
         "orientation": "v",
         "showlegend": true,
         "type": "scatter",
         "x": [
          "2020-01-01T00:00:00",
          "2020-04-01T00:00:00",
          "2020-07-01T00:00:00",
          "2020-10-01T00:00:00",
          "2021-01-01T00:00:00",
          "2021-04-01T00:00:00",
          "2021-07-01T00:00:00",
          "2021-10-01T00:00:00",
          "2022-01-01T00:00:00",
          "2022-04-01T00:00:00",
          "2022-07-01T00:00:00",
          "2022-10-01T00:00:00"
         ],
         "xaxis": "x",
         "y": [
          null,
          0.8733314054366687,
          1.2173684210526317,
          1.1544965675057208,
          1.0075204678362575,
          0.8699132446500867,
          1.1374599542334096,
          1.1748512585812358,
          1.070654970760234,
          0.9549681897050317,
          0.9885869565217391,
          0.9853489702517162
         ],
         "yaxis": "y"
        },
        {
         "hovertemplate": "variable=var_reproduction_rate_moy<br>Quarter=%{x}<br>value=%{y}<extra></extra>",
         "legendgroup": "var_reproduction_rate_moy",
         "line": {
          "color": "#FECB52",
          "dash": "solid"
         },
         "marker": {
          "symbol": "circle"
         },
         "mode": "lines",
         "name": "var_reproduction_rate_moy",
         "orientation": "v",
         "showlegend": true,
         "type": "scatter",
         "x": [
          "2020-01-01T00:00:00",
          "2020-04-01T00:00:00",
          "2020-07-01T00:00:00",
          "2020-10-01T00:00:00",
          "2021-01-01T00:00:00",
          "2021-04-01T00:00:00",
          "2021-07-01T00:00:00",
          "2021-10-01T00:00:00",
          "2022-01-01T00:00:00",
          "2022-04-01T00:00:00",
          "2022-07-01T00:00:00",
          "2022-10-01T00:00:00"
         ],
         "xaxis": "x",
         "y": [
          null,
          null,
          0.39393638368466016,
          -0.051645707626083254,
          -0.12730752416787505,
          -0.1365800771091975,
          0.3075556226195185,
          0.03287263363309003,
          -0.08868891875455838,
          -0.10805234572726748,
          0.03520406981000223,
          -0.003275368189577884
         ],
         "yaxis": "y"
        },
        {
         "hovertemplate": "variable=reproduction_rate_moy_pond<br>Quarter=%{x}<br>value=%{y}<extra></extra>",
         "legendgroup": "reproduction_rate_moy_pond",
         "line": {
          "color": "#636efa",
          "dash": "solid"
         },
         "marker": {
          "symbol": "circle"
         },
         "mode": "lines",
         "name": "reproduction_rate_moy_pond",
         "orientation": "v",
         "showlegend": true,
         "type": "scatter",
         "x": [
          "2020-01-01T00:00:00",
          "2020-04-01T00:00:00",
          "2020-07-01T00:00:00",
          "2020-10-01T00:00:00",
          "2021-01-01T00:00:00",
          "2021-04-01T00:00:00",
          "2021-07-01T00:00:00",
          "2021-10-01T00:00:00",
          "2022-01-01T00:00:00",
          "2022-04-01T00:00:00",
          "2022-07-01T00:00:00",
          "2022-10-01T00:00:00"
         ],
         "xaxis": "x",
         "y": [
          2.2456297014291615,
          0.8569590337634218,
          1.2244426378700373,
          1.1275515890747414,
          1.0247551133506363,
          0.8609563318205247,
          1.1301687970988834,
          1.2273517483640441,
          1.0849097623823079,
          null,
          null,
          null
         ],
         "yaxis": "y"
        },
        {
         "hovertemplate": "variable=var_reproduction_rate_moy_pond<br>Quarter=%{x}<br>value=%{y}<extra></extra>",
         "legendgroup": "var_reproduction_rate_moy_pond",
         "line": {
          "color": "#EF553B",
          "dash": "solid"
         },
         "marker": {
          "symbol": "circle"
         },
         "mode": "lines",
         "name": "var_reproduction_rate_moy_pond",
         "orientation": "v",
         "showlegend": true,
         "type": "scatter",
         "x": [
          "2020-01-01T00:00:00",
          "2020-04-01T00:00:00",
          "2020-07-01T00:00:00",
          "2020-10-01T00:00:00",
          "2021-01-01T00:00:00",
          "2021-04-01T00:00:00",
          "2021-07-01T00:00:00",
          "2021-10-01T00:00:00",
          "2022-01-01T00:00:00",
          "2022-04-01T00:00:00",
          "2022-07-01T00:00:00",
          "2022-10-01T00:00:00"
         ],
         "xaxis": "x",
         "y": [
          null,
          -0.6183880925612818,
          0.42882283706465446,
          -0.07913073736458687,
          -0.09116786914243007,
          -0.1598418777287577,
          0.31269003470721773,
          0.08598976676282966,
          -0.11605636784369223,
          null,
          null,
          null
         ],
         "yaxis": "y"
        },
        {
         "hovertemplate": "variable=var_STI_moy<br>Quarter=%{x}<br>value=%{y}<extra></extra>",
         "legendgroup": "var_STI_moy",
         "line": {
          "color": "#00cc96",
          "dash": "solid"
         },
         "marker": {
          "symbol": "circle"
         },
         "mode": "lines",
         "name": "var_STI_moy",
         "orientation": "v",
         "showlegend": true,
         "type": "scatter",
         "x": [
          "2020-01-01T00:00:00",
          "2020-04-01T00:00:00",
          "2020-07-01T00:00:00",
          "2020-10-01T00:00:00",
          "2021-01-01T00:00:00",
          "2021-04-01T00:00:00",
          "2021-07-01T00:00:00",
          "2021-10-01T00:00:00",
          "2022-01-01T00:00:00",
          "2022-04-01T00:00:00",
          "2022-07-01T00:00:00",
          "2022-10-01T00:00:00"
         ],
         "xaxis": "x",
         "y": [
          null,
          null,
          -0.30510597280794677,
          0.30472702822568154,
          0.11980007958278799,
          -0.13367360360724825,
          -0.2596477736620572,
          -0.024016614164805085,
          -0.11129738037889482,
          -0.46315723893918376,
          -0.25516325680606644,
          -0.13143002864096184
         ],
         "yaxis": "y"
        },
        {
         "hovertemplate": "variable=var_STI_moy_pond<br>Quarter=%{x}<br>value=%{y}<extra></extra>",
         "legendgroup": "var_STI_moy_pond",
         "line": {
          "color": "#ab63fa",
          "dash": "solid"
         },
         "marker": {
          "symbol": "circle"
         },
         "mode": "lines",
         "name": "var_STI_moy_pond",
         "orientation": "v",
         "showlegend": true,
         "type": "scatter",
         "x": [
          "2020-01-01T00:00:00",
          "2020-04-01T00:00:00",
          "2020-07-01T00:00:00",
          "2020-10-01T00:00:00",
          "2021-01-01T00:00:00",
          "2021-04-01T00:00:00",
          "2021-07-01T00:00:00",
          "2021-10-01T00:00:00",
          "2022-01-01T00:00:00",
          "2022-04-01T00:00:00",
          "2022-07-01T00:00:00",
          "2022-10-01T00:00:00"
         ],
         "xaxis": "x",
         "y": [
          null,
          1.318555219760217,
          -0.24004796133987993,
          0.2258923847031607,
          0.09578076154080914,
          -0.09443361775542232,
          -0.25809883102776576,
          -0.11436272031070238,
          -0.06578554264508144,
          null,
          null,
          null
         ],
         "yaxis": "y"
        },
        {
         "hovertemplate": "variable=hospital_beds_per_thousand<br>Quarter=%{x}<br>value=%{y}<extra></extra>",
         "legendgroup": "hospital_beds_per_thousand",
         "line": {
          "color": "#FFA15A",
          "dash": "solid"
         },
         "marker": {
          "symbol": "circle"
         },
         "mode": "lines",
         "name": "hospital_beds_per_thousand",
         "orientation": "v",
         "showlegend": true,
         "type": "scatter",
         "x": [
          "2020-01-01T00:00:00",
          "2020-04-01T00:00:00",
          "2020-07-01T00:00:00",
          "2020-10-01T00:00:00",
          "2021-01-01T00:00:00",
          "2021-04-01T00:00:00",
          "2021-07-01T00:00:00",
          "2021-10-01T00:00:00",
          "2022-01-01T00:00:00",
          "2022-04-01T00:00:00",
          "2022-07-01T00:00:00",
          "2022-10-01T00:00:00"
         ],
         "xaxis": "x",
         "y": [
          4.728157894736842,
          4.728157894736842,
          4.728157894736842,
          4.728157894736842,
          4.728157894736842,
          4.728157894736842,
          4.728157894736842,
          4.728157894736842,
          4.728157894736842,
          4.728157894736842,
          4.728157894736842,
          4.728157894736842
         ],
         "yaxis": "y"
        }
       ],
       "layout": {
        "legend": {
         "title": {
          "text": "variable"
         },
         "tracegroupgap": 0
        },
        "margin": {
         "t": 60
        },
        "template": {
         "data": {
          "bar": [
           {
            "error_x": {
             "color": "#2a3f5f"
            },
            "error_y": {
             "color": "#2a3f5f"
            },
            "marker": {
             "line": {
              "color": "#E5ECF6",
              "width": 0.5
             },
             "pattern": {
              "fillmode": "overlay",
              "size": 10,
              "solidity": 0.2
             }
            },
            "type": "bar"
           }
          ],
          "barpolar": [
           {
            "marker": {
             "line": {
              "color": "#E5ECF6",
              "width": 0.5
             },
             "pattern": {
              "fillmode": "overlay",
              "size": 10,
              "solidity": 0.2
             }
            },
            "type": "barpolar"
           }
          ],
          "carpet": [
           {
            "aaxis": {
             "endlinecolor": "#2a3f5f",
             "gridcolor": "white",
             "linecolor": "white",
             "minorgridcolor": "white",
             "startlinecolor": "#2a3f5f"
            },
            "baxis": {
             "endlinecolor": "#2a3f5f",
             "gridcolor": "white",
             "linecolor": "white",
             "minorgridcolor": "white",
             "startlinecolor": "#2a3f5f"
            },
            "type": "carpet"
           }
          ],
          "choropleth": [
           {
            "colorbar": {
             "outlinewidth": 0,
             "ticks": ""
            },
            "type": "choropleth"
           }
          ],
          "contour": [
           {
            "colorbar": {
             "outlinewidth": 0,
             "ticks": ""
            },
            "colorscale": [
             [
              0,
              "#0d0887"
             ],
             [
              0.1111111111111111,
              "#46039f"
             ],
             [
              0.2222222222222222,
              "#7201a8"
             ],
             [
              0.3333333333333333,
              "#9c179e"
             ],
             [
              0.4444444444444444,
              "#bd3786"
             ],
             [
              0.5555555555555556,
              "#d8576b"
             ],
             [
              0.6666666666666666,
              "#ed7953"
             ],
             [
              0.7777777777777778,
              "#fb9f3a"
             ],
             [
              0.8888888888888888,
              "#fdca26"
             ],
             [
              1,
              "#f0f921"
             ]
            ],
            "type": "contour"
           }
          ],
          "contourcarpet": [
           {
            "colorbar": {
             "outlinewidth": 0,
             "ticks": ""
            },
            "type": "contourcarpet"
           }
          ],
          "heatmap": [
           {
            "colorbar": {
             "outlinewidth": 0,
             "ticks": ""
            },
            "colorscale": [
             [
              0,
              "#0d0887"
             ],
             [
              0.1111111111111111,
              "#46039f"
             ],
             [
              0.2222222222222222,
              "#7201a8"
             ],
             [
              0.3333333333333333,
              "#9c179e"
             ],
             [
              0.4444444444444444,
              "#bd3786"
             ],
             [
              0.5555555555555556,
              "#d8576b"
             ],
             [
              0.6666666666666666,
              "#ed7953"
             ],
             [
              0.7777777777777778,
              "#fb9f3a"
             ],
             [
              0.8888888888888888,
              "#fdca26"
             ],
             [
              1,
              "#f0f921"
             ]
            ],
            "type": "heatmap"
           }
          ],
          "heatmapgl": [
           {
            "colorbar": {
             "outlinewidth": 0,
             "ticks": ""
            },
            "colorscale": [
             [
              0,
              "#0d0887"
             ],
             [
              0.1111111111111111,
              "#46039f"
             ],
             [
              0.2222222222222222,
              "#7201a8"
             ],
             [
              0.3333333333333333,
              "#9c179e"
             ],
             [
              0.4444444444444444,
              "#bd3786"
             ],
             [
              0.5555555555555556,
              "#d8576b"
             ],
             [
              0.6666666666666666,
              "#ed7953"
             ],
             [
              0.7777777777777778,
              "#fb9f3a"
             ],
             [
              0.8888888888888888,
              "#fdca26"
             ],
             [
              1,
              "#f0f921"
             ]
            ],
            "type": "heatmapgl"
           }
          ],
          "histogram": [
           {
            "marker": {
             "pattern": {
              "fillmode": "overlay",
              "size": 10,
              "solidity": 0.2
             }
            },
            "type": "histogram"
           }
          ],
          "histogram2d": [
           {
            "colorbar": {
             "outlinewidth": 0,
             "ticks": ""
            },
            "colorscale": [
             [
              0,
              "#0d0887"
             ],
             [
              0.1111111111111111,
              "#46039f"
             ],
             [
              0.2222222222222222,
              "#7201a8"
             ],
             [
              0.3333333333333333,
              "#9c179e"
             ],
             [
              0.4444444444444444,
              "#bd3786"
             ],
             [
              0.5555555555555556,
              "#d8576b"
             ],
             [
              0.6666666666666666,
              "#ed7953"
             ],
             [
              0.7777777777777778,
              "#fb9f3a"
             ],
             [
              0.8888888888888888,
              "#fdca26"
             ],
             [
              1,
              "#f0f921"
             ]
            ],
            "type": "histogram2d"
           }
          ],
          "histogram2dcontour": [
           {
            "colorbar": {
             "outlinewidth": 0,
             "ticks": ""
            },
            "colorscale": [
             [
              0,
              "#0d0887"
             ],
             [
              0.1111111111111111,
              "#46039f"
             ],
             [
              0.2222222222222222,
              "#7201a8"
             ],
             [
              0.3333333333333333,
              "#9c179e"
             ],
             [
              0.4444444444444444,
              "#bd3786"
             ],
             [
              0.5555555555555556,
              "#d8576b"
             ],
             [
              0.6666666666666666,
              "#ed7953"
             ],
             [
              0.7777777777777778,
              "#fb9f3a"
             ],
             [
              0.8888888888888888,
              "#fdca26"
             ],
             [
              1,
              "#f0f921"
             ]
            ],
            "type": "histogram2dcontour"
           }
          ],
          "mesh3d": [
           {
            "colorbar": {
             "outlinewidth": 0,
             "ticks": ""
            },
            "type": "mesh3d"
           }
          ],
          "parcoords": [
           {
            "line": {
             "colorbar": {
              "outlinewidth": 0,
              "ticks": ""
             }
            },
            "type": "parcoords"
           }
          ],
          "pie": [
           {
            "automargin": true,
            "type": "pie"
           }
          ],
          "scatter": [
           {
            "fillpattern": {
             "fillmode": "overlay",
             "size": 10,
             "solidity": 0.2
            },
            "type": "scatter"
           }
          ],
          "scatter3d": [
           {
            "line": {
             "colorbar": {
              "outlinewidth": 0,
              "ticks": ""
             }
            },
            "marker": {
             "colorbar": {
              "outlinewidth": 0,
              "ticks": ""
             }
            },
            "type": "scatter3d"
           }
          ],
          "scattercarpet": [
           {
            "marker": {
             "colorbar": {
              "outlinewidth": 0,
              "ticks": ""
             }
            },
            "type": "scattercarpet"
           }
          ],
          "scattergeo": [
           {
            "marker": {
             "colorbar": {
              "outlinewidth": 0,
              "ticks": ""
             }
            },
            "type": "scattergeo"
           }
          ],
          "scattergl": [
           {
            "marker": {
             "colorbar": {
              "outlinewidth": 0,
              "ticks": ""
             }
            },
            "type": "scattergl"
           }
          ],
          "scattermapbox": [
           {
            "marker": {
             "colorbar": {
              "outlinewidth": 0,
              "ticks": ""
             }
            },
            "type": "scattermapbox"
           }
          ],
          "scatterpolar": [
           {
            "marker": {
             "colorbar": {
              "outlinewidth": 0,
              "ticks": ""
             }
            },
            "type": "scatterpolar"
           }
          ],
          "scatterpolargl": [
           {
            "marker": {
             "colorbar": {
              "outlinewidth": 0,
              "ticks": ""
             }
            },
            "type": "scatterpolargl"
           }
          ],
          "scatterternary": [
           {
            "marker": {
             "colorbar": {
              "outlinewidth": 0,
              "ticks": ""
             }
            },
            "type": "scatterternary"
           }
          ],
          "surface": [
           {
            "colorbar": {
             "outlinewidth": 0,
             "ticks": ""
            },
            "colorscale": [
             [
              0,
              "#0d0887"
             ],
             [
              0.1111111111111111,
              "#46039f"
             ],
             [
              0.2222222222222222,
              "#7201a8"
             ],
             [
              0.3333333333333333,
              "#9c179e"
             ],
             [
              0.4444444444444444,
              "#bd3786"
             ],
             [
              0.5555555555555556,
              "#d8576b"
             ],
             [
              0.6666666666666666,
              "#ed7953"
             ],
             [
              0.7777777777777778,
              "#fb9f3a"
             ],
             [
              0.8888888888888888,
              "#fdca26"
             ],
             [
              1,
              "#f0f921"
             ]
            ],
            "type": "surface"
           }
          ],
          "table": [
           {
            "cells": {
             "fill": {
              "color": "#EBF0F8"
             },
             "line": {
              "color": "white"
             }
            },
            "header": {
             "fill": {
              "color": "#C8D4E3"
             },
             "line": {
              "color": "white"
             }
            },
            "type": "table"
           }
          ]
         },
         "layout": {
          "annotationdefaults": {
           "arrowcolor": "#2a3f5f",
           "arrowhead": 0,
           "arrowwidth": 1
          },
          "autotypenumbers": "strict",
          "coloraxis": {
           "colorbar": {
            "outlinewidth": 0,
            "ticks": ""
           }
          },
          "colorscale": {
           "diverging": [
            [
             0,
             "#8e0152"
            ],
            [
             0.1,
             "#c51b7d"
            ],
            [
             0.2,
             "#de77ae"
            ],
            [
             0.3,
             "#f1b6da"
            ],
            [
             0.4,
             "#fde0ef"
            ],
            [
             0.5,
             "#f7f7f7"
            ],
            [
             0.6,
             "#e6f5d0"
            ],
            [
             0.7,
             "#b8e186"
            ],
            [
             0.8,
             "#7fbc41"
            ],
            [
             0.9,
             "#4d9221"
            ],
            [
             1,
             "#276419"
            ]
           ],
           "sequential": [
            [
             0,
             "#0d0887"
            ],
            [
             0.1111111111111111,
             "#46039f"
            ],
            [
             0.2222222222222222,
             "#7201a8"
            ],
            [
             0.3333333333333333,
             "#9c179e"
            ],
            [
             0.4444444444444444,
             "#bd3786"
            ],
            [
             0.5555555555555556,
             "#d8576b"
            ],
            [
             0.6666666666666666,
             "#ed7953"
            ],
            [
             0.7777777777777778,
             "#fb9f3a"
            ],
            [
             0.8888888888888888,
             "#fdca26"
            ],
            [
             1,
             "#f0f921"
            ]
           ],
           "sequentialminus": [
            [
             0,
             "#0d0887"
            ],
            [
             0.1111111111111111,
             "#46039f"
            ],
            [
             0.2222222222222222,
             "#7201a8"
            ],
            [
             0.3333333333333333,
             "#9c179e"
            ],
            [
             0.4444444444444444,
             "#bd3786"
            ],
            [
             0.5555555555555556,
             "#d8576b"
            ],
            [
             0.6666666666666666,
             "#ed7953"
            ],
            [
             0.7777777777777778,
             "#fb9f3a"
            ],
            [
             0.8888888888888888,
             "#fdca26"
            ],
            [
             1,
             "#f0f921"
            ]
           ]
          },
          "colorway": [
           "#636efa",
           "#EF553B",
           "#00cc96",
           "#ab63fa",
           "#FFA15A",
           "#19d3f3",
           "#FF6692",
           "#B6E880",
           "#FF97FF",
           "#FECB52"
          ],
          "font": {
           "color": "#2a3f5f"
          },
          "geo": {
           "bgcolor": "white",
           "lakecolor": "white",
           "landcolor": "#E5ECF6",
           "showlakes": true,
           "showland": true,
           "subunitcolor": "white"
          },
          "hoverlabel": {
           "align": "left"
          },
          "hovermode": "closest",
          "mapbox": {
           "style": "light"
          },
          "paper_bgcolor": "white",
          "plot_bgcolor": "#E5ECF6",
          "polar": {
           "angularaxis": {
            "gridcolor": "white",
            "linecolor": "white",
            "ticks": ""
           },
           "bgcolor": "#E5ECF6",
           "radialaxis": {
            "gridcolor": "white",
            "linecolor": "white",
            "ticks": ""
           }
          },
          "scene": {
           "xaxis": {
            "backgroundcolor": "#E5ECF6",
            "gridcolor": "white",
            "gridwidth": 2,
            "linecolor": "white",
            "showbackground": true,
            "ticks": "",
            "zerolinecolor": "white"
           },
           "yaxis": {
            "backgroundcolor": "#E5ECF6",
            "gridcolor": "white",
            "gridwidth": 2,
            "linecolor": "white",
            "showbackground": true,
            "ticks": "",
            "zerolinecolor": "white"
           },
           "zaxis": {
            "backgroundcolor": "#E5ECF6",
            "gridcolor": "white",
            "gridwidth": 2,
            "linecolor": "white",
            "showbackground": true,
            "ticks": "",
            "zerolinecolor": "white"
           }
          },
          "shapedefaults": {
           "line": {
            "color": "#2a3f5f"
           }
          },
          "ternary": {
           "aaxis": {
            "gridcolor": "white",
            "linecolor": "white",
            "ticks": ""
           },
           "baxis": {
            "gridcolor": "white",
            "linecolor": "white",
            "ticks": ""
           },
           "bgcolor": "#E5ECF6",
           "caxis": {
            "gridcolor": "white",
            "linecolor": "white",
            "ticks": ""
           }
          },
          "title": {
           "x": 0.05
          },
          "xaxis": {
           "automargin": true,
           "gridcolor": "white",
           "linecolor": "white",
           "ticks": "",
           "title": {
            "standoff": 15
           },
           "zerolinecolor": "white",
           "zerolinewidth": 2
          },
          "yaxis": {
           "automargin": true,
           "gridcolor": "white",
           "linecolor": "white",
           "ticks": "",
           "title": {
            "standoff": 15
           },
           "zerolinecolor": "white",
           "zerolinewidth": 2
          }
         }
        },
        "title": {
         "text": "Intensité de confinement et PIB en fonction du nombre de nouveaux cas"
        },
        "xaxis": {
         "anchor": "y",
         "domain": [
          0,
          1
         ],
         "title": {
          "text": "Nombre de nouveaux cas par million"
         }
        },
        "yaxis": {
         "anchor": "x",
         "domain": [
          0,
          1
         ],
         "title": {
          "text": "value"
         }
        }
       }
      }
     },
     "metadata": {},
     "output_type": "display_data"
    }
   ],
   "source": [
    "order = data_eur.corr()['Chomage'].abs().sort_values(ascending = False)\n",
    "correl_sorted_chomage = data_eur.corr()['Chomage'][order.index]\n",
    "del order\n",
    "\n",
    "order = data_eur.corr()['Revenus'].abs().sort_values(ascending = False)\n",
    "correl_sorted_revenus = data_eur.corr()['Revenus'][order.index]\n",
    "del order\n",
    "\n",
    "order = data_eur.corr()['HDI_moy_pond'].abs().sort_values(ascending = False)\n",
    "correl_sorted_HDI = data_eur.corr()['HDI_moy_pond'][order.index]\n",
    "del order\n",
    "\n",
    "\n",
    "\n",
    "print ()\n",
    "\n",
    "print ('    Correlations avec le chomage : ')\n",
    "print (correl_sorted_chomage[1:6])\n",
    "\n",
    "print ()\n",
    "\n",
    "print ('    Correlations avec le revenu : ')\n",
    "print (correl_sorted_revenus[1:6])\n",
    "\n",
    "print ()\n",
    "\n",
    "print ('    Correlations avec le HDI (moyenne ponderee par la population) : ')\n",
    "print (correl_sorted_HDI[1:6])"
   ]
  },
  {
   "cell_type": "code",
   "execution_count": 11,
   "metadata": {},
   "outputs": [
    {
     "ename": "ValueError",
     "evalue": "All arguments should have the same length. The length of argument `y` is 2, whereas the length of  previously-processed arguments ['Quarter'] is 12",
     "output_type": "error",
     "traceback": [
      "\u001b[1;31m---------------------------------------------------------------------------\u001b[0m",
      "\u001b[1;31mValueError\u001b[0m                                Traceback (most recent call last)",
      "\u001b[1;32m~\\AppData\\Local\\Temp\\ipykernel_8100\\1272553334.py\u001b[0m in \u001b[0;36m<module>\u001b[1;34m\u001b[0m\n\u001b[0;32m      2\u001b[0m \u001b[1;33m\u001b[0m\u001b[0m\n\u001b[0;32m      3\u001b[0m \u001b[1;31m# fig_europe_STI_GDP_temps = px.line(data_eur, x='Quarter' , y=['stringency_index', 'GDP'], template=template)\u001b[0m\u001b[1;33m\u001b[0m\u001b[1;33m\u001b[0m\u001b[0m\n\u001b[1;32m----> 4\u001b[1;33m \u001b[0mfig_europe_STI_GDP_temps\u001b[0m \u001b[1;33m=\u001b[0m \u001b[0mpx\u001b[0m\u001b[1;33m.\u001b[0m\u001b[0mline\u001b[0m\u001b[1;33m(\u001b[0m\u001b[0mdata_eur\u001b[0m\u001b[1;33m,\u001b[0m \u001b[0mx\u001b[0m\u001b[1;33m=\u001b[0m\u001b[1;34m'Quarter'\u001b[0m \u001b[1;33m,\u001b[0m \u001b[0my\u001b[0m\u001b[1;33m=\u001b[0m\u001b[1;33m[\u001b[0m\u001b[1;34m'stringency_index'\u001b[0m\u001b[1;33m,\u001b[0m \u001b[1;34m'GDP'\u001b[0m\u001b[1;33m]\u001b[0m\u001b[1;33m)\u001b[0m\u001b[1;33m\u001b[0m\u001b[1;33m\u001b[0m\u001b[0m\n\u001b[0m\u001b[0;32m      5\u001b[0m \u001b[1;33m\u001b[0m\u001b[0m\n\u001b[0;32m      6\u001b[0m fig_europe_STI_GDP_temps.update_layout(\n",
      "\u001b[1;32mc:\\Users\\selim\\anaconda3\\lib\\site-packages\\plotly\\express\\_chart_types.py\u001b[0m in \u001b[0;36mline\u001b[1;34m(data_frame, x, y, line_group, color, line_dash, symbol, hover_name, hover_data, custom_data, text, facet_row, facet_col, facet_col_wrap, facet_row_spacing, facet_col_spacing, error_x, error_x_minus, error_y, error_y_minus, animation_frame, animation_group, category_orders, labels, orientation, color_discrete_sequence, color_discrete_map, line_dash_sequence, line_dash_map, symbol_sequence, symbol_map, markers, log_x, log_y, range_x, range_y, line_shape, render_mode, title, template, width, height)\u001b[0m\n\u001b[0;32m    262\u001b[0m     \u001b[0ma\u001b[0m \u001b[0mpolyline\u001b[0m \u001b[0mmark\u001b[0m \u001b[1;32min\u001b[0m \u001b[1;36m2\u001b[0m\u001b[0mD\u001b[0m \u001b[0mspace\u001b[0m\u001b[1;33m.\u001b[0m\u001b[1;33m\u001b[0m\u001b[1;33m\u001b[0m\u001b[0m\n\u001b[0;32m    263\u001b[0m     \"\"\"\n\u001b[1;32m--> 264\u001b[1;33m     \u001b[1;32mreturn\u001b[0m \u001b[0mmake_figure\u001b[0m\u001b[1;33m(\u001b[0m\u001b[0margs\u001b[0m\u001b[1;33m=\u001b[0m\u001b[0mlocals\u001b[0m\u001b[1;33m(\u001b[0m\u001b[1;33m)\u001b[0m\u001b[1;33m,\u001b[0m \u001b[0mconstructor\u001b[0m\u001b[1;33m=\u001b[0m\u001b[0mgo\u001b[0m\u001b[1;33m.\u001b[0m\u001b[0mScatter\u001b[0m\u001b[1;33m)\u001b[0m\u001b[1;33m\u001b[0m\u001b[1;33m\u001b[0m\u001b[0m\n\u001b[0m\u001b[0;32m    265\u001b[0m \u001b[1;33m\u001b[0m\u001b[0m\n\u001b[0;32m    266\u001b[0m \u001b[1;33m\u001b[0m\u001b[0m\n",
      "\u001b[1;32mc:\\Users\\selim\\anaconda3\\lib\\site-packages\\plotly\\express\\_core.py\u001b[0m in \u001b[0;36mmake_figure\u001b[1;34m(args, constructor, trace_patch, layout_patch)\u001b[0m\n\u001b[0;32m   1989\u001b[0m     \u001b[0mapply_default_cascade\u001b[0m\u001b[1;33m(\u001b[0m\u001b[0margs\u001b[0m\u001b[1;33m)\u001b[0m\u001b[1;33m\u001b[0m\u001b[1;33m\u001b[0m\u001b[0m\n\u001b[0;32m   1990\u001b[0m \u001b[1;33m\u001b[0m\u001b[0m\n\u001b[1;32m-> 1991\u001b[1;33m     \u001b[0margs\u001b[0m \u001b[1;33m=\u001b[0m \u001b[0mbuild_dataframe\u001b[0m\u001b[1;33m(\u001b[0m\u001b[0margs\u001b[0m\u001b[1;33m,\u001b[0m \u001b[0mconstructor\u001b[0m\u001b[1;33m)\u001b[0m\u001b[1;33m\u001b[0m\u001b[1;33m\u001b[0m\u001b[0m\n\u001b[0m\u001b[0;32m   1992\u001b[0m     \u001b[1;32mif\u001b[0m \u001b[0mconstructor\u001b[0m \u001b[1;32min\u001b[0m \u001b[1;33m[\u001b[0m\u001b[0mgo\u001b[0m\u001b[1;33m.\u001b[0m\u001b[0mTreemap\u001b[0m\u001b[1;33m,\u001b[0m \u001b[0mgo\u001b[0m\u001b[1;33m.\u001b[0m\u001b[0mSunburst\u001b[0m\u001b[1;33m,\u001b[0m \u001b[0mgo\u001b[0m\u001b[1;33m.\u001b[0m\u001b[0mIcicle\u001b[0m\u001b[1;33m]\u001b[0m \u001b[1;32mand\u001b[0m \u001b[0margs\u001b[0m\u001b[1;33m[\u001b[0m\u001b[1;34m\"path\"\u001b[0m\u001b[1;33m]\u001b[0m \u001b[1;32mis\u001b[0m \u001b[1;32mnot\u001b[0m \u001b[1;32mNone\u001b[0m\u001b[1;33m:\u001b[0m\u001b[1;33m\u001b[0m\u001b[1;33m\u001b[0m\u001b[0m\n\u001b[0;32m   1993\u001b[0m         \u001b[0margs\u001b[0m \u001b[1;33m=\u001b[0m \u001b[0mprocess_dataframe_hierarchy\u001b[0m\u001b[1;33m(\u001b[0m\u001b[0margs\u001b[0m\u001b[1;33m)\u001b[0m\u001b[1;33m\u001b[0m\u001b[1;33m\u001b[0m\u001b[0m\n",
      "\u001b[1;32mc:\\Users\\selim\\anaconda3\\lib\\site-packages\\plotly\\express\\_core.py\u001b[0m in \u001b[0;36mbuild_dataframe\u001b[1;34m(args, constructor)\u001b[0m\n\u001b[0;32m   1404\u001b[0m     \u001b[1;31m# now that things have been prepped, we do the systematic rewriting of `args`\u001b[0m\u001b[1;33m\u001b[0m\u001b[1;33m\u001b[0m\u001b[0m\n\u001b[0;32m   1405\u001b[0m \u001b[1;33m\u001b[0m\u001b[0m\n\u001b[1;32m-> 1406\u001b[1;33m     df_output, wide_id_vars = process_args_into_dataframe(\n\u001b[0m\u001b[0;32m   1407\u001b[0m         \u001b[0margs\u001b[0m\u001b[1;33m,\u001b[0m \u001b[0mwide_mode\u001b[0m\u001b[1;33m,\u001b[0m \u001b[0mvar_name\u001b[0m\u001b[1;33m,\u001b[0m \u001b[0mvalue_name\u001b[0m\u001b[1;33m\u001b[0m\u001b[1;33m\u001b[0m\u001b[0m\n\u001b[0;32m   1408\u001b[0m     )\n",
      "\u001b[1;32mc:\\Users\\selim\\anaconda3\\lib\\site-packages\\plotly\\express\\_core.py\u001b[0m in \u001b[0;36mprocess_args_into_dataframe\u001b[1;34m(args, wide_mode, var_name, value_name)\u001b[0m\n\u001b[0;32m   1244\u001b[0m \u001b[1;33m\u001b[0m\u001b[0m\n\u001b[0;32m   1245\u001b[0m                 \u001b[1;32mif\u001b[0m \u001b[0mlength\u001b[0m \u001b[1;32mand\u001b[0m \u001b[0mlen\u001b[0m\u001b[1;33m(\u001b[0m\u001b[0margument\u001b[0m\u001b[1;33m)\u001b[0m \u001b[1;33m!=\u001b[0m \u001b[0mlength\u001b[0m\u001b[1;33m:\u001b[0m\u001b[1;33m\u001b[0m\u001b[1;33m\u001b[0m\u001b[0m\n\u001b[1;32m-> 1246\u001b[1;33m                     raise ValueError(\n\u001b[0m\u001b[0;32m   1247\u001b[0m                         \u001b[1;34m\"All arguments should have the same length. \"\u001b[0m\u001b[1;33m\u001b[0m\u001b[1;33m\u001b[0m\u001b[0m\n\u001b[0;32m   1248\u001b[0m                         \u001b[1;34m\"The length of argument `%s` is %d, whereas the \"\u001b[0m\u001b[1;33m\u001b[0m\u001b[1;33m\u001b[0m\u001b[0m\n",
      "\u001b[1;31mValueError\u001b[0m: All arguments should have the same length. The length of argument `y` is 2, whereas the length of  previously-processed arguments ['Quarter'] is 12"
     ]
    }
   ],
   "source": [
    "# fig_5\n",
    "\n",
    "# fig_europe_STI_GDP_temps = px.line(data_eur, x='Quarter' , y=['stringency_index', 'GDP'], template=template)\n",
    "fig_europe_STI_GDP_temps = px.line(data_eur, x='Quarter' , y=['stringency_index', 'GDP'])\n",
    "\n",
    "fig_europe_STI_GDP_temps.update_layout(\n",
    "    title=\"Evolution du PIB et de l\\'indice d\\'intensité de confinement - Pour l'Europe\",\n",
    "    xaxis_title=\"Date\",\n",
    "    yaxis_title=\"PIB\"\n",
    ")\n",
    "\n",
    "fig_europe_STI_GDP_temps.show()"
   ]
  },
  {
   "cell_type": "code",
   "execution_count": 22,
   "metadata": {},
   "outputs": [
    {
     "data": {
      "application/vnd.plotly.v1+json": {
       "config": {
        "plotlyServerURL": "https://plot.ly"
       },
       "data": [
        {
         "hovertemplate": "variable=stringency_index<br>new_cases_per_million=%{x}<br>value=%{y}<extra></extra>",
         "legendgroup": "stringency_index",
         "marker": {
          "color": "#636efa",
          "symbol": "circle"
         },
         "mode": "markers",
         "name": "stringency_index",
         "orientation": "v",
         "showlegend": true,
         "type": "scatter",
         "x": [
          null,
          18.569765182186234,
          33.39934897025172,
          316.40919965675056,
          307.6475883040935,
          159.3057952573742,
          179.1574570938215,
          553.2834090389016,
          2148.3623801169592,
          566.3954713707345,
          477.81370480549197
         ],
         "xaxis": "x",
         "y": [
          null,
          68.73817813765181,
          47.76574942791762,
          62.321264302059504,
          69.7873567251462,
          60.45862926547137,
          44.76068077803203,
          43.68568077803203,
          38.823578947368425,
          20.842157316367842,
          15.524004576659038
         ],
         "yaxis": "y"
        },
        {
         "hovertemplate": "variable=GDP<br>new_cases_per_million=%{x}<br>value=%{y}<extra></extra>",
         "legendgroup": "GDP",
         "marker": {
          "color": "#EF553B",
          "symbol": "circle"
         },
         "mode": "markers",
         "name": "GDP",
         "orientation": "v",
         "showlegend": true,
         "type": "scatter",
         "x": [
          null,
          18.569765182186234,
          33.39934897025172,
          316.40919965675056,
          307.6475883040935,
          159.3057952573742,
          179.1574570938215,
          553.2834090389016,
          2148.3623801169592,
          566.3954713707345,
          477.81370480549197
         ],
         "xaxis": "x",
         "y": [
          -3.4,
          -11.5,
          12.4,
          -0.3,
          0,
          2,
          2.3,
          0.6,
          0.6,
          0.9,
          0.4
         ],
         "yaxis": "y"
        }
       ],
       "layout": {
        "legend": {
         "title": {
          "text": "variable"
         },
         "tracegroupgap": 0
        },
        "margin": {
         "t": 60
        },
        "template": {
         "data": {
          "bar": [
           {
            "error_x": {
             "color": "#2a3f5f"
            },
            "error_y": {
             "color": "#2a3f5f"
            },
            "marker": {
             "line": {
              "color": "#E5ECF6",
              "width": 0.5
             },
             "pattern": {
              "fillmode": "overlay",
              "size": 10,
              "solidity": 0.2
             }
            },
            "type": "bar"
           }
          ],
          "barpolar": [
           {
            "marker": {
             "line": {
              "color": "#E5ECF6",
              "width": 0.5
             },
             "pattern": {
              "fillmode": "overlay",
              "size": 10,
              "solidity": 0.2
             }
            },
            "type": "barpolar"
           }
          ],
          "carpet": [
           {
            "aaxis": {
             "endlinecolor": "#2a3f5f",
             "gridcolor": "white",
             "linecolor": "white",
             "minorgridcolor": "white",
             "startlinecolor": "#2a3f5f"
            },
            "baxis": {
             "endlinecolor": "#2a3f5f",
             "gridcolor": "white",
             "linecolor": "white",
             "minorgridcolor": "white",
             "startlinecolor": "#2a3f5f"
            },
            "type": "carpet"
           }
          ],
          "choropleth": [
           {
            "colorbar": {
             "outlinewidth": 0,
             "ticks": ""
            },
            "type": "choropleth"
           }
          ],
          "contour": [
           {
            "colorbar": {
             "outlinewidth": 0,
             "ticks": ""
            },
            "colorscale": [
             [
              0,
              "#0d0887"
             ],
             [
              0.1111111111111111,
              "#46039f"
             ],
             [
              0.2222222222222222,
              "#7201a8"
             ],
             [
              0.3333333333333333,
              "#9c179e"
             ],
             [
              0.4444444444444444,
              "#bd3786"
             ],
             [
              0.5555555555555556,
              "#d8576b"
             ],
             [
              0.6666666666666666,
              "#ed7953"
             ],
             [
              0.7777777777777778,
              "#fb9f3a"
             ],
             [
              0.8888888888888888,
              "#fdca26"
             ],
             [
              1,
              "#f0f921"
             ]
            ],
            "type": "contour"
           }
          ],
          "contourcarpet": [
           {
            "colorbar": {
             "outlinewidth": 0,
             "ticks": ""
            },
            "type": "contourcarpet"
           }
          ],
          "heatmap": [
           {
            "colorbar": {
             "outlinewidth": 0,
             "ticks": ""
            },
            "colorscale": [
             [
              0,
              "#0d0887"
             ],
             [
              0.1111111111111111,
              "#46039f"
             ],
             [
              0.2222222222222222,
              "#7201a8"
             ],
             [
              0.3333333333333333,
              "#9c179e"
             ],
             [
              0.4444444444444444,
              "#bd3786"
             ],
             [
              0.5555555555555556,
              "#d8576b"
             ],
             [
              0.6666666666666666,
              "#ed7953"
             ],
             [
              0.7777777777777778,
              "#fb9f3a"
             ],
             [
              0.8888888888888888,
              "#fdca26"
             ],
             [
              1,
              "#f0f921"
             ]
            ],
            "type": "heatmap"
           }
          ],
          "heatmapgl": [
           {
            "colorbar": {
             "outlinewidth": 0,
             "ticks": ""
            },
            "colorscale": [
             [
              0,
              "#0d0887"
             ],
             [
              0.1111111111111111,
              "#46039f"
             ],
             [
              0.2222222222222222,
              "#7201a8"
             ],
             [
              0.3333333333333333,
              "#9c179e"
             ],
             [
              0.4444444444444444,
              "#bd3786"
             ],
             [
              0.5555555555555556,
              "#d8576b"
             ],
             [
              0.6666666666666666,
              "#ed7953"
             ],
             [
              0.7777777777777778,
              "#fb9f3a"
             ],
             [
              0.8888888888888888,
              "#fdca26"
             ],
             [
              1,
              "#f0f921"
             ]
            ],
            "type": "heatmapgl"
           }
          ],
          "histogram": [
           {
            "marker": {
             "pattern": {
              "fillmode": "overlay",
              "size": 10,
              "solidity": 0.2
             }
            },
            "type": "histogram"
           }
          ],
          "histogram2d": [
           {
            "colorbar": {
             "outlinewidth": 0,
             "ticks": ""
            },
            "colorscale": [
             [
              0,
              "#0d0887"
             ],
             [
              0.1111111111111111,
              "#46039f"
             ],
             [
              0.2222222222222222,
              "#7201a8"
             ],
             [
              0.3333333333333333,
              "#9c179e"
             ],
             [
              0.4444444444444444,
              "#bd3786"
             ],
             [
              0.5555555555555556,
              "#d8576b"
             ],
             [
              0.6666666666666666,
              "#ed7953"
             ],
             [
              0.7777777777777778,
              "#fb9f3a"
             ],
             [
              0.8888888888888888,
              "#fdca26"
             ],
             [
              1,
              "#f0f921"
             ]
            ],
            "type": "histogram2d"
           }
          ],
          "histogram2dcontour": [
           {
            "colorbar": {
             "outlinewidth": 0,
             "ticks": ""
            },
            "colorscale": [
             [
              0,
              "#0d0887"
             ],
             [
              0.1111111111111111,
              "#46039f"
             ],
             [
              0.2222222222222222,
              "#7201a8"
             ],
             [
              0.3333333333333333,
              "#9c179e"
             ],
             [
              0.4444444444444444,
              "#bd3786"
             ],
             [
              0.5555555555555556,
              "#d8576b"
             ],
             [
              0.6666666666666666,
              "#ed7953"
             ],
             [
              0.7777777777777778,
              "#fb9f3a"
             ],
             [
              0.8888888888888888,
              "#fdca26"
             ],
             [
              1,
              "#f0f921"
             ]
            ],
            "type": "histogram2dcontour"
           }
          ],
          "mesh3d": [
           {
            "colorbar": {
             "outlinewidth": 0,
             "ticks": ""
            },
            "type": "mesh3d"
           }
          ],
          "parcoords": [
           {
            "line": {
             "colorbar": {
              "outlinewidth": 0,
              "ticks": ""
             }
            },
            "type": "parcoords"
           }
          ],
          "pie": [
           {
            "automargin": true,
            "type": "pie"
           }
          ],
          "scatter": [
           {
            "fillpattern": {
             "fillmode": "overlay",
             "size": 10,
             "solidity": 0.2
            },
            "type": "scatter"
           }
          ],
          "scatter3d": [
           {
            "line": {
             "colorbar": {
              "outlinewidth": 0,
              "ticks": ""
             }
            },
            "marker": {
             "colorbar": {
              "outlinewidth": 0,
              "ticks": ""
             }
            },
            "type": "scatter3d"
           }
          ],
          "scattercarpet": [
           {
            "marker": {
             "colorbar": {
              "outlinewidth": 0,
              "ticks": ""
             }
            },
            "type": "scattercarpet"
           }
          ],
          "scattergeo": [
           {
            "marker": {
             "colorbar": {
              "outlinewidth": 0,
              "ticks": ""
             }
            },
            "type": "scattergeo"
           }
          ],
          "scattergl": [
           {
            "marker": {
             "colorbar": {
              "outlinewidth": 0,
              "ticks": ""
             }
            },
            "type": "scattergl"
           }
          ],
          "scattermapbox": [
           {
            "marker": {
             "colorbar": {
              "outlinewidth": 0,
              "ticks": ""
             }
            },
            "type": "scattermapbox"
           }
          ],
          "scatterpolar": [
           {
            "marker": {
             "colorbar": {
              "outlinewidth": 0,
              "ticks": ""
             }
            },
            "type": "scatterpolar"
           }
          ],
          "scatterpolargl": [
           {
            "marker": {
             "colorbar": {
              "outlinewidth": 0,
              "ticks": ""
             }
            },
            "type": "scatterpolargl"
           }
          ],
          "scatterternary": [
           {
            "marker": {
             "colorbar": {
              "outlinewidth": 0,
              "ticks": ""
             }
            },
            "type": "scatterternary"
           }
          ],
          "surface": [
           {
            "colorbar": {
             "outlinewidth": 0,
             "ticks": ""
            },
            "colorscale": [
             [
              0,
              "#0d0887"
             ],
             [
              0.1111111111111111,
              "#46039f"
             ],
             [
              0.2222222222222222,
              "#7201a8"
             ],
             [
              0.3333333333333333,
              "#9c179e"
             ],
             [
              0.4444444444444444,
              "#bd3786"
             ],
             [
              0.5555555555555556,
              "#d8576b"
             ],
             [
              0.6666666666666666,
              "#ed7953"
             ],
             [
              0.7777777777777778,
              "#fb9f3a"
             ],
             [
              0.8888888888888888,
              "#fdca26"
             ],
             [
              1,
              "#f0f921"
             ]
            ],
            "type": "surface"
           }
          ],
          "table": [
           {
            "cells": {
             "fill": {
              "color": "#EBF0F8"
             },
             "line": {
              "color": "white"
             }
            },
            "header": {
             "fill": {
              "color": "#C8D4E3"
             },
             "line": {
              "color": "white"
             }
            },
            "type": "table"
           }
          ]
         },
         "layout": {
          "annotationdefaults": {
           "arrowcolor": "#2a3f5f",
           "arrowhead": 0,
           "arrowwidth": 1
          },
          "autotypenumbers": "strict",
          "coloraxis": {
           "colorbar": {
            "outlinewidth": 0,
            "ticks": ""
           }
          },
          "colorscale": {
           "diverging": [
            [
             0,
             "#8e0152"
            ],
            [
             0.1,
             "#c51b7d"
            ],
            [
             0.2,
             "#de77ae"
            ],
            [
             0.3,
             "#f1b6da"
            ],
            [
             0.4,
             "#fde0ef"
            ],
            [
             0.5,
             "#f7f7f7"
            ],
            [
             0.6,
             "#e6f5d0"
            ],
            [
             0.7,
             "#b8e186"
            ],
            [
             0.8,
             "#7fbc41"
            ],
            [
             0.9,
             "#4d9221"
            ],
            [
             1,
             "#276419"
            ]
           ],
           "sequential": [
            [
             0,
             "#0d0887"
            ],
            [
             0.1111111111111111,
             "#46039f"
            ],
            [
             0.2222222222222222,
             "#7201a8"
            ],
            [
             0.3333333333333333,
             "#9c179e"
            ],
            [
             0.4444444444444444,
             "#bd3786"
            ],
            [
             0.5555555555555556,
             "#d8576b"
            ],
            [
             0.6666666666666666,
             "#ed7953"
            ],
            [
             0.7777777777777778,
             "#fb9f3a"
            ],
            [
             0.8888888888888888,
             "#fdca26"
            ],
            [
             1,
             "#f0f921"
            ]
           ],
           "sequentialminus": [
            [
             0,
             "#0d0887"
            ],
            [
             0.1111111111111111,
             "#46039f"
            ],
            [
             0.2222222222222222,
             "#7201a8"
            ],
            [
             0.3333333333333333,
             "#9c179e"
            ],
            [
             0.4444444444444444,
             "#bd3786"
            ],
            [
             0.5555555555555556,
             "#d8576b"
            ],
            [
             0.6666666666666666,
             "#ed7953"
            ],
            [
             0.7777777777777778,
             "#fb9f3a"
            ],
            [
             0.8888888888888888,
             "#fdca26"
            ],
            [
             1,
             "#f0f921"
            ]
           ]
          },
          "colorway": [
           "#636efa",
           "#EF553B",
           "#00cc96",
           "#ab63fa",
           "#FFA15A",
           "#19d3f3",
           "#FF6692",
           "#B6E880",
           "#FF97FF",
           "#FECB52"
          ],
          "font": {
           "color": "#2a3f5f"
          },
          "geo": {
           "bgcolor": "white",
           "lakecolor": "white",
           "landcolor": "#E5ECF6",
           "showlakes": true,
           "showland": true,
           "subunitcolor": "white"
          },
          "hoverlabel": {
           "align": "left"
          },
          "hovermode": "closest",
          "mapbox": {
           "style": "light"
          },
          "paper_bgcolor": "white",
          "plot_bgcolor": "#E5ECF6",
          "polar": {
           "angularaxis": {
            "gridcolor": "white",
            "linecolor": "white",
            "ticks": ""
           },
           "bgcolor": "#E5ECF6",
           "radialaxis": {
            "gridcolor": "white",
            "linecolor": "white",
            "ticks": ""
           }
          },
          "scene": {
           "xaxis": {
            "backgroundcolor": "#E5ECF6",
            "gridcolor": "white",
            "gridwidth": 2,
            "linecolor": "white",
            "showbackground": true,
            "ticks": "",
            "zerolinecolor": "white"
           },
           "yaxis": {
            "backgroundcolor": "#E5ECF6",
            "gridcolor": "white",
            "gridwidth": 2,
            "linecolor": "white",
            "showbackground": true,
            "ticks": "",
            "zerolinecolor": "white"
           },
           "zaxis": {
            "backgroundcolor": "#E5ECF6",
            "gridcolor": "white",
            "gridwidth": 2,
            "linecolor": "white",
            "showbackground": true,
            "ticks": "",
            "zerolinecolor": "white"
           }
          },
          "shapedefaults": {
           "line": {
            "color": "#2a3f5f"
           }
          },
          "ternary": {
           "aaxis": {
            "gridcolor": "white",
            "linecolor": "white",
            "ticks": ""
           },
           "baxis": {
            "gridcolor": "white",
            "linecolor": "white",
            "ticks": ""
           },
           "bgcolor": "#E5ECF6",
           "caxis": {
            "gridcolor": "white",
            "linecolor": "white",
            "ticks": ""
           }
          },
          "title": {
           "x": 0.05
          },
          "xaxis": {
           "automargin": true,
           "gridcolor": "white",
           "linecolor": "white",
           "ticks": "",
           "title": {
            "standoff": 15
           },
           "zerolinecolor": "white",
           "zerolinewidth": 2
          },
          "yaxis": {
           "automargin": true,
           "gridcolor": "white",
           "linecolor": "white",
           "ticks": "",
           "title": {
            "standoff": 15
           },
           "zerolinecolor": "white",
           "zerolinewidth": 2
          }
         }
        },
        "title": {
         "text": "Intensité de confinement et PIB en fonction du nombre de nouveaux cas"
        },
        "xaxis": {
         "anchor": "y",
         "domain": [
          0,
          1
         ],
         "title": {
          "text": "Nombre de nouveaux cas par million"
         }
        },
        "yaxis": {
         "anchor": "x",
         "domain": [
          0,
          1
         ],
         "title": {
          "text": "value"
         }
        }
       }
      }
     },
     "metadata": {},
     "output_type": "display_data"
    }
   ],
   "source": [
    "# fig_7\n",
    "\n",
    "# fig_europe_STI_GDP_cases = px.scatter(data_eur, x='new_cases_per_million', y=['stringency_index', 'GDP'], template=template)\n",
    "fig_europe_STI_GDP_cases = px.scatter(data_eur, x='new_cases_per_million', y=['stringency_index', 'GDP'])\n",
    "\n",
    "fig_europe_STI_GDP_cases.update_layout(\n",
    "    title='Intensité de confinement et PIB en fonction du nombre de nouveaux cas',\n",
    "    xaxis_title=\"Nombre de nouveaux cas par million\"\n",
    ")\n",
    "\n",
    "fig_europe_STI_GDP_cases.show()"
   ]
  },
  {
   "cell_type": "code",
   "execution_count": 28,
   "metadata": {},
   "outputs": [
    {
     "data": {
      "application/vnd.plotly.v1+json": {
       "config": {
        "plotlyServerURL": "https://plot.ly"
       },
       "data": [
        {
         "hovertemplate": "variable=stringency_index_normalized<br>Quarter=%{x}<br>value=%{y}<extra></extra>",
         "legendgroup": "stringency_index_normalized",
         "line": {
          "color": "#636efa",
          "dash": "solid"
         },
         "marker": {
          "symbol": "circle"
         },
         "mode": "lines",
         "name": "stringency_index_normalized",
         "orientation": "v",
         "showlegend": true,
         "type": "scatter",
         "x": [
          "2020-01-01T00:00:00",
          "2020-04-01T00:00:00",
          "2020-07-01T00:00:00",
          "2020-10-01T00:00:00",
          "2021-01-01T00:00:00",
          "2021-04-01T00:00:00",
          "2021-07-01T00:00:00",
          "2021-10-01T00:00:00",
          "2022-01-01T00:00:00",
          "2022-04-01T00:00:00",
          "2022-07-01T00:00:00"
         ],
         "xaxis": "x",
         "y": [
          null,
          1.1446950083922767,
          0.026395707243634645,
          0.8025300470903349,
          1.200639682107177,
          0.7032099593436696,
          -0.13384163186392248,
          -0.19116316411816323,
          -0.45042188682494094,
          -1.40923364496308,
          -1.6928100764069833
         ],
         "yaxis": "y"
        },
        {
         "hovertemplate": "variable=GDP_normalized<br>Quarter=%{x}<br>value=%{y}<extra></extra>",
         "legendgroup": "GDP_normalized",
         "line": {
          "color": "#EF553B",
          "dash": "solid"
         },
         "marker": {
          "symbol": "circle"
         },
         "mode": "lines",
         "name": "GDP_normalized",
         "orientation": "v",
         "showlegend": true,
         "type": "scatter",
         "x": [
          "2020-01-01T00:00:00",
          "2020-04-01T00:00:00",
          "2020-07-01T00:00:00",
          "2020-10-01T00:00:00",
          "2021-01-01T00:00:00",
          "2021-04-01T00:00:00",
          "2021-07-01T00:00:00",
          "2021-10-01T00:00:00",
          "2022-01-01T00:00:00",
          "2022-04-01T00:00:00",
          "2022-07-01T00:00:00"
         ],
         "xaxis": "x",
         "y": [
          -0.6790587225402803,
          -2.1405111906161007,
          2.171675721360703,
          -0.11973740759768227,
          -0.06560953840968892,
          0.2952429228436001,
          0.34937079203159344,
          0.042646199966297794,
          0.042646199966297794,
          0.09677406915429115,
          0.006560953840968894
         ],
         "yaxis": "y"
        },
        {
         "hovertemplate": "variable=new_cases_per_million_normalized<br>Quarter=%{x}<br>value=%{y}<extra></extra>",
         "legendgroup": "new_cases_per_million_normalized",
         "line": {
          "color": "#00cc96",
          "dash": "solid"
         },
         "marker": {
          "symbol": "circle"
         },
         "mode": "lines",
         "name": "new_cases_per_million_normalized",
         "orientation": "v",
         "showlegend": true,
         "type": "scatter",
         "x": [
          "2020-01-01T00:00:00",
          "2020-04-01T00:00:00",
          "2020-07-01T00:00:00",
          "2020-10-01T00:00:00",
          "2021-01-01T00:00:00",
          "2021-04-01T00:00:00",
          "2021-07-01T00:00:00",
          "2021-10-01T00:00:00",
          "2022-01-01T00:00:00",
          "2022-04-01T00:00:00",
          "2022-07-01T00:00:00"
         ],
         "xaxis": "x",
         "y": [
          null,
          -0.7379844985457461,
          -0.7140613319533279,
          -0.2575082754395469,
          -0.27164255533594717,
          -0.5109483563882119,
          -0.4789235457099864,
          0.12461850933623664,
          2.69780872819276,
          0.14577096081549223,
          0.0028703650282761936
         ],
         "yaxis": "y"
        }
       ],
       "layout": {
        "legend": {
         "title": {
          "text": "variable"
         },
         "tracegroupgap": 0
        },
        "margin": {
         "t": 60
        },
        "template": {
         "data": {
          "bar": [
           {
            "error_x": {
             "color": "#2a3f5f"
            },
            "error_y": {
             "color": "#2a3f5f"
            },
            "marker": {
             "line": {
              "color": "#E5ECF6",
              "width": 0.5
             },
             "pattern": {
              "fillmode": "overlay",
              "size": 10,
              "solidity": 0.2
             }
            },
            "type": "bar"
           }
          ],
          "barpolar": [
           {
            "marker": {
             "line": {
              "color": "#E5ECF6",
              "width": 0.5
             },
             "pattern": {
              "fillmode": "overlay",
              "size": 10,
              "solidity": 0.2
             }
            },
            "type": "barpolar"
           }
          ],
          "carpet": [
           {
            "aaxis": {
             "endlinecolor": "#2a3f5f",
             "gridcolor": "white",
             "linecolor": "white",
             "minorgridcolor": "white",
             "startlinecolor": "#2a3f5f"
            },
            "baxis": {
             "endlinecolor": "#2a3f5f",
             "gridcolor": "white",
             "linecolor": "white",
             "minorgridcolor": "white",
             "startlinecolor": "#2a3f5f"
            },
            "type": "carpet"
           }
          ],
          "choropleth": [
           {
            "colorbar": {
             "outlinewidth": 0,
             "ticks": ""
            },
            "type": "choropleth"
           }
          ],
          "contour": [
           {
            "colorbar": {
             "outlinewidth": 0,
             "ticks": ""
            },
            "colorscale": [
             [
              0,
              "#0d0887"
             ],
             [
              0.1111111111111111,
              "#46039f"
             ],
             [
              0.2222222222222222,
              "#7201a8"
             ],
             [
              0.3333333333333333,
              "#9c179e"
             ],
             [
              0.4444444444444444,
              "#bd3786"
             ],
             [
              0.5555555555555556,
              "#d8576b"
             ],
             [
              0.6666666666666666,
              "#ed7953"
             ],
             [
              0.7777777777777778,
              "#fb9f3a"
             ],
             [
              0.8888888888888888,
              "#fdca26"
             ],
             [
              1,
              "#f0f921"
             ]
            ],
            "type": "contour"
           }
          ],
          "contourcarpet": [
           {
            "colorbar": {
             "outlinewidth": 0,
             "ticks": ""
            },
            "type": "contourcarpet"
           }
          ],
          "heatmap": [
           {
            "colorbar": {
             "outlinewidth": 0,
             "ticks": ""
            },
            "colorscale": [
             [
              0,
              "#0d0887"
             ],
             [
              0.1111111111111111,
              "#46039f"
             ],
             [
              0.2222222222222222,
              "#7201a8"
             ],
             [
              0.3333333333333333,
              "#9c179e"
             ],
             [
              0.4444444444444444,
              "#bd3786"
             ],
             [
              0.5555555555555556,
              "#d8576b"
             ],
             [
              0.6666666666666666,
              "#ed7953"
             ],
             [
              0.7777777777777778,
              "#fb9f3a"
             ],
             [
              0.8888888888888888,
              "#fdca26"
             ],
             [
              1,
              "#f0f921"
             ]
            ],
            "type": "heatmap"
           }
          ],
          "heatmapgl": [
           {
            "colorbar": {
             "outlinewidth": 0,
             "ticks": ""
            },
            "colorscale": [
             [
              0,
              "#0d0887"
             ],
             [
              0.1111111111111111,
              "#46039f"
             ],
             [
              0.2222222222222222,
              "#7201a8"
             ],
             [
              0.3333333333333333,
              "#9c179e"
             ],
             [
              0.4444444444444444,
              "#bd3786"
             ],
             [
              0.5555555555555556,
              "#d8576b"
             ],
             [
              0.6666666666666666,
              "#ed7953"
             ],
             [
              0.7777777777777778,
              "#fb9f3a"
             ],
             [
              0.8888888888888888,
              "#fdca26"
             ],
             [
              1,
              "#f0f921"
             ]
            ],
            "type": "heatmapgl"
           }
          ],
          "histogram": [
           {
            "marker": {
             "pattern": {
              "fillmode": "overlay",
              "size": 10,
              "solidity": 0.2
             }
            },
            "type": "histogram"
           }
          ],
          "histogram2d": [
           {
            "colorbar": {
             "outlinewidth": 0,
             "ticks": ""
            },
            "colorscale": [
             [
              0,
              "#0d0887"
             ],
             [
              0.1111111111111111,
              "#46039f"
             ],
             [
              0.2222222222222222,
              "#7201a8"
             ],
             [
              0.3333333333333333,
              "#9c179e"
             ],
             [
              0.4444444444444444,
              "#bd3786"
             ],
             [
              0.5555555555555556,
              "#d8576b"
             ],
             [
              0.6666666666666666,
              "#ed7953"
             ],
             [
              0.7777777777777778,
              "#fb9f3a"
             ],
             [
              0.8888888888888888,
              "#fdca26"
             ],
             [
              1,
              "#f0f921"
             ]
            ],
            "type": "histogram2d"
           }
          ],
          "histogram2dcontour": [
           {
            "colorbar": {
             "outlinewidth": 0,
             "ticks": ""
            },
            "colorscale": [
             [
              0,
              "#0d0887"
             ],
             [
              0.1111111111111111,
              "#46039f"
             ],
             [
              0.2222222222222222,
              "#7201a8"
             ],
             [
              0.3333333333333333,
              "#9c179e"
             ],
             [
              0.4444444444444444,
              "#bd3786"
             ],
             [
              0.5555555555555556,
              "#d8576b"
             ],
             [
              0.6666666666666666,
              "#ed7953"
             ],
             [
              0.7777777777777778,
              "#fb9f3a"
             ],
             [
              0.8888888888888888,
              "#fdca26"
             ],
             [
              1,
              "#f0f921"
             ]
            ],
            "type": "histogram2dcontour"
           }
          ],
          "mesh3d": [
           {
            "colorbar": {
             "outlinewidth": 0,
             "ticks": ""
            },
            "type": "mesh3d"
           }
          ],
          "parcoords": [
           {
            "line": {
             "colorbar": {
              "outlinewidth": 0,
              "ticks": ""
             }
            },
            "type": "parcoords"
           }
          ],
          "pie": [
           {
            "automargin": true,
            "type": "pie"
           }
          ],
          "scatter": [
           {
            "fillpattern": {
             "fillmode": "overlay",
             "size": 10,
             "solidity": 0.2
            },
            "type": "scatter"
           }
          ],
          "scatter3d": [
           {
            "line": {
             "colorbar": {
              "outlinewidth": 0,
              "ticks": ""
             }
            },
            "marker": {
             "colorbar": {
              "outlinewidth": 0,
              "ticks": ""
             }
            },
            "type": "scatter3d"
           }
          ],
          "scattercarpet": [
           {
            "marker": {
             "colorbar": {
              "outlinewidth": 0,
              "ticks": ""
             }
            },
            "type": "scattercarpet"
           }
          ],
          "scattergeo": [
           {
            "marker": {
             "colorbar": {
              "outlinewidth": 0,
              "ticks": ""
             }
            },
            "type": "scattergeo"
           }
          ],
          "scattergl": [
           {
            "marker": {
             "colorbar": {
              "outlinewidth": 0,
              "ticks": ""
             }
            },
            "type": "scattergl"
           }
          ],
          "scattermapbox": [
           {
            "marker": {
             "colorbar": {
              "outlinewidth": 0,
              "ticks": ""
             }
            },
            "type": "scattermapbox"
           }
          ],
          "scatterpolar": [
           {
            "marker": {
             "colorbar": {
              "outlinewidth": 0,
              "ticks": ""
             }
            },
            "type": "scatterpolar"
           }
          ],
          "scatterpolargl": [
           {
            "marker": {
             "colorbar": {
              "outlinewidth": 0,
              "ticks": ""
             }
            },
            "type": "scatterpolargl"
           }
          ],
          "scatterternary": [
           {
            "marker": {
             "colorbar": {
              "outlinewidth": 0,
              "ticks": ""
             }
            },
            "type": "scatterternary"
           }
          ],
          "surface": [
           {
            "colorbar": {
             "outlinewidth": 0,
             "ticks": ""
            },
            "colorscale": [
             [
              0,
              "#0d0887"
             ],
             [
              0.1111111111111111,
              "#46039f"
             ],
             [
              0.2222222222222222,
              "#7201a8"
             ],
             [
              0.3333333333333333,
              "#9c179e"
             ],
             [
              0.4444444444444444,
              "#bd3786"
             ],
             [
              0.5555555555555556,
              "#d8576b"
             ],
             [
              0.6666666666666666,
              "#ed7953"
             ],
             [
              0.7777777777777778,
              "#fb9f3a"
             ],
             [
              0.8888888888888888,
              "#fdca26"
             ],
             [
              1,
              "#f0f921"
             ]
            ],
            "type": "surface"
           }
          ],
          "table": [
           {
            "cells": {
             "fill": {
              "color": "#EBF0F8"
             },
             "line": {
              "color": "white"
             }
            },
            "header": {
             "fill": {
              "color": "#C8D4E3"
             },
             "line": {
              "color": "white"
             }
            },
            "type": "table"
           }
          ]
         },
         "layout": {
          "annotationdefaults": {
           "arrowcolor": "#2a3f5f",
           "arrowhead": 0,
           "arrowwidth": 1
          },
          "autotypenumbers": "strict",
          "coloraxis": {
           "colorbar": {
            "outlinewidth": 0,
            "ticks": ""
           }
          },
          "colorscale": {
           "diverging": [
            [
             0,
             "#8e0152"
            ],
            [
             0.1,
             "#c51b7d"
            ],
            [
             0.2,
             "#de77ae"
            ],
            [
             0.3,
             "#f1b6da"
            ],
            [
             0.4,
             "#fde0ef"
            ],
            [
             0.5,
             "#f7f7f7"
            ],
            [
             0.6,
             "#e6f5d0"
            ],
            [
             0.7,
             "#b8e186"
            ],
            [
             0.8,
             "#7fbc41"
            ],
            [
             0.9,
             "#4d9221"
            ],
            [
             1,
             "#276419"
            ]
           ],
           "sequential": [
            [
             0,
             "#0d0887"
            ],
            [
             0.1111111111111111,
             "#46039f"
            ],
            [
             0.2222222222222222,
             "#7201a8"
            ],
            [
             0.3333333333333333,
             "#9c179e"
            ],
            [
             0.4444444444444444,
             "#bd3786"
            ],
            [
             0.5555555555555556,
             "#d8576b"
            ],
            [
             0.6666666666666666,
             "#ed7953"
            ],
            [
             0.7777777777777778,
             "#fb9f3a"
            ],
            [
             0.8888888888888888,
             "#fdca26"
            ],
            [
             1,
             "#f0f921"
            ]
           ],
           "sequentialminus": [
            [
             0,
             "#0d0887"
            ],
            [
             0.1111111111111111,
             "#46039f"
            ],
            [
             0.2222222222222222,
             "#7201a8"
            ],
            [
             0.3333333333333333,
             "#9c179e"
            ],
            [
             0.4444444444444444,
             "#bd3786"
            ],
            [
             0.5555555555555556,
             "#d8576b"
            ],
            [
             0.6666666666666666,
             "#ed7953"
            ],
            [
             0.7777777777777778,
             "#fb9f3a"
            ],
            [
             0.8888888888888888,
             "#fdca26"
            ],
            [
             1,
             "#f0f921"
            ]
           ]
          },
          "colorway": [
           "#636efa",
           "#EF553B",
           "#00cc96",
           "#ab63fa",
           "#FFA15A",
           "#19d3f3",
           "#FF6692",
           "#B6E880",
           "#FF97FF",
           "#FECB52"
          ],
          "font": {
           "color": "#2a3f5f"
          },
          "geo": {
           "bgcolor": "white",
           "lakecolor": "white",
           "landcolor": "#E5ECF6",
           "showlakes": true,
           "showland": true,
           "subunitcolor": "white"
          },
          "hoverlabel": {
           "align": "left"
          },
          "hovermode": "closest",
          "mapbox": {
           "style": "light"
          },
          "paper_bgcolor": "white",
          "plot_bgcolor": "#E5ECF6",
          "polar": {
           "angularaxis": {
            "gridcolor": "white",
            "linecolor": "white",
            "ticks": ""
           },
           "bgcolor": "#E5ECF6",
           "radialaxis": {
            "gridcolor": "white",
            "linecolor": "white",
            "ticks": ""
           }
          },
          "scene": {
           "xaxis": {
            "backgroundcolor": "#E5ECF6",
            "gridcolor": "white",
            "gridwidth": 2,
            "linecolor": "white",
            "showbackground": true,
            "ticks": "",
            "zerolinecolor": "white"
           },
           "yaxis": {
            "backgroundcolor": "#E5ECF6",
            "gridcolor": "white",
            "gridwidth": 2,
            "linecolor": "white",
            "showbackground": true,
            "ticks": "",
            "zerolinecolor": "white"
           },
           "zaxis": {
            "backgroundcolor": "#E5ECF6",
            "gridcolor": "white",
            "gridwidth": 2,
            "linecolor": "white",
            "showbackground": true,
            "ticks": "",
            "zerolinecolor": "white"
           }
          },
          "shapedefaults": {
           "line": {
            "color": "#2a3f5f"
           }
          },
          "ternary": {
           "aaxis": {
            "gridcolor": "white",
            "linecolor": "white",
            "ticks": ""
           },
           "baxis": {
            "gridcolor": "white",
            "linecolor": "white",
            "ticks": ""
           },
           "bgcolor": "#E5ECF6",
           "caxis": {
            "gridcolor": "white",
            "linecolor": "white",
            "ticks": ""
           }
          },
          "title": {
           "x": 0.05
          },
          "xaxis": {
           "automargin": true,
           "gridcolor": "white",
           "linecolor": "white",
           "ticks": "",
           "title": {
            "standoff": 15
           },
           "zerolinecolor": "white",
           "zerolinewidth": 2
          },
          "yaxis": {
           "automargin": true,
           "gridcolor": "white",
           "linecolor": "white",
           "ticks": "",
           "title": {
            "standoff": 15
           },
           "zerolinecolor": "white",
           "zerolinewidth": 2
          }
         }
        },
        "title": {
         "text": "Intensité de confinement et PIB en fonction du nombre de nouveaux cas"
        },
        "xaxis": {
         "anchor": "y",
         "domain": [
          0,
          1
         ],
         "title": {
          "text": "Nombre de nouveaux cas par million"
         }
        },
        "yaxis": {
         "anchor": "x",
         "domain": [
          0,
          1
         ],
         "title": {
          "text": "value"
         }
        }
       }
      }
     },
     "metadata": {},
     "output_type": "display_data"
    }
   ],
   "source": [
    "# fig_7\n",
    "\n",
    "data_eur['GDP_normalized'] = (data_eur['GDP']-data_eur['GDP'].mean())/data_eur['GDP'].std()\n",
    "data_eur['stringency_index_normalized'] = (data_eur['stringency_index']-data_eur['stringency_index'].mean())/data_eur['stringency_index'].std()\n",
    "data_eur['new_cases_per_million_normalized'] = (data_eur['new_cases_per_million']-data_eur['new_cases_per_million'].mean())/data_eur['new_cases_per_million'].std()\n",
    "\n",
    "# fig_europe_STI_GDP_cases = px.scatter(data_eur, x='new_cases_per_million', y=['stringency_index', 'GDP'], template=template)\n",
    "fig_europe_STI_GDP_cases = px.line(data_eur, x='Quarter', y=['stringency_index_normalized', 'GDP_normalized', 'new_cases_per_million_normalized'])\n",
    "\n",
    "fig_europe_STI_GDP_cases.update_layout(\n",
    "    title='Intensité de confinement et PIB en fonction du nombre de nouveaux cas',\n",
    "    xaxis_title=\"Nombre de nouveaux cas par million\"\n",
    ")\n",
    "\n",
    "fig_europe_STI_GDP_cases.show()"
   ]
  },
  {
   "cell_type": "code",
   "execution_count": null,
   "metadata": {},
   "outputs": [],
   "source": [
    "\n",
    "#\n"
   ]
  }
 ],
 "metadata": {
  "kernelspec": {
   "display_name": "projet_blanc",
   "language": "python",
   "name": "python3"
  },
  "language_info": {
   "codemirror_mode": {
    "name": "ipython",
    "version": 3
   },
   "file_extension": ".py",
   "mimetype": "text/x-python",
   "name": "python",
   "nbconvert_exporter": "python",
   "pygments_lexer": "ipython3",
   "version": "3.9.7"
  },
  "orig_nbformat": 4
 },
 "nbformat": 4,
 "nbformat_minor": 2
}
