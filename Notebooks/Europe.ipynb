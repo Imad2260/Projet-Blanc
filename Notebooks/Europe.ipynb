{
 "cells": [
  {
   "attachments": {},
   "cell_type": "markdown",
   "metadata": {},
   "source": [
    "EFFETS DU COVID SUR LECONOMIE DE LA ZONE EURO"
   ]
  },
  {
   "attachments": {},
   "cell_type": "markdown",
   "metadata": {},
   "source": [
    "Les pays de la Zone Euro étudiés sont ceux présents avant le 01/01/2023 :\n",
    "Austria, Belgium, Cyprus, Estonia, Finland, France, Germany, Ireland, Italy, Latvia, Lithuania, Luxembourg, Malta, Netherlands, Portugal, Slovakia, Slovenia, Spain, Greece"
   ]
  },
  {
   "cell_type": "code",
   "execution_count": 1,
   "metadata": {},
   "outputs": [],
   "source": [
    "# Librairies\n",
    "\n",
    "import pandas as pd\n",
    "import gzip\n",
    "import numpy as np\n",
    "import seaborn as sn\n",
    "from datetime import datetime\n",
    "import matplotlib.pyplot as plt\n",
    "\n",
    "import plotly.graph_objects as go\n",
    "import plotly.express as px"
   ]
  },
  {
   "cell_type": "code",
   "execution_count": 2,
   "metadata": {},
   "outputs": [],
   "source": [
    "# Listes des pays de la zone euro (avant 2023) \n",
    "\n",
    "euro_area_19 = ['Austria', 'Belgium', 'Cyprus', 'Estonia', 'Finland', 'France', 'Germany', 'Ireland', 'Italy', 'Latvia', 'Lithuania', 'Luxembourg', 'Malta', 'Netherlands', 'Portugal', 'Slovakia', 'Slovenia', 'Spain', 'Greece']\n",
    "euro_area_19_ISO = ['AT', 'BE', 'CY', 'EE', 'FI', 'FR', 'DE', 'IE', 'IT', 'LV', 'LT', 'LU','MT', 'NL', 'PT', 'SK', 'SI', 'ES', 'GR' , 'EL']"
   ]
  },
  {
   "cell_type": "code",
   "execution_count": 5,
   "metadata": {},
   "outputs": [
    {
     "ename": "FileNotFoundError",
     "evalue": "[Errno 2] No such file or directory: '../Data/Donnees_Europe/Europe_human-development-index.csv'",
     "output_type": "error",
     "traceback": [
      "\u001b[1;31m---------------------------------------------------------------------------\u001b[0m",
      "\u001b[1;31mFileNotFoundError\u001b[0m                         Traceback (most recent call last)",
      "\u001b[1;32m~\\AppData\\Local\\Temp\\ipykernel_1392\\2490307703.py\u001b[0m in \u001b[0;36m<module>\u001b[1;34m\u001b[0m\n\u001b[0;32m      8\u001b[0m \u001b[0mcols_pop\u001b[0m \u001b[1;33m=\u001b[0m \u001b[1;33m[\u001b[0m\u001b[1;34m'TIME_PERIOD'\u001b[0m\u001b[1;33m,\u001b[0m \u001b[1;34m'OBS_VALUE'\u001b[0m\u001b[1;33m]\u001b[0m\u001b[1;33m\u001b[0m\u001b[1;33m\u001b[0m\u001b[0m\n\u001b[0;32m      9\u001b[0m \u001b[1;33m\u001b[0m\u001b[0m\n\u001b[1;32m---> 10\u001b[1;33m \u001b[0mhdi_Europe\u001b[0m \u001b[1;33m=\u001b[0m \u001b[0mpd\u001b[0m\u001b[1;33m.\u001b[0m\u001b[0mread_csv\u001b[0m\u001b[1;33m(\u001b[0m\u001b[0mchemin_europe\u001b[0m\u001b[1;33m+\u001b[0m\u001b[1;34m'Europe_human-development-index.csv'\u001b[0m\u001b[1;33m)\u001b[0m\u001b[1;33m\u001b[0m\u001b[1;33m\u001b[0m\u001b[0m\n\u001b[0m\u001b[0;32m     11\u001b[0m \u001b[0mbd_hdi_eur\u001b[0m \u001b[1;33m=\u001b[0m \u001b[0mhdi_Europe\u001b[0m\u001b[1;33m.\u001b[0m\u001b[0mloc\u001b[0m\u001b[1;33m[\u001b[0m\u001b[0mhdi_Europe\u001b[0m\u001b[1;33m.\u001b[0m\u001b[0mEntity\u001b[0m\u001b[1;33m.\u001b[0m\u001b[0misin\u001b[0m\u001b[1;33m(\u001b[0m\u001b[0meuro_area_19\u001b[0m\u001b[1;33m)\u001b[0m\u001b[1;33m]\u001b[0m\u001b[1;33m\u001b[0m\u001b[1;33m\u001b[0m\u001b[0m\n\u001b[0;32m     12\u001b[0m \u001b[1;33m\u001b[0m\u001b[0m\n",
      "\u001b[1;32mc:\\Users\\selim\\anaconda3\\lib\\site-packages\\pandas\\util\\_decorators.py\u001b[0m in \u001b[0;36mwrapper\u001b[1;34m(*args, **kwargs)\u001b[0m\n\u001b[0;32m    309\u001b[0m                     \u001b[0mstacklevel\u001b[0m\u001b[1;33m=\u001b[0m\u001b[0mstacklevel\u001b[0m\u001b[1;33m,\u001b[0m\u001b[1;33m\u001b[0m\u001b[1;33m\u001b[0m\u001b[0m\n\u001b[0;32m    310\u001b[0m                 )\n\u001b[1;32m--> 311\u001b[1;33m             \u001b[1;32mreturn\u001b[0m \u001b[0mfunc\u001b[0m\u001b[1;33m(\u001b[0m\u001b[1;33m*\u001b[0m\u001b[0margs\u001b[0m\u001b[1;33m,\u001b[0m \u001b[1;33m**\u001b[0m\u001b[0mkwargs\u001b[0m\u001b[1;33m)\u001b[0m\u001b[1;33m\u001b[0m\u001b[1;33m\u001b[0m\u001b[0m\n\u001b[0m\u001b[0;32m    312\u001b[0m \u001b[1;33m\u001b[0m\u001b[0m\n\u001b[0;32m    313\u001b[0m         \u001b[1;32mreturn\u001b[0m \u001b[0mwrapper\u001b[0m\u001b[1;33m\u001b[0m\u001b[1;33m\u001b[0m\u001b[0m\n",
      "\u001b[1;32mc:\\Users\\selim\\anaconda3\\lib\\site-packages\\pandas\\io\\parsers\\readers.py\u001b[0m in \u001b[0;36mread_csv\u001b[1;34m(filepath_or_buffer, sep, delimiter, header, names, index_col, usecols, squeeze, prefix, mangle_dupe_cols, dtype, engine, converters, true_values, false_values, skipinitialspace, skiprows, skipfooter, nrows, na_values, keep_default_na, na_filter, verbose, skip_blank_lines, parse_dates, infer_datetime_format, keep_date_col, date_parser, dayfirst, cache_dates, iterator, chunksize, compression, thousands, decimal, lineterminator, quotechar, quoting, doublequote, escapechar, comment, encoding, encoding_errors, dialect, error_bad_lines, warn_bad_lines, on_bad_lines, delim_whitespace, low_memory, memory_map, float_precision, storage_options)\u001b[0m\n\u001b[0;32m    676\u001b[0m     \u001b[0mkwds\u001b[0m\u001b[1;33m.\u001b[0m\u001b[0mupdate\u001b[0m\u001b[1;33m(\u001b[0m\u001b[0mkwds_defaults\u001b[0m\u001b[1;33m)\u001b[0m\u001b[1;33m\u001b[0m\u001b[1;33m\u001b[0m\u001b[0m\n\u001b[0;32m    677\u001b[0m \u001b[1;33m\u001b[0m\u001b[0m\n\u001b[1;32m--> 678\u001b[1;33m     \u001b[1;32mreturn\u001b[0m \u001b[0m_read\u001b[0m\u001b[1;33m(\u001b[0m\u001b[0mfilepath_or_buffer\u001b[0m\u001b[1;33m,\u001b[0m \u001b[0mkwds\u001b[0m\u001b[1;33m)\u001b[0m\u001b[1;33m\u001b[0m\u001b[1;33m\u001b[0m\u001b[0m\n\u001b[0m\u001b[0;32m    679\u001b[0m \u001b[1;33m\u001b[0m\u001b[0m\n\u001b[0;32m    680\u001b[0m \u001b[1;33m\u001b[0m\u001b[0m\n",
      "\u001b[1;32mc:\\Users\\selim\\anaconda3\\lib\\site-packages\\pandas\\io\\parsers\\readers.py\u001b[0m in \u001b[0;36m_read\u001b[1;34m(filepath_or_buffer, kwds)\u001b[0m\n\u001b[0;32m    573\u001b[0m \u001b[1;33m\u001b[0m\u001b[0m\n\u001b[0;32m    574\u001b[0m     \u001b[1;31m# Create the parser.\u001b[0m\u001b[1;33m\u001b[0m\u001b[1;33m\u001b[0m\u001b[0m\n\u001b[1;32m--> 575\u001b[1;33m     \u001b[0mparser\u001b[0m \u001b[1;33m=\u001b[0m \u001b[0mTextFileReader\u001b[0m\u001b[1;33m(\u001b[0m\u001b[0mfilepath_or_buffer\u001b[0m\u001b[1;33m,\u001b[0m \u001b[1;33m**\u001b[0m\u001b[0mkwds\u001b[0m\u001b[1;33m)\u001b[0m\u001b[1;33m\u001b[0m\u001b[1;33m\u001b[0m\u001b[0m\n\u001b[0m\u001b[0;32m    576\u001b[0m \u001b[1;33m\u001b[0m\u001b[0m\n\u001b[0;32m    577\u001b[0m     \u001b[1;32mif\u001b[0m \u001b[0mchunksize\u001b[0m \u001b[1;32mor\u001b[0m \u001b[0miterator\u001b[0m\u001b[1;33m:\u001b[0m\u001b[1;33m\u001b[0m\u001b[1;33m\u001b[0m\u001b[0m\n",
      "\u001b[1;32mc:\\Users\\selim\\anaconda3\\lib\\site-packages\\pandas\\io\\parsers\\readers.py\u001b[0m in \u001b[0;36m__init__\u001b[1;34m(self, f, engine, **kwds)\u001b[0m\n\u001b[0;32m    930\u001b[0m \u001b[1;33m\u001b[0m\u001b[0m\n\u001b[0;32m    931\u001b[0m         \u001b[0mself\u001b[0m\u001b[1;33m.\u001b[0m\u001b[0mhandles\u001b[0m\u001b[1;33m:\u001b[0m \u001b[0mIOHandles\u001b[0m \u001b[1;33m|\u001b[0m \u001b[1;32mNone\u001b[0m \u001b[1;33m=\u001b[0m \u001b[1;32mNone\u001b[0m\u001b[1;33m\u001b[0m\u001b[1;33m\u001b[0m\u001b[0m\n\u001b[1;32m--> 932\u001b[1;33m         \u001b[0mself\u001b[0m\u001b[1;33m.\u001b[0m\u001b[0m_engine\u001b[0m \u001b[1;33m=\u001b[0m \u001b[0mself\u001b[0m\u001b[1;33m.\u001b[0m\u001b[0m_make_engine\u001b[0m\u001b[1;33m(\u001b[0m\u001b[0mf\u001b[0m\u001b[1;33m,\u001b[0m \u001b[0mself\u001b[0m\u001b[1;33m.\u001b[0m\u001b[0mengine\u001b[0m\u001b[1;33m)\u001b[0m\u001b[1;33m\u001b[0m\u001b[1;33m\u001b[0m\u001b[0m\n\u001b[0m\u001b[0;32m    933\u001b[0m \u001b[1;33m\u001b[0m\u001b[0m\n\u001b[0;32m    934\u001b[0m     \u001b[1;32mdef\u001b[0m \u001b[0mclose\u001b[0m\u001b[1;33m(\u001b[0m\u001b[0mself\u001b[0m\u001b[1;33m)\u001b[0m\u001b[1;33m:\u001b[0m\u001b[1;33m\u001b[0m\u001b[1;33m\u001b[0m\u001b[0m\n",
      "\u001b[1;32mc:\\Users\\selim\\anaconda3\\lib\\site-packages\\pandas\\io\\parsers\\readers.py\u001b[0m in \u001b[0;36m_make_engine\u001b[1;34m(self, f, engine)\u001b[0m\n\u001b[0;32m   1214\u001b[0m             \u001b[1;31m# \"Union[str, PathLike[str], ReadCsvBuffer[bytes], ReadCsvBuffer[str]]\"\u001b[0m\u001b[1;33m\u001b[0m\u001b[1;33m\u001b[0m\u001b[0m\n\u001b[0;32m   1215\u001b[0m             \u001b[1;31m# , \"str\", \"bool\", \"Any\", \"Any\", \"Any\", \"Any\", \"Any\"\u001b[0m\u001b[1;33m\u001b[0m\u001b[1;33m\u001b[0m\u001b[0m\n\u001b[1;32m-> 1216\u001b[1;33m             self.handles = get_handle(  # type: ignore[call-overload]\n\u001b[0m\u001b[0;32m   1217\u001b[0m                 \u001b[0mf\u001b[0m\u001b[1;33m,\u001b[0m\u001b[1;33m\u001b[0m\u001b[1;33m\u001b[0m\u001b[0m\n\u001b[0;32m   1218\u001b[0m                 \u001b[0mmode\u001b[0m\u001b[1;33m,\u001b[0m\u001b[1;33m\u001b[0m\u001b[1;33m\u001b[0m\u001b[0m\n",
      "\u001b[1;32mc:\\Users\\selim\\anaconda3\\lib\\site-packages\\pandas\\io\\common.py\u001b[0m in \u001b[0;36mget_handle\u001b[1;34m(path_or_buf, mode, encoding, compression, memory_map, is_text, errors, storage_options)\u001b[0m\n\u001b[0;32m    784\u001b[0m         \u001b[1;32mif\u001b[0m \u001b[0mioargs\u001b[0m\u001b[1;33m.\u001b[0m\u001b[0mencoding\u001b[0m \u001b[1;32mand\u001b[0m \u001b[1;34m\"b\"\u001b[0m \u001b[1;32mnot\u001b[0m \u001b[1;32min\u001b[0m \u001b[0mioargs\u001b[0m\u001b[1;33m.\u001b[0m\u001b[0mmode\u001b[0m\u001b[1;33m:\u001b[0m\u001b[1;33m\u001b[0m\u001b[1;33m\u001b[0m\u001b[0m\n\u001b[0;32m    785\u001b[0m             \u001b[1;31m# Encoding\u001b[0m\u001b[1;33m\u001b[0m\u001b[1;33m\u001b[0m\u001b[0m\n\u001b[1;32m--> 786\u001b[1;33m             handle = open(\n\u001b[0m\u001b[0;32m    787\u001b[0m                 \u001b[0mhandle\u001b[0m\u001b[1;33m,\u001b[0m\u001b[1;33m\u001b[0m\u001b[1;33m\u001b[0m\u001b[0m\n\u001b[0;32m    788\u001b[0m                 \u001b[0mioargs\u001b[0m\u001b[1;33m.\u001b[0m\u001b[0mmode\u001b[0m\u001b[1;33m,\u001b[0m\u001b[1;33m\u001b[0m\u001b[1;33m\u001b[0m\u001b[0m\n",
      "\u001b[1;31mFileNotFoundError\u001b[0m: [Errno 2] No such file or directory: '../Data/Donnees_Europe/Europe_human-development-index.csv'"
     ]
    }
   ],
   "source": [
    "# Extractions des données\n",
    "\n",
    "chemin_fichier_covid = '../Data/Data 2/owid-covid-data.csv'\n",
    "chemin_europe = '../Data/Donnees_Europe/'\n",
    "\n",
    "cols_BD = ['geo', 'TIME_PERIOD', 'OBS_VALUE']\n",
    "cols_covid_eur = ['iso_code', 'continent', 'location', 'date', 'total_cases_per_million', 'new_cases_per_million', 'reproduction_rate', 'total_vaccinations_per_hundred', 'people_vaccinated_per_hundred', 'people_fully_vaccinated_per_hundred', 'stringency_index', 'hospital_beds_per_thousand', 'human_development_index']\n",
    "cols_pop = ['TIME_PERIOD', 'OBS_VALUE']\n",
    "\n",
    "hdi_Europe = pd.read_csv(chemin_europe+'Europe_human-development-index.csv')\n",
    "bd_hdi_eur = hdi_Europe.loc[hdi_Europe.Entity.isin(euro_area_19)]\n",
    "\n",
    "expenditure_travels_Europe = pd.read_csv(chemin_europe+'Europe_expenditure_travels.csv.gz', compression='gzip', sep = ',')\n",
    "bd_expenditure_travels_eur = expenditure_travels_Europe.loc[expenditure_travels_Europe.geo == 'EA19']\n",
    "\n",
    "inflation_Europe = pd.read_csv(chemin_europe+'Europe_inflation.csv.gz', compression='gzip', sep = ',')\n",
    "bd_inflation_eur = inflation_Europe.loc[inflation_Europe.geo == 'EA19']\n",
    "\n",
    "# -----------------------------------------------------------\n",
    "\n",
    "population_Europe = pd.read_csv(chemin_europe+'Europe_Population.csv', sep = ',', skiprows=5, usecols=[0,1])\n",
    "population_Europe.columns = ['TIME_PERIOD', 'OBS_VALUE']\n",
    "\n",
    "bd_population_eur = pd.DataFrame(columns = cols_pop)\n",
    "bd_population_eur.TIME_PERIOD = population_Europe.TIME_PERIOD.loc[population_Europe.TIME_PERIOD >= 2017]\n",
    "bd_population_eur.OBS_VALUE = population_Europe.OBS_VALUE.loc[population_Europe.TIME_PERIOD >= 2017]\n",
    "\n",
    "del population_Europe\n",
    "\n",
    "# -----------------------------------------------------------\n",
    "\n",
    "covid_Europe = pd.read_csv(chemin_fichier_covid, usecols= cols_covid_eur)\n",
    "\n",
    "bd_covid_eur = covid_Europe.loc[covid_Europe.location.isin(euro_area_19)]\n",
    "bd_covid_eur = bd_covid_eur[cols_covid_eur]\n",
    "bd_covid_eur['date'] = pd.to_datetime(bd_covid_eur['date'])\n",
    "bd_covid_eur['Quarter'] = bd_covid_eur['date']\n",
    "bd_covid_eur['Quarter'] = pd.PeriodIndex(bd_covid_eur['Quarter'], freq='Q').to_timestamp()\n",
    "\n",
    "del covid_Europe\n",
    "\n",
    "# -----------------------------------------------------------\n",
    "\n",
    "gdp_Europe = pd.read_csv(chemin_europe+'Europe_GDP.csv.gz', compression='gzip', sep = ',')\n",
    "bd_gdp_eur = gdp_Europe.loc[gdp_Europe.geo == 'EA19']\n",
    "\n",
    "chomage_Europe = pd.read_csv(chemin_europe+'Europe_Chomage.csv.gz', compression='gzip', sep = ',')\n",
    "bd_chomage_eur = chomage_Europe.loc[chomage_Europe.geo == 'EA19']\n",
    "bd_chomage_eur = bd_chomage_eur.loc[chomage_Europe.unit == 'PC_POP']\n",
    "\n",
    "revenus_foyers_Europe = pd.read_csv(chemin_europe+'Europe_Revenus_foyers.csv.gz', compression='gzip', sep = ',')\n",
    "bd_revenus_foyers_eur = revenus_foyers_Europe.loc[revenus_foyers_Europe.geo == 'EA19'] \n",
    "\n",
    "bd_gdp_eur['TIME_PERIOD'] = list(pd.PeriodIndex(bd_gdp_eur.TIME_PERIOD, freq='Q')).to_timestamp()\n",
    "bd_chomage_eur['TIME_PERIOD'] = list(pd.PeriodIndex(bd_chomage_eur.TIME_PERIOD, freq='Q')).to_timestamp()\n",
    "bd_revenus_foyers_eur['TIME_PERIOD'] = list(pd.PeriodIndex(bd_revenus_foyers_eur.TIME_PERIOD, freq='Q')).to_timestamp()\n",
    "\n",
    "gdp_q = bd_gdp_eur.loc[pd.Period('2019Q1') <= bd_gdp_eur.TIME_PERIOD]\n",
    "gdp_q = gdp_q.loc[pd.Period('2022Q3') >= gdp_q.TIME_PERIOD]\n",
    "\n",
    "chom_q = bd_chomage_eur.loc[pd.Period('2019Q1') <= bd_chomage_eur.TIME_PERIOD]\n",
    "chom_q = chom_q.loc[pd.Period('2022Q3') >= chom_q.TIME_PERIOD]\n",
    "\n",
    "revenus_q = bd_revenus_foyers_eur.loc[pd.Period('2019Q1') <= bd_revenus_foyers_eur.TIME_PERIOD]\n",
    "revenus_q = revenus_q.loc[pd.Period('2022Q3') >= revenus_q.TIME_PERIOD]\n",
    "\n",
    "bd_quarters = pd.DataFrame(columns = ['Quarter', 'GDP', 'Chomage', 'Revenus'])\n",
    "\n",
    "bd_quarters['GDP'] = list(gdp_q.OBS_VALUE)\n",
    "bd_quarters['Chomage'] = list(chom_q.OBS_VALUE)\n",
    "bd_quarters['Revenus'] = list(revenus_q.OBS_VALUE)\n",
    "bd_quarters['Quarter'] = list(gdp_q.TIME_PERIOD)\n",
    "\n",
    "del chomage_Europe, gdp_Europe, revenus_foyers_Europe\n",
    "del bd_chomage_eur, bd_gdp_eur, bd_revenus_foyers_eur\n",
    "del gdp_q, chom_q, revenus_q\n",
    "\n",
    "# household_elec_prices_Europe = pd.read_csv(chemin_europe+'Europe_household_elec_prices.csv.gz', compression='gzip', sep = ',')\n",
    "# air_passengers_transport_Europe = pd.read_csv(chemin_europe+'Europe_air_passengers_transport.csv.gz', compression='gzip', sep = ',')\n",
    "# freight_transport_Europe = pd.read_csv(chemin_europe+'Europe_freight_transport.csv.gz', compression='gzip', sep = ',')\n",
    "# non_household_elec_prices_Europe = pd.read_csv(chemin_europe+'Europe_non_household_elec_prices.csv.gz', compression='gzip', sep = ',')"
   ]
  },
  {
   "attachments": {},
   "cell_type": "markdown",
   "metadata": {},
   "source": [
    "# "
   ]
  },
  {
   "cell_type": "markdown",
   "metadata": {},
   "source": []
  },
  {
   "cell_type": "code",
   "execution_count": null,
   "metadata": {},
   "outputs": [],
   "source": [
    "#"
   ]
  }
 ],
 "metadata": {
  "kernelspec": {
   "display_name": "projet_blanc",
   "language": "python",
   "name": "python3"
  },
  "language_info": {
   "codemirror_mode": {
    "name": "ipython",
    "version": 3
   },
   "file_extension": ".py",
   "mimetype": "text/x-python",
   "name": "python",
   "nbconvert_exporter": "python",
   "pygments_lexer": "ipython3",
   "version": "3.9.7"
  },
  "orig_nbformat": 4
 },
 "nbformat": 4,
 "nbformat_minor": 2
}
