{
 "cells": [
  {
   "cell_type": "code",
   "execution_count": 114,
   "metadata": {},
   "outputs": [],
   "source": [
    "import pandas as pd\n",
    "import seaborn as sn\n",
    "from datetime import datetime\n",
    "import numpy as np"
   ]
  },
  {
   "cell_type": "code",
   "execution_count": 106,
   "metadata": {},
   "outputs": [],
   "source": [
    "data_1 = pd.read_excel('../Data/Data 1/data.xlsx', sheet_name = 'Sheet2')\n",
    "data_2 = pd.read_csv('../Data/Data 3/data_PIB.csv', skiprows=6, header=None)\n",
    "\n",
    "data_1 = data_1[['location', 'date', 'total_cases', 'total_deaths', 'human_development_index', 'population', 'stringency_index']]\n",
    "data_1.columns = ['COUNTRY', 'DATE', 'TC', 'TD', 'HDI', 'POP', 'STI']\n",
    "data_1 = data_1[data_1.COUNTRY == 'France']\n",
    "data_1['DATE'] = pd.to_datetime(data_1['DATE'])\n",
    "data_1['Quarter'] = data_1['DATE']\n",
    "data_1['Quarter'] = pd.PeriodIndex(data_1['Quarter'], freq='Q')\n",
    "#data_1 = data_1[data_1.Quarter.isin(pd.PeriodIndex(['2020Q1', '2020Q2', '2020Q3', '2020Q4', '2021Q1', '2021Q2',\n",
    "#       '2021Q3', '2021Q4', '2022Q1', '2022Q2', '2022Q3', '2022Q4'], freq='Q'))]\n",
    "data_1.drop(['COUNTRY', 'DATE'], axis=1, inplace=True)\n",
    "\n",
    "data_2.drop([2], axis=1, inplace=True)\n",
    "data_2 = data_2[data_2[0] >= '2020Q1']\n",
    "data_2.rename(\n",
    "    columns={0: \"Quarter\", 1: \"PBI_var\"},\n",
    "    inplace=True,\n",
    ")\n",
    "data_2.sort_values(by='Quarter', ascending=True, inplace=True)\n",
    "data_2['Quarter'] = pd.PeriodIndex(data_2['Quarter'], freq='Q')\n",
    "\n",
    "#data_1.head(5)\n",
    "#data_2.head(5)"
   ]
  },
  {
   "cell_type": "code",
   "execution_count": 107,
   "metadata": {},
   "outputs": [
    {
     "name": "stdout",
     "output_type": "stream",
     "text": [
      "data_1 columns :  Index(['TC', 'TD', 'HDI', 'POP', 'STI', 'Quarter'], dtype='object')\n",
      "####################################################\"\n",
      "data_2 columns :  Index(['Quarter', 'PBI_var'], dtype='object')\n"
     ]
    }
   ],
   "source": [
    "print(\"data_1 columns : \", data_1.columns)\n",
    "print('####################################################\"')\n",
    "print(\"data_2 columns : \", data_2.columns)\n",
    "\n",
    "#data_1.head(5)\n",
    "#data_2.head(5)"
   ]
  },
  {
   "cell_type": "code",
   "execution_count": 117,
   "metadata": {},
   "outputs": [
    {
     "data": {
      "text/html": [
       "<div>\n",
       "<style scoped>\n",
       "    .dataframe tbody tr th:only-of-type {\n",
       "        vertical-align: middle;\n",
       "    }\n",
       "\n",
       "    .dataframe tbody tr th {\n",
       "        vertical-align: top;\n",
       "    }\n",
       "\n",
       "    .dataframe thead th {\n",
       "        text-align: right;\n",
       "    }\n",
       "</style>\n",
       "<table border=\"1\" class=\"dataframe\">\n",
       "  <thead>\n",
       "    <tr style=\"text-align: right;\">\n",
       "      <th></th>\n",
       "      <th>TC</th>\n",
       "      <th>TD</th>\n",
       "      <th>HDI</th>\n",
       "      <th>POP</th>\n",
       "      <th>STI</th>\n",
       "      <th>Quarter</th>\n",
       "      <th>PBI_var</th>\n",
       "    </tr>\n",
       "  </thead>\n",
       "  <tbody>\n",
       "    <tr>\n",
       "      <th>0</th>\n",
       "      <td>0.0</td>\n",
       "      <td>0.0</td>\n",
       "      <td>0.901</td>\n",
       "      <td>65273512</td>\n",
       "      <td>0.0</td>\n",
       "      <td>2020Q1</td>\n",
       "      <td>-5.1</td>\n",
       "    </tr>\n",
       "    <tr>\n",
       "      <th>1</th>\n",
       "      <td>0.0</td>\n",
       "      <td>0.0</td>\n",
       "      <td>0.901</td>\n",
       "      <td>65273512</td>\n",
       "      <td>0.0</td>\n",
       "      <td>2020Q1</td>\n",
       "      <td>-5.1</td>\n",
       "    </tr>\n",
       "    <tr>\n",
       "      <th>2</th>\n",
       "      <td>0.0</td>\n",
       "      <td>0.0</td>\n",
       "      <td>0.901</td>\n",
       "      <td>65273512</td>\n",
       "      <td>0.0</td>\n",
       "      <td>2020Q1</td>\n",
       "      <td>-5.1</td>\n",
       "    </tr>\n",
       "    <tr>\n",
       "      <th>3</th>\n",
       "      <td>0.0</td>\n",
       "      <td>0.0</td>\n",
       "      <td>0.901</td>\n",
       "      <td>65273512</td>\n",
       "      <td>0.0</td>\n",
       "      <td>2020Q1</td>\n",
       "      <td>-5.1</td>\n",
       "    </tr>\n",
       "    <tr>\n",
       "      <th>4</th>\n",
       "      <td>0.0</td>\n",
       "      <td>0.0</td>\n",
       "      <td>0.901</td>\n",
       "      <td>65273512</td>\n",
       "      <td>0.0</td>\n",
       "      <td>2020Q1</td>\n",
       "      <td>-5.1</td>\n",
       "    </tr>\n",
       "  </tbody>\n",
       "</table>\n",
       "</div>"
      ],
      "text/plain": [
       "    TC   TD    HDI       POP  STI Quarter  PBI_var\n",
       "0  0.0  0.0  0.901  65273512  0.0  2020Q1     -5.1\n",
       "1  0.0  0.0  0.901  65273512  0.0  2020Q1     -5.1\n",
       "2  0.0  0.0  0.901  65273512  0.0  2020Q1     -5.1\n",
       "3  0.0  0.0  0.901  65273512  0.0  2020Q1     -5.1\n",
       "4  0.0  0.0  0.901  65273512  0.0  2020Q1     -5.1"
      ]
     },
     "execution_count": 117,
     "metadata": {},
     "output_type": "execute_result"
    }
   ],
   "source": [
    "data = data_1.merge(data_2, on='Quarter', how='inner')\n",
    "data = data.fillna(0)\n",
    "data.head(5)"
   ]
  },
  {
   "cell_type": "code",
   "execution_count": 119,
   "metadata": {},
   "outputs": [],
   "source": [
    "data_monthly = data.groupby('Quarter').agg({\n",
    "                            'TC' : 'sum',\n",
    "                            'TD' : 'sum',\n",
    "                            'POP' : 'sum',\n",
    "                            'HDI' : 'mean',\n",
    "                            'STI' : 'mean'\n",
    "}).reset_index()"
   ]
  },
  {
   "cell_type": "code",
   "execution_count": 120,
   "metadata": {},
   "outputs": [
    {
     "data": {
      "text/html": [
       "<div>\n",
       "<style scoped>\n",
       "    .dataframe tbody tr th:only-of-type {\n",
       "        vertical-align: middle;\n",
       "    }\n",
       "\n",
       "    .dataframe tbody tr th {\n",
       "        vertical-align: top;\n",
       "    }\n",
       "\n",
       "    .dataframe thead th {\n",
       "        text-align: right;\n",
       "    }\n",
       "</style>\n",
       "<table border=\"1\" class=\"dataframe\">\n",
       "  <thead>\n",
       "    <tr style=\"text-align: right;\">\n",
       "      <th></th>\n",
       "      <th>Quarter</th>\n",
       "      <th>TC</th>\n",
       "      <th>TD</th>\n",
       "      <th>POP</th>\n",
       "      <th>HDI</th>\n",
       "      <th>STI</th>\n",
       "    </tr>\n",
       "  </thead>\n",
       "  <tbody>\n",
       "    <tr>\n",
       "      <th>0</th>\n",
       "      <td>2020Q1</td>\n",
       "      <td>355511.0</td>\n",
       "      <td>18098.0</td>\n",
       "      <td>5939889592</td>\n",
       "      <td>0.901</td>\n",
       "      <td>28.729011</td>\n",
       "    </tr>\n",
       "    <tr>\n",
       "      <th>1</th>\n",
       "      <td>2020Q2</td>\n",
       "      <td>12028471.0</td>\n",
       "      <td>2187016.0</td>\n",
       "      <td>5939889592</td>\n",
       "      <td>0.901</td>\n",
       "      <td>75.231538</td>\n",
       "    </tr>\n",
       "    <tr>\n",
       "      <th>2</th>\n",
       "      <td>2020Q3</td>\n",
       "      <td>24326158.0</td>\n",
       "      <td>2808006.0</td>\n",
       "      <td>6005163104</td>\n",
       "      <td>0.901</td>\n",
       "      <td>41.355543</td>\n",
       "    </tr>\n",
       "    <tr>\n",
       "      <th>3</th>\n",
       "      <td>2020Q4</td>\n",
       "      <td>13374195.0</td>\n",
       "      <td>620324.0</td>\n",
       "      <td>1240196728</td>\n",
       "      <td>0.901</td>\n",
       "      <td>22.149474</td>\n",
       "    </tr>\n",
       "  </tbody>\n",
       "</table>\n",
       "</div>"
      ],
      "text/plain": [
       "  Quarter          TC         TD         POP    HDI        STI\n",
       "0  2020Q1    355511.0    18098.0  5939889592  0.901  28.729011\n",
       "1  2020Q2  12028471.0  2187016.0  5939889592  0.901  75.231538\n",
       "2  2020Q3  24326158.0  2808006.0  6005163104  0.901  41.355543\n",
       "3  2020Q4  13374195.0   620324.0  1240196728  0.901  22.149474"
      ]
     },
     "execution_count": 120,
     "metadata": {},
     "output_type": "execute_result"
    }
   ],
   "source": [
    "data_monthly.head(5)"
   ]
  },
  {
   "cell_type": "code",
   "execution_count": null,
   "metadata": {},
   "outputs": [],
   "source": []
  }
 ],
 "metadata": {
  "kernelspec": {
   "display_name": "projet_blanc",
   "language": "python",
   "name": "python3"
  },
  "language_info": {
   "codemirror_mode": {
    "name": "ipython",
    "version": 3
   },
   "file_extension": ".py",
   "mimetype": "text/x-python",
   "name": "python",
   "nbconvert_exporter": "python",
   "pygments_lexer": "ipython3",
   "version": "3.9.0"
  },
  "orig_nbformat": 4
 },
 "nbformat": 4,
 "nbformat_minor": 2
}
